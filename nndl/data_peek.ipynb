{
 "cells": [
  {
   "cell_type": "markdown",
   "metadata": {},
   "source": [
    "### Training setup play"
   ]
  },
  {
   "cell_type": "code",
   "execution_count": 2,
   "metadata": {},
   "outputs": [],
   "source": [
    "import pickle"
   ]
  },
  {
   "cell_type": "markdown",
   "metadata": {},
   "source": [
    "## Robot Data Analysis"
   ]
  },
  {
   "cell_type": "markdown",
   "metadata": {},
   "source": [
    "Got 60 second's worth of frames and radar data from the church real test (Varun) - the case where he had 120 bpm HR. Now - look at the pickle file and see how it looks (the rf.pkl file in Equipleth data was a weird 5 element tuple; with the first element being a 2D array. Just need to figure out how the rf data differs; and how the rf_ppg calculation might differ. After that it's just FFTs being estimted and pushed into the fusion model)."
   ]
  },
  {
   "cell_type": "code",
   "execution_count": 23,
   "metadata": {},
   "outputs": [],
   "source": [
    "import pickle\n",
    "\n",
    "# Open the file in binary read mode\n",
    "with open('/Users/jamesemilian/triage/equipleth/experiment_data/M24-04_60s_sample/radar_data_pickle.pkl', 'rb') as file:\n",
    "    chiron_radar_data = pickle.load(file)\n"
   ]
  },
  {
   "cell_type": "code",
   "execution_count": 24,
   "metadata": {},
   "outputs": [
    {
     "data": {
      "text/plain": [
       "[array([0, 0, 0, ..., 0, 0, 0], dtype=uint8),\n",
       " array([0, 0, 0, ..., 0, 0, 0], dtype=uint8),\n",
       " array([0, 0, 0, ..., 0, 0, 0], dtype=uint8),\n",
       " array([0, 0, 0, ..., 0, 0, 0], dtype=uint8),\n",
       " array([0, 0, 0, ..., 0, 0, 0], dtype=uint8),\n",
       " array([0, 0, 0, ..., 0, 0, 0], dtype=uint8),\n",
       " array([0, 0, 0, ..., 0, 0, 0], dtype=uint8),\n",
       " array([0, 0, 0, ..., 0, 0, 0], dtype=uint8),\n",
       " array([0, 0, 0, ..., 0, 0, 0], dtype=uint8),\n",
       " array([0, 0, 0, ..., 0, 0, 0], dtype=uint8),\n",
       " array([0, 0, 0, ..., 0, 0, 0], dtype=uint8),\n",
       " array([0, 0, 0, ..., 0, 0, 0], dtype=uint8),\n",
       " array([0, 0, 0, ..., 0, 0, 0], dtype=uint8),\n",
       " array([0, 0, 0, ..., 0, 0, 0], dtype=uint8),\n",
       " array([0, 0, 0, ..., 0, 0, 0], dtype=uint8),\n",
       " array([0, 0, 0, ..., 0, 0, 0], dtype=uint8),\n",
       " array([0, 0, 0, ..., 0, 0, 0], dtype=uint8),\n",
       " array([0, 0, 0, ..., 0, 0, 0], dtype=uint8),\n",
       " array([0, 0, 0, ..., 0, 0, 0], dtype=uint8),\n",
       " array([0, 0, 0, ..., 0, 0, 0], dtype=uint8),\n",
       " array([0, 0, 0, ..., 0, 0, 0], dtype=uint8),\n",
       " array([0, 0, 0, ..., 0, 0, 0], dtype=uint8),\n",
       " array([0, 0, 0, ..., 0, 0, 0], dtype=uint8),\n",
       " array([0, 0, 0, ..., 0, 0, 0], dtype=uint8),\n",
       " array([0, 0, 0, ..., 0, 0, 0], dtype=uint8),\n",
       " array([0, 0, 0, ..., 0, 0, 0], dtype=uint8),\n",
       " array([0, 0, 0, ..., 0, 0, 0], dtype=uint8),\n",
       " array([0, 0, 0, ..., 0, 0, 0], dtype=uint8),\n",
       " array([0, 0, 0, ..., 0, 0, 0], dtype=uint8),\n",
       " array([0, 0, 0, ..., 0, 0, 0], dtype=uint8),\n",
       " array([0, 0, 0, ..., 0, 0, 0], dtype=uint8),\n",
       " array([0, 0, 0, ..., 0, 0, 0], dtype=uint8),\n",
       " array([0, 0, 0, ..., 0, 0, 0], dtype=uint8),\n",
       " array([0, 0, 0, ..., 0, 0, 0], dtype=uint8),\n",
       " array([0, 0, 0, ..., 0, 0, 0], dtype=uint8),\n",
       " array([0, 0, 0, ..., 0, 0, 0], dtype=uint8),\n",
       " array([0, 0, 0, ..., 0, 0, 0], dtype=uint8),\n",
       " array([0, 0, 0, ..., 0, 0, 0], dtype=uint8),\n",
       " array([0, 0, 0, ..., 0, 0, 0], dtype=uint8),\n",
       " array([0, 0, 0, ..., 0, 0, 0], dtype=uint8),\n",
       " array([0, 0, 0, ..., 0, 0, 0], dtype=uint8),\n",
       " array([0, 0, 0, ..., 0, 0, 0], dtype=uint8),\n",
       " array([0, 0, 0, ..., 0, 0, 0], dtype=uint8),\n",
       " array([0, 0, 0, ..., 0, 0, 0], dtype=uint8),\n",
       " array([0, 0, 0, ..., 0, 0, 0], dtype=uint8),\n",
       " array([0, 0, 0, ..., 0, 0, 0], dtype=uint8),\n",
       " array([0, 0, 0, ..., 0, 0, 0], dtype=uint8),\n",
       " array([0, 0, 0, ..., 0, 0, 0], dtype=uint8),\n",
       " array([0, 0, 0, ..., 0, 0, 0], dtype=uint8),\n",
       " array([0, 0, 0, ..., 0, 0, 0], dtype=uint8),\n",
       " array([0, 0, 0, ..., 0, 0, 0], dtype=uint8),\n",
       " array([0, 0, 0, ..., 0, 0, 0], dtype=uint8),\n",
       " array([0, 0, 0, ..., 0, 0, 0], dtype=uint8),\n",
       " array([0, 0, 0, ..., 0, 0, 0], dtype=uint8),\n",
       " array([0, 0, 0, ..., 0, 0, 0], dtype=uint8),\n",
       " array([0, 0, 0, ..., 0, 0, 0], dtype=uint8),\n",
       " array([0, 0, 0, ..., 0, 0, 0], dtype=uint8),\n",
       " array([0, 0, 0, ..., 0, 0, 0], dtype=uint8),\n",
       " array([0, 0, 0, ..., 0, 0, 0], dtype=uint8),\n",
       " array([0, 0, 0, ..., 0, 0, 0], dtype=uint8),\n",
       " array([0, 0, 0, ..., 0, 0, 0], dtype=uint8),\n",
       " array([0, 0, 0, ..., 0, 0, 0], dtype=uint8),\n",
       " array([0, 0, 0, ..., 0, 0, 0], dtype=uint8),\n",
       " array([0, 0, 0, ..., 0, 0, 0], dtype=uint8),\n",
       " array([0, 0, 0, ..., 0, 0, 0], dtype=uint8),\n",
       " array([0, 0, 0, ..., 0, 0, 0], dtype=uint8),\n",
       " array([0, 0, 0, ..., 0, 0, 0], dtype=uint8),\n",
       " array([0, 0, 0, ..., 0, 0, 0], dtype=uint8),\n",
       " array([0, 0, 0, ..., 0, 0, 0], dtype=uint8),\n",
       " array([0, 0, 0, ..., 0, 0, 0], dtype=uint8),\n",
       " array([0, 0, 0, ..., 0, 0, 0], dtype=uint8),\n",
       " array([0, 0, 0, ..., 0, 0, 0], dtype=uint8),\n",
       " array([0, 0, 0, ..., 0, 0, 0], dtype=uint8),\n",
       " array([0, 0, 0, ..., 0, 0, 0], dtype=uint8),\n",
       " array([0, 0, 0, ..., 0, 0, 0], dtype=uint8),\n",
       " array([0, 0, 0, ..., 0, 0, 0], dtype=uint8),\n",
       " array([0, 0, 0, ..., 0, 0, 0], dtype=uint8),\n",
       " array([0, 0, 0, ..., 0, 0, 0], dtype=uint8),\n",
       " array([0, 0, 0, ..., 0, 0, 0], dtype=uint8),\n",
       " array([0, 0, 0, ..., 0, 0, 0], dtype=uint8),\n",
       " array([0, 0, 0, ..., 0, 0, 0], dtype=uint8),\n",
       " array([0, 0, 0, ..., 0, 0, 0], dtype=uint8),\n",
       " array([0, 0, 0, ..., 0, 0, 0], dtype=uint8),\n",
       " array([0, 0, 0, ..., 0, 0, 0], dtype=uint8),\n",
       " array([0, 0, 0, ..., 0, 0, 0], dtype=uint8),\n",
       " array([0, 0, 0, ..., 0, 0, 0], dtype=uint8),\n",
       " array([0, 0, 0, ..., 0, 0, 0], dtype=uint8),\n",
       " array([0, 0, 0, ..., 0, 0, 0], dtype=uint8),\n",
       " array([0, 0, 0, ..., 0, 0, 0], dtype=uint8),\n",
       " array([0, 0, 0, ..., 0, 0, 0], dtype=uint8),\n",
       " array([0, 0, 0, ..., 0, 0, 0], dtype=uint8),\n",
       " array([0, 0, 0, ..., 0, 0, 0], dtype=uint8),\n",
       " array([0, 0, 0, ..., 0, 0, 0], dtype=uint8),\n",
       " array([0, 0, 0, ..., 0, 0, 0], dtype=uint8),\n",
       " array([0, 0, 0, ..., 0, 0, 0], dtype=uint8),\n",
       " array([0, 0, 0, ..., 0, 0, 0], dtype=uint8),\n",
       " array([0, 0, 0, ..., 0, 0, 0], dtype=uint8),\n",
       " array([0, 0, 0, ..., 0, 0, 0], dtype=uint8),\n",
       " array([0, 0, 0, ..., 0, 0, 0], dtype=uint8),\n",
       " array([0, 0, 0, ..., 0, 0, 0], dtype=uint8),\n",
       " array([0, 0, 0, ..., 0, 0, 0], dtype=uint8),\n",
       " array([0, 0, 0, ..., 0, 0, 0], dtype=uint8),\n",
       " array([0, 0, 0, ..., 0, 0, 0], dtype=uint8),\n",
       " array([0, 0, 0, ..., 0, 0, 0], dtype=uint8),\n",
       " array([0, 0, 0, ..., 0, 0, 0], dtype=uint8),\n",
       " array([0, 0, 0, ..., 0, 0, 0], dtype=uint8),\n",
       " array([0, 0, 0, ..., 0, 0, 0], dtype=uint8),\n",
       " array([0, 0, 0, ..., 0, 0, 0], dtype=uint8),\n",
       " array([0, 0, 0, ..., 0, 0, 0], dtype=uint8),\n",
       " array([0, 0, 0, ..., 0, 0, 0], dtype=uint8),\n",
       " array([0, 0, 0, ..., 0, 0, 0], dtype=uint8),\n",
       " array([0, 0, 0, ..., 0, 0, 0], dtype=uint8),\n",
       " array([0, 0, 0, ..., 0, 0, 0], dtype=uint8),\n",
       " array([0, 0, 0, ..., 0, 0, 0], dtype=uint8),\n",
       " array([0, 0, 0, ..., 0, 0, 0], dtype=uint8),\n",
       " array([0, 0, 0, ..., 0, 0, 0], dtype=uint8),\n",
       " array([0, 0, 0, ..., 0, 0, 0], dtype=uint8),\n",
       " array([0, 0, 0, ..., 0, 0, 0], dtype=uint8),\n",
       " array([0, 0, 0, ..., 0, 0, 0], dtype=uint8),\n",
       " array([0, 0, 0, ..., 0, 0, 0], dtype=uint8),\n",
       " array([0, 0, 0, ..., 0, 0, 0], dtype=uint8),\n",
       " array([0, 0, 0, ..., 0, 0, 0], dtype=uint8),\n",
       " array([0, 0, 0, ..., 0, 0, 0], dtype=uint8),\n",
       " array([0, 0, 0, ..., 0, 0, 0], dtype=uint8),\n",
       " array([0, 0, 0, ..., 0, 0, 0], dtype=uint8),\n",
       " array([0, 0, 0, ..., 0, 0, 0], dtype=uint8),\n",
       " array([0, 0, 0, ..., 0, 0, 0], dtype=uint8),\n",
       " array([0, 0, 0, ..., 0, 0, 0], dtype=uint8),\n",
       " array([0, 0, 0, ..., 0, 0, 0], dtype=uint8),\n",
       " array([0, 0, 0, ..., 0, 0, 0], dtype=uint8),\n",
       " array([0, 0, 0, ..., 0, 0, 0], dtype=uint8),\n",
       " array([0, 0, 0, ..., 0, 0, 0], dtype=uint8),\n",
       " array([0, 0, 0, ..., 0, 0, 0], dtype=uint8),\n",
       " array([0, 0, 0, ..., 0, 0, 0], dtype=uint8),\n",
       " array([0, 0, 0, ..., 0, 0, 0], dtype=uint8),\n",
       " array([0, 0, 0, ..., 0, 0, 0], dtype=uint8),\n",
       " array([0, 0, 0, ..., 0, 0, 0], dtype=uint8),\n",
       " array([0, 0, 0, ..., 0, 0, 0], dtype=uint8),\n",
       " array([0, 0, 0, ..., 0, 0, 0], dtype=uint8),\n",
       " array([0, 0, 0, ..., 0, 0, 0], dtype=uint8),\n",
       " array([0, 0, 0, ..., 0, 0, 0], dtype=uint8),\n",
       " array([0, 0, 0, ..., 0, 0, 0], dtype=uint8),\n",
       " array([0, 0, 0, ..., 0, 0, 0], dtype=uint8),\n",
       " array([0, 0, 0, ..., 0, 0, 0], dtype=uint8),\n",
       " array([0, 0, 0, ..., 0, 0, 0], dtype=uint8),\n",
       " array([0, 0, 0, ..., 0, 0, 0], dtype=uint8),\n",
       " array([0, 0, 0, ..., 0, 0, 0], dtype=uint8),\n",
       " array([0, 0, 0, ..., 0, 0, 0], dtype=uint8),\n",
       " array([0, 0, 0, ..., 0, 0, 0], dtype=uint8),\n",
       " array([0, 0, 0, ..., 0, 0, 0], dtype=uint8),\n",
       " array([0, 0, 0, ..., 0, 0, 0], dtype=uint8),\n",
       " array([0, 0, 0, ..., 0, 0, 0], dtype=uint8),\n",
       " array([0, 0, 0, ..., 0, 0, 0], dtype=uint8),\n",
       " array([0, 0, 0, ..., 0, 0, 0], dtype=uint8),\n",
       " array([0, 0, 0, ..., 0, 0, 0], dtype=uint8),\n",
       " array([0, 0, 0, ..., 0, 0, 0], dtype=uint8),\n",
       " array([0, 0, 0, ..., 0, 0, 0], dtype=uint8),\n",
       " array([0, 0, 0, ..., 0, 0, 0], dtype=uint8),\n",
       " array([0, 0, 0, ..., 0, 0, 0], dtype=uint8),\n",
       " array([0, 0, 0, ..., 0, 0, 0], dtype=uint8),\n",
       " array([0, 0, 0, ..., 0, 0, 0], dtype=uint8),\n",
       " array([0, 0, 0, ..., 0, 0, 0], dtype=uint8),\n",
       " array([0, 0, 0, ..., 0, 0, 0], dtype=uint8),\n",
       " array([0, 0, 0, ..., 0, 0, 0], dtype=uint8),\n",
       " array([0, 0, 0, ..., 0, 0, 0], dtype=uint8),\n",
       " array([0, 0, 0, ..., 0, 0, 0], dtype=uint8),\n",
       " array([0, 0, 0, ..., 0, 0, 0], dtype=uint8),\n",
       " array([0, 0, 0, ..., 0, 0, 0], dtype=uint8),\n",
       " array([0, 0, 0, ..., 0, 0, 0], dtype=uint8),\n",
       " array([0, 0, 0, ..., 0, 0, 0], dtype=uint8),\n",
       " array([0, 0, 0, ..., 0, 0, 0], dtype=uint8),\n",
       " array([0, 0, 0, ..., 0, 0, 0], dtype=uint8),\n",
       " array([0, 0, 0, ..., 0, 0, 0], dtype=uint8),\n",
       " array([0, 0, 0, ..., 0, 0, 0], dtype=uint8),\n",
       " array([0, 0, 0, ..., 0, 0, 0], dtype=uint8),\n",
       " array([0, 0, 0, ..., 0, 0, 0], dtype=uint8),\n",
       " array([0, 0, 0, ..., 0, 0, 0], dtype=uint8),\n",
       " array([0, 0, 0, ..., 0, 0, 0], dtype=uint8),\n",
       " array([0, 0, 0, ..., 0, 0, 0], dtype=uint8),\n",
       " array([0, 0, 0, ..., 0, 0, 0], dtype=uint8),\n",
       " array([0, 0, 0, ..., 0, 0, 0], dtype=uint8),\n",
       " array([0, 0, 0, ..., 0, 0, 0], dtype=uint8),\n",
       " array([0, 0, 0, ..., 0, 0, 0], dtype=uint8),\n",
       " array([0, 0, 0, ..., 0, 0, 0], dtype=uint8),\n",
       " array([0, 0, 0, ..., 0, 0, 0], dtype=uint8),\n",
       " array([0, 0, 0, ..., 0, 0, 0], dtype=uint8),\n",
       " array([0, 0, 0, ..., 0, 0, 0], dtype=uint8),\n",
       " array([0, 0, 0, ..., 0, 0, 0], dtype=uint8),\n",
       " array([0, 0, 0, ..., 0, 0, 0], dtype=uint8),\n",
       " array([0, 0, 0, ..., 0, 0, 0], dtype=uint8),\n",
       " array([0, 0, 0, ..., 0, 0, 0], dtype=uint8),\n",
       " array([0, 0, 0, ..., 0, 0, 0], dtype=uint8),\n",
       " array([0, 0, 0, ..., 0, 0, 0], dtype=uint8),\n",
       " array([0, 0, 0, ..., 0, 0, 0], dtype=uint8),\n",
       " array([0, 0, 0, ..., 0, 0, 0], dtype=uint8),\n",
       " array([0, 0, 0, ..., 0, 0, 0], dtype=uint8),\n",
       " array([0, 0, 0, ..., 0, 0, 0], dtype=uint8),\n",
       " array([0, 0, 0, ..., 0, 0, 0], dtype=uint8),\n",
       " array([0, 0, 0, ..., 0, 0, 0], dtype=uint8),\n",
       " array([0, 0, 0, ..., 0, 0, 0], dtype=uint8),\n",
       " array([0, 0, 0, ..., 0, 0, 0], dtype=uint8),\n",
       " array([0, 0, 0, ..., 0, 0, 0], dtype=uint8),\n",
       " array([0, 0, 0, ..., 0, 0, 0], dtype=uint8),\n",
       " array([0, 0, 0, ..., 0, 0, 0], dtype=uint8),\n",
       " array([0, 0, 0, ..., 0, 0, 0], dtype=uint8),\n",
       " array([0, 0, 0, ..., 0, 0, 0], dtype=uint8),\n",
       " array([0, 0, 0, ..., 0, 0, 0], dtype=uint8),\n",
       " array([0, 0, 0, ..., 0, 0, 0], dtype=uint8),\n",
       " array([0, 0, 0, ..., 0, 0, 0], dtype=uint8),\n",
       " array([0, 0, 0, ..., 0, 0, 0], dtype=uint8),\n",
       " array([0, 0, 0, ..., 0, 0, 0], dtype=uint8),\n",
       " array([0, 0, 0, ..., 0, 0, 0], dtype=uint8),\n",
       " array([0, 0, 0, ..., 0, 0, 0], dtype=uint8),\n",
       " array([0, 0, 0, ..., 0, 0, 0], dtype=uint8),\n",
       " array([0, 0, 0, ..., 0, 0, 0], dtype=uint8),\n",
       " array([0, 0, 0, ..., 0, 0, 0], dtype=uint8),\n",
       " array([0, 0, 0, ..., 0, 0, 0], dtype=uint8),\n",
       " array([0, 0, 0, ..., 0, 0, 0], dtype=uint8),\n",
       " array([0, 0, 0, ..., 0, 0, 0], dtype=uint8),\n",
       " array([0, 0, 0, ..., 0, 0, 0], dtype=uint8),\n",
       " array([0, 0, 0, ..., 0, 0, 0], dtype=uint8),\n",
       " array([0, 0, 0, ..., 0, 0, 0], dtype=uint8),\n",
       " array([0, 0, 0, ..., 0, 0, 0], dtype=uint8),\n",
       " array([0, 0, 0, ..., 0, 0, 0], dtype=uint8),\n",
       " array([0, 0, 0, ..., 0, 0, 0], dtype=uint8),\n",
       " array([0, 0, 0, ..., 0, 0, 0], dtype=uint8),\n",
       " array([0, 0, 0, ..., 0, 0, 0], dtype=uint8),\n",
       " array([0, 0, 0, ..., 0, 0, 0], dtype=uint8),\n",
       " array([0, 0, 0, ..., 0, 0, 0], dtype=uint8),\n",
       " array([0, 0, 0, ..., 0, 0, 0], dtype=uint8),\n",
       " array([0, 0, 0, ..., 0, 0, 0], dtype=uint8),\n",
       " array([0, 0, 0, ..., 0, 0, 0], dtype=uint8),\n",
       " array([0, 0, 0, ..., 0, 0, 0], dtype=uint8),\n",
       " array([0, 0, 0, ..., 0, 0, 0], dtype=uint8),\n",
       " array([0, 0, 0, ..., 0, 0, 0], dtype=uint8),\n",
       " array([0, 0, 0, ..., 0, 0, 0], dtype=uint8),\n",
       " array([0, 0, 0, ..., 0, 0, 0], dtype=uint8),\n",
       " array([0, 0, 0, ..., 0, 0, 0], dtype=uint8),\n",
       " array([0, 0, 0, ..., 0, 0, 0], dtype=uint8),\n",
       " array([0, 0, 0, ..., 0, 0, 0], dtype=uint8),\n",
       " array([0, 0, 0, ..., 0, 0, 0], dtype=uint8),\n",
       " array([0, 0, 0, ..., 0, 0, 0], dtype=uint8),\n",
       " array([0, 0, 0, ..., 0, 0, 0], dtype=uint8),\n",
       " array([0, 0, 0, ..., 0, 0, 0], dtype=uint8),\n",
       " array([0, 0, 0, ..., 0, 0, 0], dtype=uint8),\n",
       " array([0, 0, 0, ..., 0, 0, 0], dtype=uint8),\n",
       " array([0, 0, 0, ..., 0, 0, 0], dtype=uint8),\n",
       " array([0, 0, 0, ..., 0, 0, 0], dtype=uint8),\n",
       " array([0, 0, 0, ..., 0, 0, 0], dtype=uint8),\n",
       " array([0, 0, 0, ..., 0, 0, 0], dtype=uint8),\n",
       " array([0, 0, 0, ..., 0, 0, 0], dtype=uint8),\n",
       " array([0, 0, 0, ..., 0, 0, 0], dtype=uint8),\n",
       " array([0, 0, 0, ..., 0, 0, 0], dtype=uint8),\n",
       " array([0, 0, 0, ..., 0, 0, 0], dtype=uint8),\n",
       " array([0, 0, 0, ..., 0, 0, 0], dtype=uint8),\n",
       " array([0, 0, 0, ..., 0, 0, 0], dtype=uint8),\n",
       " array([0, 0, 0, ..., 0, 0, 0], dtype=uint8),\n",
       " array([0, 0, 0, ..., 0, 0, 0], dtype=uint8),\n",
       " array([0, 0, 0, ..., 0, 0, 0], dtype=uint8),\n",
       " array([0, 0, 0, ..., 0, 0, 0], dtype=uint8),\n",
       " array([0, 0, 0, ..., 0, 0, 0], dtype=uint8),\n",
       " array([0, 0, 0, ..., 0, 0, 0], dtype=uint8),\n",
       " array([0, 0, 0, ..., 0, 0, 0], dtype=uint8),\n",
       " array([0, 0, 0, ..., 0, 0, 0], dtype=uint8),\n",
       " array([0, 0, 0, ..., 0, 0, 0], dtype=uint8),\n",
       " array([0, 0, 0, ..., 0, 0, 0], dtype=uint8),\n",
       " array([0, 0, 0, ..., 0, 0, 0], dtype=uint8),\n",
       " array([0, 0, 0, ..., 0, 0, 0], dtype=uint8),\n",
       " array([0, 0, 0, ..., 0, 0, 0], dtype=uint8),\n",
       " array([0, 0, 0, ..., 0, 0, 0], dtype=uint8),\n",
       " array([0, 0, 0, ..., 0, 0, 0], dtype=uint8),\n",
       " array([0, 0, 0, ..., 0, 0, 0], dtype=uint8),\n",
       " array([0, 0, 0, ..., 0, 0, 0], dtype=uint8),\n",
       " array([0, 0, 0, ..., 0, 0, 0], dtype=uint8),\n",
       " array([0, 0, 0, ..., 0, 0, 0], dtype=uint8),\n",
       " array([0, 0, 0, ..., 0, 0, 0], dtype=uint8),\n",
       " array([0, 0, 0, ..., 0, 0, 0], dtype=uint8),\n",
       " array([0, 0, 0, ..., 0, 0, 0], dtype=uint8),\n",
       " array([0, 0, 0, ..., 0, 0, 0], dtype=uint8),\n",
       " array([0, 0, 0, ..., 0, 0, 0], dtype=uint8),\n",
       " array([0, 0, 0, ..., 0, 0, 0], dtype=uint8),\n",
       " array([0, 0, 0, ..., 0, 0, 0], dtype=uint8),\n",
       " array([0, 0, 0, ..., 0, 0, 0], dtype=uint8),\n",
       " array([0, 0, 0, ..., 0, 0, 0], dtype=uint8),\n",
       " array([0, 0, 0, ..., 0, 0, 0], dtype=uint8),\n",
       " array([0, 0, 0, ..., 0, 0, 0], dtype=uint8),\n",
       " array([0, 0, 0, ..., 0, 0, 0], dtype=uint8),\n",
       " array([0, 0, 0, ..., 0, 0, 0], dtype=uint8),\n",
       " array([0, 0, 0, ..., 0, 0, 0], dtype=uint8),\n",
       " array([0, 0, 0, ..., 0, 0, 0], dtype=uint8),\n",
       " array([0, 0, 0, ..., 0, 0, 0], dtype=uint8),\n",
       " array([0, 0, 0, ..., 0, 0, 0], dtype=uint8),\n",
       " array([0, 0, 0, ..., 0, 0, 0], dtype=uint8),\n",
       " array([0, 0, 0, ..., 0, 0, 0], dtype=uint8),\n",
       " array([0, 0, 0, ..., 0, 0, 0], dtype=uint8),\n",
       " array([0, 0, 0, ..., 0, 0, 0], dtype=uint8),\n",
       " array([0, 0, 0, ..., 0, 0, 0], dtype=uint8),\n",
       " array([0, 0, 0, ..., 0, 0, 0], dtype=uint8),\n",
       " array([0, 0, 0, ..., 0, 0, 0], dtype=uint8),\n",
       " array([0, 0, 0, ..., 0, 0, 0], dtype=uint8),\n",
       " array([0, 0, 0, ..., 0, 0, 0], dtype=uint8),\n",
       " array([0, 0, 0, ..., 0, 0, 0], dtype=uint8),\n",
       " array([0, 0, 0, ..., 0, 0, 0], dtype=uint8),\n",
       " array([0, 0, 0, ..., 0, 0, 0], dtype=uint8),\n",
       " array([0, 0, 0, ..., 0, 0, 0], dtype=uint8),\n",
       " array([0, 0, 0, ..., 0, 0, 0], dtype=uint8),\n",
       " array([0, 0, 0, ..., 0, 0, 0], dtype=uint8),\n",
       " array([0, 0, 0, ..., 0, 0, 0], dtype=uint8),\n",
       " array([0, 0, 0, ..., 0, 0, 0], dtype=uint8),\n",
       " array([0, 0, 0, ..., 0, 0, 0], dtype=uint8),\n",
       " array([0, 0, 0, ..., 0, 0, 0], dtype=uint8),\n",
       " array([0, 0, 0, ..., 0, 0, 0], dtype=uint8),\n",
       " array([0, 0, 0, ..., 0, 0, 0], dtype=uint8),\n",
       " array([0, 0, 0, ..., 0, 0, 0], dtype=uint8),\n",
       " array([0, 0, 0, ..., 0, 0, 0], dtype=uint8),\n",
       " array([0, 0, 0, ..., 0, 0, 0], dtype=uint8),\n",
       " array([0, 0, 0, ..., 0, 0, 0], dtype=uint8),\n",
       " array([0, 0, 0, ..., 0, 0, 0], dtype=uint8),\n",
       " array([0, 0, 0, ..., 0, 0, 0], dtype=uint8),\n",
       " array([0, 0, 0, ..., 0, 0, 0], dtype=uint8),\n",
       " array([0, 0, 0, ..., 0, 0, 0], dtype=uint8),\n",
       " array([0, 0, 0, ..., 0, 0, 0], dtype=uint8),\n",
       " array([0, 0, 0, ..., 0, 0, 0], dtype=uint8),\n",
       " array([0, 0, 0, ..., 0, 0, 0], dtype=uint8),\n",
       " array([0, 0, 0, ..., 0, 0, 0], dtype=uint8),\n",
       " array([0, 0, 0, ..., 0, 0, 0], dtype=uint8),\n",
       " array([0, 0, 0, ..., 0, 0, 0], dtype=uint8),\n",
       " array([0, 0, 0, ..., 0, 0, 0], dtype=uint8),\n",
       " array([0, 0, 0, ..., 0, 0, 0], dtype=uint8),\n",
       " array([0, 0, 0, ..., 0, 0, 0], dtype=uint8),\n",
       " array([0, 0, 0, ..., 0, 0, 0], dtype=uint8),\n",
       " array([0, 0, 0, ..., 0, 0, 0], dtype=uint8),\n",
       " array([0, 0, 0, ..., 0, 0, 0], dtype=uint8),\n",
       " array([0, 0, 0, ..., 0, 0, 0], dtype=uint8),\n",
       " array([0, 0, 0, ..., 0, 0, 0], dtype=uint8),\n",
       " array([0, 0, 0, ..., 0, 0, 0], dtype=uint8),\n",
       " array([0, 0, 0, ..., 0, 0, 0], dtype=uint8),\n",
       " array([0, 0, 0, ..., 0, 0, 0], dtype=uint8),\n",
       " array([0, 0, 0, ..., 0, 0, 0], dtype=uint8),\n",
       " array([0, 0, 0, ..., 0, 0, 0], dtype=uint8),\n",
       " array([0, 0, 0, ..., 0, 0, 0], dtype=uint8),\n",
       " array([0, 0, 0, ..., 0, 0, 0], dtype=uint8),\n",
       " array([0, 0, 0, ..., 0, 0, 0], dtype=uint8),\n",
       " array([0, 0, 0, ..., 0, 0, 0], dtype=uint8),\n",
       " array([0, 0, 0, ..., 0, 0, 0], dtype=uint8),\n",
       " array([0, 0, 0, ..., 0, 0, 0], dtype=uint8),\n",
       " array([0, 0, 0, ..., 0, 0, 0], dtype=uint8),\n",
       " array([0, 0, 0, ..., 0, 0, 0], dtype=uint8),\n",
       " array([0, 0, 0, ..., 0, 0, 0], dtype=uint8),\n",
       " array([0, 0, 0, ..., 0, 0, 0], dtype=uint8),\n",
       " array([0, 0, 0, ..., 0, 0, 0], dtype=uint8),\n",
       " array([0, 0, 0, ..., 0, 0, 0], dtype=uint8),\n",
       " array([0, 0, 0, ..., 0, 0, 0], dtype=uint8),\n",
       " array([0, 0, 0, ..., 0, 0, 0], dtype=uint8),\n",
       " array([0, 0, 0, ..., 0, 0, 0], dtype=uint8),\n",
       " array([0, 0, 0, ..., 0, 0, 0], dtype=uint8),\n",
       " array([0, 0, 0, ..., 0, 0, 0], dtype=uint8),\n",
       " array([0, 0, 0, ..., 0, 0, 0], dtype=uint8),\n",
       " array([0, 0, 0, ..., 0, 0, 0], dtype=uint8),\n",
       " array([0, 0, 0, ..., 0, 0, 0], dtype=uint8),\n",
       " array([0, 0, 0, ..., 0, 0, 0], dtype=uint8),\n",
       " array([0, 0, 0, ..., 0, 0, 0], dtype=uint8),\n",
       " array([0, 0, 0, ..., 0, 0, 0], dtype=uint8),\n",
       " array([0, 0, 0, ..., 0, 0, 0], dtype=uint8),\n",
       " array([0, 0, 0, ..., 0, 0, 0], dtype=uint8),\n",
       " array([0, 0, 0, ..., 0, 0, 0], dtype=uint8),\n",
       " array([0, 0, 0, ..., 0, 0, 0], dtype=uint8),\n",
       " array([0, 0, 0, ..., 0, 0, 0], dtype=uint8),\n",
       " array([0, 0, 0, ..., 0, 0, 0], dtype=uint8),\n",
       " array([0, 0, 0, ..., 0, 0, 0], dtype=uint8),\n",
       " array([0, 0, 0, ..., 0, 0, 0], dtype=uint8),\n",
       " array([0, 0, 0, ..., 0, 0, 0], dtype=uint8),\n",
       " array([0, 0, 0, ..., 0, 0, 0], dtype=uint8),\n",
       " array([0, 0, 0, ..., 0, 0, 0], dtype=uint8),\n",
       " array([0, 0, 0, ..., 0, 0, 0], dtype=uint8),\n",
       " array([0, 0, 0, ..., 0, 0, 0], dtype=uint8),\n",
       " array([0, 0, 0, ..., 0, 0, 0], dtype=uint8),\n",
       " array([0, 0, 0, ..., 0, 0, 0], dtype=uint8),\n",
       " array([0, 0, 0, ..., 0, 0, 0], dtype=uint8),\n",
       " array([0, 0, 0, ..., 0, 0, 0], dtype=uint8),\n",
       " array([0, 0, 0, ..., 0, 0, 0], dtype=uint8),\n",
       " array([0, 0, 0, ..., 0, 0, 0], dtype=uint8),\n",
       " array([0, 0, 0, ..., 0, 0, 0], dtype=uint8),\n",
       " array([0, 0, 0, ..., 0, 0, 0], dtype=uint8),\n",
       " array([0, 0, 0, ..., 0, 0, 0], dtype=uint8),\n",
       " array([0, 0, 0, ..., 0, 0, 0], dtype=uint8),\n",
       " array([0, 0, 0, ..., 0, 0, 0], dtype=uint8),\n",
       " array([0, 0, 0, ..., 0, 0, 0], dtype=uint8),\n",
       " array([0, 0, 0, ..., 0, 0, 0], dtype=uint8),\n",
       " array([0, 0, 0, ..., 0, 0, 0], dtype=uint8),\n",
       " array([0, 0, 0, ..., 0, 0, 0], dtype=uint8),\n",
       " array([0, 0, 0, ..., 0, 0, 0], dtype=uint8),\n",
       " array([0, 0, 0, ..., 0, 0, 0], dtype=uint8),\n",
       " array([0, 0, 0, ..., 0, 0, 0], dtype=uint8),\n",
       " array([0, 0, 0, ..., 0, 0, 0], dtype=uint8),\n",
       " array([0, 0, 0, ..., 0, 0, 0], dtype=uint8),\n",
       " array([0, 0, 0, ..., 0, 0, 0], dtype=uint8),\n",
       " array([0, 0, 0, ..., 0, 0, 0], dtype=uint8),\n",
       " array([0, 0, 0, ..., 0, 0, 0], dtype=uint8),\n",
       " array([0, 0, 0, ..., 0, 0, 0], dtype=uint8),\n",
       " array([0, 0, 0, ..., 0, 0, 0], dtype=uint8),\n",
       " array([0, 0, 0, ..., 0, 0, 0], dtype=uint8),\n",
       " array([0, 0, 0, ..., 0, 0, 0], dtype=uint8),\n",
       " array([0, 0, 0, ..., 0, 0, 0], dtype=uint8),\n",
       " array([0, 0, 0, ..., 0, 0, 0], dtype=uint8),\n",
       " array([0, 0, 0, ..., 0, 0, 0], dtype=uint8),\n",
       " array([0, 0, 0, ..., 0, 0, 0], dtype=uint8),\n",
       " array([0, 0, 0, ..., 0, 0, 0], dtype=uint8),\n",
       " array([0, 0, 0, ..., 0, 0, 0], dtype=uint8),\n",
       " array([0, 0, 0, ..., 0, 0, 0], dtype=uint8),\n",
       " array([0, 0, 0, ..., 0, 0, 0], dtype=uint8),\n",
       " array([0, 0, 0, ..., 0, 0, 0], dtype=uint8),\n",
       " array([0, 0, 0, ..., 0, 0, 0], dtype=uint8),\n",
       " array([0, 0, 0, ..., 0, 0, 0], dtype=uint8),\n",
       " array([0, 0, 0, ..., 0, 0, 0], dtype=uint8),\n",
       " array([0, 0, 0, ..., 0, 0, 0], dtype=uint8),\n",
       " array([0, 0, 0, ..., 0, 0, 0], dtype=uint8),\n",
       " array([0, 0, 0, ..., 0, 0, 0], dtype=uint8),\n",
       " array([0, 0, 0, ..., 0, 0, 0], dtype=uint8),\n",
       " array([0, 0, 0, ..., 0, 0, 0], dtype=uint8),\n",
       " array([0, 0, 0, ..., 0, 0, 0], dtype=uint8),\n",
       " array([0, 0, 0, ..., 0, 0, 0], dtype=uint8),\n",
       " array([0, 0, 0, ..., 0, 0, 0], dtype=uint8),\n",
       " array([0, 0, 0, ..., 0, 0, 0], dtype=uint8),\n",
       " array([0, 0, 0, ..., 0, 0, 0], dtype=uint8),\n",
       " array([0, 0, 0, ..., 0, 0, 0], dtype=uint8),\n",
       " array([0, 0, 0, ..., 0, 0, 0], dtype=uint8),\n",
       " array([0, 0, 0, ..., 0, 0, 0], dtype=uint8),\n",
       " array([0, 0, 0, ..., 0, 0, 0], dtype=uint8),\n",
       " array([0, 0, 0, ..., 0, 0, 0], dtype=uint8),\n",
       " array([0, 0, 0, ..., 0, 0, 0], dtype=uint8),\n",
       " array([0, 0, 0, ..., 0, 0, 0], dtype=uint8),\n",
       " array([0, 0, 0, ..., 0, 0, 0], dtype=uint8),\n",
       " array([0, 0, 0, ..., 0, 0, 0], dtype=uint8),\n",
       " array([0, 0, 0, ..., 0, 0, 0], dtype=uint8),\n",
       " array([0, 0, 0, ..., 0, 0, 0], dtype=uint8),\n",
       " array([0, 0, 0, ..., 0, 0, 0], dtype=uint8),\n",
       " array([0, 0, 0, ..., 0, 0, 0], dtype=uint8),\n",
       " array([0, 0, 0, ..., 0, 0, 0], dtype=uint8),\n",
       " array([0, 0, 0, ..., 0, 0, 0], dtype=uint8),\n",
       " array([0, 0, 0, ..., 0, 0, 0], dtype=uint8),\n",
       " array([0, 0, 0, ..., 0, 0, 0], dtype=uint8),\n",
       " array([0, 0, 0, ..., 0, 0, 0], dtype=uint8),\n",
       " array([0, 0, 0, ..., 0, 0, 0], dtype=uint8),\n",
       " array([0, 0, 0, ..., 0, 0, 0], dtype=uint8),\n",
       " array([0, 0, 0, ..., 0, 0, 0], dtype=uint8),\n",
       " array([0, 0, 0, ..., 0, 0, 0], dtype=uint8),\n",
       " array([0, 0, 0, ..., 0, 0, 0], dtype=uint8),\n",
       " array([0, 0, 0, ..., 0, 0, 0], dtype=uint8),\n",
       " array([0, 0, 0, ..., 0, 0, 0], dtype=uint8),\n",
       " array([0, 0, 0, ..., 0, 0, 0], dtype=uint8),\n",
       " array([0, 0, 0, ..., 0, 0, 0], dtype=uint8),\n",
       " array([0, 0, 0, ..., 0, 0, 0], dtype=uint8),\n",
       " array([0, 0, 0, ..., 0, 0, 0], dtype=uint8),\n",
       " array([0, 0, 0, ..., 0, 0, 0], dtype=uint8),\n",
       " array([0, 0, 0, ..., 0, 0, 0], dtype=uint8),\n",
       " array([0, 0, 0, ..., 0, 0, 0], dtype=uint8),\n",
       " array([0, 0, 0, ..., 0, 0, 0], dtype=uint8),\n",
       " array([0, 0, 0, ..., 0, 0, 0], dtype=uint8),\n",
       " array([0, 0, 0, ..., 0, 0, 0], dtype=uint8),\n",
       " array([0, 0, 0, ..., 0, 0, 0], dtype=uint8),\n",
       " array([0, 0, 0, ..., 0, 0, 0], dtype=uint8),\n",
       " array([0, 0, 0, ..., 0, 0, 0], dtype=uint8),\n",
       " array([0, 0, 0, ..., 0, 0, 0], dtype=uint8),\n",
       " array([0, 0, 0, ..., 0, 0, 0], dtype=uint8),\n",
       " array([0, 0, 0, ..., 0, 0, 0], dtype=uint8),\n",
       " array([0, 0, 0, ..., 0, 0, 0], dtype=uint8),\n",
       " array([0, 0, 0, ..., 0, 0, 0], dtype=uint8),\n",
       " array([0, 0, 0, ..., 0, 0, 0], dtype=uint8),\n",
       " array([0, 0, 0, ..., 0, 0, 0], dtype=uint8),\n",
       " array([0, 0, 0, ..., 0, 0, 0], dtype=uint8),\n",
       " array([0, 0, 0, ..., 0, 0, 0], dtype=uint8),\n",
       " array([0, 0, 0, ..., 0, 0, 0], dtype=uint8),\n",
       " array([0, 0, 0, ..., 0, 0, 0], dtype=uint8),\n",
       " array([0, 0, 0, ..., 0, 0, 0], dtype=uint8),\n",
       " array([0, 0, 0, ..., 0, 0, 0], dtype=uint8),\n",
       " array([0, 0, 0, ..., 0, 0, 0], dtype=uint8),\n",
       " array([0, 0, 0, ..., 0, 0, 0], dtype=uint8),\n",
       " array([0, 0, 0, ..., 0, 0, 0], dtype=uint8),\n",
       " array([0, 0, 0, ..., 0, 0, 0], dtype=uint8),\n",
       " array([0, 0, 0, ..., 0, 0, 0], dtype=uint8),\n",
       " array([0, 0, 0, ..., 0, 0, 0], dtype=uint8),\n",
       " array([0, 0, 0, ..., 0, 0, 0], dtype=uint8),\n",
       " array([0, 0, 0, ..., 0, 0, 0], dtype=uint8),\n",
       " array([0, 0, 0, ..., 0, 0, 0], dtype=uint8),\n",
       " array([0, 0, 0, ..., 0, 0, 0], dtype=uint8),\n",
       " array([0, 0, 0, ..., 0, 0, 0], dtype=uint8),\n",
       " array([0, 0, 0, ..., 0, 0, 0], dtype=uint8),\n",
       " array([0, 0, 0, ..., 0, 0, 0], dtype=uint8),\n",
       " array([0, 0, 0, ..., 0, 0, 0], dtype=uint8),\n",
       " array([0, 0, 0, ..., 0, 0, 0], dtype=uint8),\n",
       " array([0, 0, 0, ..., 0, 0, 0], dtype=uint8),\n",
       " array([0, 0, 0, ..., 0, 0, 0], dtype=uint8),\n",
       " array([0, 0, 0, ..., 0, 0, 0], dtype=uint8),\n",
       " array([0, 0, 0, ..., 0, 0, 0], dtype=uint8),\n",
       " array([0, 0, 0, ..., 0, 0, 0], dtype=uint8),\n",
       " array([0, 0, 0, ..., 0, 0, 0], dtype=uint8),\n",
       " array([0, 0, 0, ..., 0, 0, 0], dtype=uint8),\n",
       " array([0, 0, 0, ..., 0, 0, 0], dtype=uint8),\n",
       " array([0, 0, 0, ..., 0, 0, 0], dtype=uint8),\n",
       " array([0, 0, 0, ..., 0, 0, 0], dtype=uint8),\n",
       " array([0, 0, 0, ..., 0, 0, 0], dtype=uint8),\n",
       " array([0, 0, 0, ..., 0, 0, 0], dtype=uint8),\n",
       " array([0, 0, 0, ..., 0, 0, 0], dtype=uint8),\n",
       " array([0, 0, 0, ..., 0, 0, 0], dtype=uint8),\n",
       " array([0, 0, 0, ..., 0, 0, 0], dtype=uint8),\n",
       " array([0, 0, 0, ..., 0, 0, 0], dtype=uint8),\n",
       " array([0, 0, 0, ..., 0, 0, 0], dtype=uint8),\n",
       " array([0, 0, 0, ..., 0, 0, 0], dtype=uint8),\n",
       " array([0, 0, 0, ..., 0, 0, 0], dtype=uint8),\n",
       " array([0, 0, 0, ..., 0, 0, 0], dtype=uint8),\n",
       " array([0, 0, 0, ..., 0, 0, 0], dtype=uint8),\n",
       " array([0, 0, 0, ..., 0, 0, 0], dtype=uint8),\n",
       " array([0, 0, 0, ..., 0, 0, 0], dtype=uint8),\n",
       " array([0, 0, 0, ..., 0, 0, 0], dtype=uint8),\n",
       " array([0, 0, 0, ..., 0, 0, 0], dtype=uint8),\n",
       " array([0, 0, 0, ..., 0, 0, 0], dtype=uint8),\n",
       " array([0, 0, 0, ..., 0, 0, 0], dtype=uint8),\n",
       " array([0, 0, 0, ..., 0, 0, 0], dtype=uint8),\n",
       " array([0, 0, 0, ..., 0, 0, 0], dtype=uint8),\n",
       " array([0, 0, 0, ..., 0, 0, 0], dtype=uint8),\n",
       " array([0, 0, 0, ..., 0, 0, 0], dtype=uint8),\n",
       " array([0, 0, 0, ..., 0, 0, 0], dtype=uint8),\n",
       " array([0, 0, 0, ..., 0, 0, 0], dtype=uint8),\n",
       " array([0, 0, 0, ..., 0, 0, 0], dtype=uint8),\n",
       " array([0, 0, 0, ..., 0, 0, 0], dtype=uint8),\n",
       " array([0, 0, 0, ..., 0, 0, 0], dtype=uint8),\n",
       " array([0, 0, 0, ..., 0, 0, 0], dtype=uint8),\n",
       " array([0, 0, 0, ..., 0, 0, 0], dtype=uint8),\n",
       " array([0, 0, 0, ..., 0, 0, 0], dtype=uint8),\n",
       " array([0, 0, 0, ..., 0, 0, 0], dtype=uint8),\n",
       " array([0, 0, 0, ..., 0, 0, 0], dtype=uint8),\n",
       " array([0, 0, 0, ..., 0, 0, 0], dtype=uint8),\n",
       " array([0, 0, 0, ..., 0, 0, 0], dtype=uint8),\n",
       " array([0, 0, 0, ..., 0, 0, 0], dtype=uint8),\n",
       " array([0, 0, 0, ..., 0, 0, 0], dtype=uint8),\n",
       " array([0, 0, 0, ..., 0, 0, 0], dtype=uint8),\n",
       " array([0, 0, 0, ..., 0, 0, 0], dtype=uint8),\n",
       " array([0, 0, 0, ..., 0, 0, 0], dtype=uint8),\n",
       " array([0, 0, 0, ..., 0, 0, 0], dtype=uint8),\n",
       " array([0, 0, 0, ..., 0, 0, 0], dtype=uint8),\n",
       " array([0, 0, 0, ..., 0, 0, 0], dtype=uint8),\n",
       " array([0, 0, 0, ..., 0, 0, 0], dtype=uint8),\n",
       " array([0, 0, 0, ..., 0, 0, 0], dtype=uint8),\n",
       " array([0, 0, 0, ..., 0, 0, 0], dtype=uint8),\n",
       " array([0, 0, 0, ..., 0, 0, 0], dtype=uint8),\n",
       " array([0, 0, 0, ..., 0, 0, 0], dtype=uint8),\n",
       " array([0, 0, 0, ..., 0, 0, 0], dtype=uint8),\n",
       " array([0, 0, 0, ..., 0, 0, 0], dtype=uint8),\n",
       " array([0, 0, 0, ..., 0, 0, 0], dtype=uint8),\n",
       " array([0, 0, 0, ..., 0, 0, 0], dtype=uint8),\n",
       " array([0, 0, 0, ..., 0, 0, 0], dtype=uint8),\n",
       " array([0, 0, 0, ..., 0, 0, 0], dtype=uint8),\n",
       " array([0, 0, 0, ..., 0, 0, 0], dtype=uint8),\n",
       " array([0, 0, 0, ..., 0, 0, 0], dtype=uint8),\n",
       " array([0, 0, 0, ..., 0, 0, 0], dtype=uint8),\n",
       " array([0, 0, 0, ..., 0, 0, 0], dtype=uint8),\n",
       " array([0, 0, 0, ..., 0, 0, 0], dtype=uint8),\n",
       " array([0, 0, 0, ..., 0, 0, 0], dtype=uint8),\n",
       " array([0, 0, 0, ..., 0, 0, 0], dtype=uint8),\n",
       " array([0, 0, 0, ..., 0, 0, 0], dtype=uint8),\n",
       " array([0, 0, 0, ..., 0, 0, 0], dtype=uint8),\n",
       " array([0, 0, 0, ..., 0, 0, 0], dtype=uint8),\n",
       " array([0, 0, 0, ..., 0, 0, 0], dtype=uint8),\n",
       " array([0, 0, 0, ..., 0, 0, 0], dtype=uint8),\n",
       " array([0, 0, 0, ..., 0, 0, 0], dtype=uint8),\n",
       " array([0, 0, 0, ..., 0, 0, 0], dtype=uint8),\n",
       " array([0, 0, 0, ..., 0, 0, 0], dtype=uint8),\n",
       " array([0, 0, 0, ..., 0, 0, 0], dtype=uint8),\n",
       " array([0, 0, 0, ..., 0, 0, 0], dtype=uint8),\n",
       " array([0, 0, 0, ..., 0, 0, 0], dtype=uint8),\n",
       " array([0, 0, 0, ..., 0, 0, 0], dtype=uint8),\n",
       " array([0, 0, 0, ..., 0, 0, 0], dtype=uint8),\n",
       " array([0, 0, 0, ..., 0, 0, 0], dtype=uint8),\n",
       " array([0, 0, 0, ..., 0, 0, 0], dtype=uint8),\n",
       " array([0, 0, 0, ..., 0, 0, 0], dtype=uint8),\n",
       " array([0, 0, 0, ..., 0, 0, 0], dtype=uint8),\n",
       " array([0, 0, 0, ..., 0, 0, 0], dtype=uint8),\n",
       " array([0, 0, 0, ..., 0, 0, 0], dtype=uint8),\n",
       " array([0, 0, 0, ..., 0, 0, 0], dtype=uint8),\n",
       " array([0, 0, 0, ..., 0, 0, 0], dtype=uint8),\n",
       " array([0, 0, 0, ..., 0, 0, 0], dtype=uint8),\n",
       " array([0, 0, 0, ..., 0, 0, 0], dtype=uint8),\n",
       " array([0, 0, 0, ..., 0, 0, 0], dtype=uint8),\n",
       " array([0, 0, 0, ..., 0, 0, 0], dtype=uint8),\n",
       " array([0, 0, 0, ..., 0, 0, 0], dtype=uint8),\n",
       " array([0, 0, 0, ..., 0, 0, 0], dtype=uint8),\n",
       " array([0, 0, 0, ..., 0, 0, 0], dtype=uint8),\n",
       " array([0, 0, 0, ..., 0, 0, 0], dtype=uint8),\n",
       " array([0, 0, 0, ..., 0, 0, 0], dtype=uint8),\n",
       " array([0, 0, 0, ..., 0, 0, 0], dtype=uint8),\n",
       " array([0, 0, 0, ..., 0, 0, 0], dtype=uint8),\n",
       " array([0, 0, 0, ..., 0, 0, 0], dtype=uint8),\n",
       " array([0, 0, 0, ..., 0, 0, 0], dtype=uint8),\n",
       " array([0, 0, 0, ..., 0, 0, 0], dtype=uint8),\n",
       " array([0, 0, 0, ..., 0, 0, 0], dtype=uint8),\n",
       " array([0, 0, 0, ..., 0, 0, 0], dtype=uint8),\n",
       " array([0, 0, 0, ..., 0, 0, 0], dtype=uint8),\n",
       " array([0, 0, 0, ..., 0, 0, 0], dtype=uint8),\n",
       " array([0, 0, 0, ..., 0, 0, 0], dtype=uint8),\n",
       " array([0, 0, 0, ..., 0, 0, 0], dtype=uint8),\n",
       " array([0, 0, 0, ..., 0, 0, 0], dtype=uint8),\n",
       " array([0, 0, 0, ..., 0, 0, 0], dtype=uint8),\n",
       " array([0, 0, 0, ..., 0, 0, 0], dtype=uint8),\n",
       " array([0, 0, 0, ..., 0, 0, 0], dtype=uint8),\n",
       " array([0, 0, 0, ..., 0, 0, 0], dtype=uint8),\n",
       " array([0, 0, 0, ..., 0, 0, 0], dtype=uint8),\n",
       " array([0, 0, 0, ..., 0, 0, 0], dtype=uint8),\n",
       " array([0, 0, 0, ..., 0, 0, 0], dtype=uint8),\n",
       " array([0, 0, 0, ..., 0, 0, 0], dtype=uint8),\n",
       " array([0, 0, 0, ..., 0, 0, 0], dtype=uint8),\n",
       " array([0, 0, 0, ..., 0, 0, 0], dtype=uint8),\n",
       " array([0, 0, 0, ..., 0, 0, 0], dtype=uint8),\n",
       " array([0, 0, 0, ..., 0, 0, 0], dtype=uint8),\n",
       " array([0, 0, 0, ..., 0, 0, 0], dtype=uint8),\n",
       " array([0, 0, 0, ..., 0, 0, 0], dtype=uint8),\n",
       " array([0, 0, 0, ..., 0, 0, 0], dtype=uint8),\n",
       " array([0, 0, 0, ..., 0, 0, 0], dtype=uint8),\n",
       " array([0, 0, 0, ..., 0, 0, 0], dtype=uint8),\n",
       " array([0, 0, 0, ..., 0, 0, 0], dtype=uint8),\n",
       " array([0, 0, 0, ..., 0, 0, 0], dtype=uint8),\n",
       " array([0, 0, 0, ..., 0, 0, 0], dtype=uint8),\n",
       " array([0, 0, 0, ..., 0, 0, 0], dtype=uint8),\n",
       " array([0, 0, 0, ..., 0, 0, 0], dtype=uint8),\n",
       " array([0, 0, 0, ..., 0, 0, 0], dtype=uint8),\n",
       " array([0, 0, 0, ..., 0, 0, 0], dtype=uint8),\n",
       " array([0, 0, 0, ..., 0, 0, 0], dtype=uint8),\n",
       " array([0, 0, 0, ..., 0, 0, 0], dtype=uint8),\n",
       " array([0, 0, 0, ..., 0, 0, 0], dtype=uint8),\n",
       " array([0, 0, 0, ..., 0, 0, 0], dtype=uint8),\n",
       " array([0, 0, 0, ..., 0, 0, 0], dtype=uint8),\n",
       " array([0, 0, 0, ..., 0, 0, 0], dtype=uint8),\n",
       " array([0, 0, 0, ..., 0, 0, 0], dtype=uint8),\n",
       " array([0, 0, 0, ..., 0, 0, 0], dtype=uint8),\n",
       " array([0, 0, 0, ..., 0, 0, 0], dtype=uint8),\n",
       " array([0, 0, 0, ..., 0, 0, 0], dtype=uint8),\n",
       " array([0, 0, 0, ..., 0, 0, 0], dtype=uint8),\n",
       " array([0, 0, 0, ..., 0, 0, 0], dtype=uint8),\n",
       " array([0, 0, 0, ..., 0, 0, 0], dtype=uint8),\n",
       " array([0, 0, 0, ..., 0, 0, 0], dtype=uint8),\n",
       " array([0, 0, 0, ..., 0, 0, 0], dtype=uint8),\n",
       " array([0, 0, 0, ..., 0, 0, 0], dtype=uint8),\n",
       " array([0, 0, 0, ..., 0, 0, 0], dtype=uint8),\n",
       " array([0, 0, 0, ..., 0, 0, 0], dtype=uint8),\n",
       " array([0, 0, 0, ..., 0, 0, 0], dtype=uint8),\n",
       " array([0, 0, 0, ..., 0, 0, 0], dtype=uint8),\n",
       " array([0, 0, 0, ..., 0, 0, 0], dtype=uint8),\n",
       " array([0, 0, 0, ..., 0, 0, 0], dtype=uint8),\n",
       " array([0, 0, 0, ..., 0, 0, 0], dtype=uint8),\n",
       " array([0, 0, 0, ..., 0, 0, 0], dtype=uint8),\n",
       " array([0, 0, 0, ..., 0, 0, 0], dtype=uint8),\n",
       " array([0, 0, 0, ..., 0, 0, 0], dtype=uint8),\n",
       " array([0, 0, 0, ..., 0, 0, 0], dtype=uint8),\n",
       " array([0, 0, 0, ..., 0, 0, 0], dtype=uint8),\n",
       " array([0, 0, 0, ..., 0, 0, 0], dtype=uint8),\n",
       " array([0, 0, 0, ..., 0, 0, 0], dtype=uint8),\n",
       " array([0, 0, 0, ..., 0, 0, 0], dtype=uint8),\n",
       " array([0, 0, 0, ..., 0, 0, 0], dtype=uint8),\n",
       " array([0, 0, 0, ..., 0, 0, 0], dtype=uint8),\n",
       " array([0, 0, 0, ..., 0, 0, 0], dtype=uint8),\n",
       " array([0, 0, 0, ..., 0, 0, 0], dtype=uint8),\n",
       " array([0, 0, 0, ..., 0, 0, 0], dtype=uint8),\n",
       " array([0, 0, 0, ..., 0, 0, 0], dtype=uint8),\n",
       " array([0, 0, 0, ..., 0, 0, 0], dtype=uint8),\n",
       " array([0, 0, 0, ..., 0, 0, 0], dtype=uint8),\n",
       " array([0, 0, 0, ..., 0, 0, 0], dtype=uint8),\n",
       " array([0, 0, 0, ..., 0, 0, 0], dtype=uint8),\n",
       " array([0, 0, 0, ..., 0, 0, 0], dtype=uint8),\n",
       " array([0, 0, 0, ..., 0, 0, 0], dtype=uint8),\n",
       " array([0, 0, 0, ..., 0, 0, 0], dtype=uint8),\n",
       " array([0, 0, 0, ..., 0, 0, 0], dtype=uint8),\n",
       " array([0, 0, 0, ..., 0, 0, 0], dtype=uint8),\n",
       " array([0, 0, 0, ..., 0, 0, 0], dtype=uint8),\n",
       " array([0, 0, 0, ..., 0, 0, 0], dtype=uint8),\n",
       " array([0, 0, 0, ..., 0, 0, 0], dtype=uint8),\n",
       " array([0, 0, 0, ..., 0, 0, 0], dtype=uint8),\n",
       " array([0, 0, 0, ..., 0, 0, 0], dtype=uint8),\n",
       " array([0, 0, 0, ..., 0, 0, 0], dtype=uint8),\n",
       " array([0, 0, 0, ..., 0, 0, 0], dtype=uint8),\n",
       " array([0, 0, 0, ..., 0, 0, 0], dtype=uint8),\n",
       " array([0, 0, 0, ..., 0, 0, 0], dtype=uint8),\n",
       " array([0, 0, 0, ..., 0, 0, 0], dtype=uint8),\n",
       " array([0, 0, 0, ..., 0, 0, 0], dtype=uint8),\n",
       " array([0, 0, 0, ..., 0, 0, 0], dtype=uint8),\n",
       " array([0, 0, 0, ..., 0, 0, 0], dtype=uint8),\n",
       " array([0, 0, 0, ..., 0, 0, 0], dtype=uint8),\n",
       " array([0, 0, 0, ..., 0, 0, 0], dtype=uint8),\n",
       " array([0, 0, 0, ..., 0, 0, 0], dtype=uint8),\n",
       " array([0, 0, 0, ..., 0, 0, 0], dtype=uint8),\n",
       " array([0, 0, 0, ..., 0, 0, 0], dtype=uint8),\n",
       " array([0, 0, 0, ..., 0, 0, 0], dtype=uint8),\n",
       " array([0, 0, 0, ..., 0, 0, 0], dtype=uint8),\n",
       " array([0, 0, 0, ..., 0, 0, 0], dtype=uint8),\n",
       " array([0, 0, 0, ..., 0, 0, 0], dtype=uint8),\n",
       " array([0, 0, 0, ..., 0, 0, 0], dtype=uint8),\n",
       " array([0, 0, 0, ..., 0, 0, 0], dtype=uint8),\n",
       " array([0, 0, 0, ..., 0, 0, 0], dtype=uint8),\n",
       " array([0, 0, 0, ..., 0, 0, 0], dtype=uint8),\n",
       " array([0, 0, 0, ..., 0, 0, 0], dtype=uint8),\n",
       " array([0, 0, 0, ..., 0, 0, 0], dtype=uint8),\n",
       " array([0, 0, 0, ..., 0, 0, 0], dtype=uint8),\n",
       " array([0, 0, 0, ..., 0, 0, 0], dtype=uint8),\n",
       " array([0, 0, 0, ..., 0, 0, 0], dtype=uint8),\n",
       " array([0, 0, 0, ..., 0, 0, 0], dtype=uint8),\n",
       " array([0, 0, 0, ..., 0, 0, 0], dtype=uint8),\n",
       " array([0, 0, 0, ..., 0, 0, 0], dtype=uint8),\n",
       " array([0, 0, 0, ..., 0, 0, 0], dtype=uint8),\n",
       " array([0, 0, 0, ..., 0, 0, 0], dtype=uint8),\n",
       " array([0, 0, 0, ..., 0, 0, 0], dtype=uint8),\n",
       " array([0, 0, 0, ..., 0, 0, 0], dtype=uint8),\n",
       " array([0, 0, 0, ..., 0, 0, 0], dtype=uint8),\n",
       " array([0, 0, 0, ..., 0, 0, 0], dtype=uint8),\n",
       " array([0, 0, 0, ..., 0, 0, 0], dtype=uint8),\n",
       " array([0, 0, 0, ..., 0, 0, 0], dtype=uint8),\n",
       " array([0, 0, 0, ..., 0, 0, 0], dtype=uint8),\n",
       " array([0, 0, 0, ..., 0, 0, 0], dtype=uint8),\n",
       " array([0, 0, 0, ..., 0, 0, 0], dtype=uint8),\n",
       " array([0, 0, 0, ..., 0, 0, 0], dtype=uint8),\n",
       " array([0, 0, 0, ..., 0, 0, 0], dtype=uint8),\n",
       " array([0, 0, 0, ..., 0, 0, 0], dtype=uint8),\n",
       " array([0, 0, 0, ..., 0, 0, 0], dtype=uint8),\n",
       " array([0, 0, 0, ..., 0, 0, 0], dtype=uint8),\n",
       " array([0, 0, 0, ..., 0, 0, 0], dtype=uint8),\n",
       " array([0, 0, 0, ..., 0, 0, 0], dtype=uint8),\n",
       " array([0, 0, 0, ..., 0, 0, 0], dtype=uint8),\n",
       " array([0, 0, 0, ..., 0, 0, 0], dtype=uint8),\n",
       " array([0, 0, 0, ..., 0, 0, 0], dtype=uint8),\n",
       " array([0, 0, 0, ..., 0, 0, 0], dtype=uint8),\n",
       " array([0, 0, 0, ..., 0, 0, 0], dtype=uint8),\n",
       " array([0, 0, 0, ..., 0, 0, 0], dtype=uint8),\n",
       " array([0, 0, 0, ..., 0, 0, 0], dtype=uint8),\n",
       " array([0, 0, 0, ..., 0, 0, 0], dtype=uint8),\n",
       " array([0, 0, 0, ..., 0, 0, 0], dtype=uint8),\n",
       " array([0, 0, 0, ..., 0, 0, 0], dtype=uint8),\n",
       " array([0, 0, 0, ..., 0, 0, 0], dtype=uint8),\n",
       " array([0, 0, 0, ..., 0, 0, 0], dtype=uint8),\n",
       " array([0, 0, 0, ..., 0, 0, 0], dtype=uint8),\n",
       " array([0, 0, 0, ..., 0, 0, 0], dtype=uint8),\n",
       " array([0, 0, 0, ..., 0, 0, 0], dtype=uint8),\n",
       " array([0, 0, 0, ..., 0, 0, 0], dtype=uint8),\n",
       " array([0, 0, 0, ..., 0, 0, 0], dtype=uint8),\n",
       " array([0, 0, 0, ..., 0, 0, 0], dtype=uint8),\n",
       " array([0, 0, 0, ..., 0, 0, 0], dtype=uint8),\n",
       " array([0, 0, 0, ..., 0, 0, 0], dtype=uint8),\n",
       " array([0, 0, 0, ..., 0, 0, 0], dtype=uint8),\n",
       " array([0, 0, 0, ..., 0, 0, 0], dtype=uint8),\n",
       " array([0, 0, 0, ..., 0, 0, 0], dtype=uint8),\n",
       " array([0, 0, 0, ..., 0, 0, 0], dtype=uint8),\n",
       " array([0, 0, 0, ..., 0, 0, 0], dtype=uint8),\n",
       " array([0, 0, 0, ..., 0, 0, 0], dtype=uint8),\n",
       " array([0, 0, 0, ..., 0, 0, 0], dtype=uint8),\n",
       " array([0, 0, 0, ..., 0, 0, 0], dtype=uint8),\n",
       " array([0, 0, 0, ..., 0, 0, 0], dtype=uint8),\n",
       " array([0, 0, 0, ..., 0, 0, 0], dtype=uint8),\n",
       " array([0, 0, 0, ..., 0, 0, 0], dtype=uint8),\n",
       " array([0, 0, 0, ..., 0, 0, 0], dtype=uint8),\n",
       " array([0, 0, 0, ..., 0, 0, 0], dtype=uint8),\n",
       " array([0, 0, 0, ..., 0, 0, 0], dtype=uint8),\n",
       " array([0, 0, 0, ..., 0, 0, 0], dtype=uint8),\n",
       " array([0, 0, 0, ..., 0, 0, 0], dtype=uint8),\n",
       " array([0, 0, 0, ..., 0, 0, 0], dtype=uint8),\n",
       " array([0, 0, 0, ..., 0, 0, 0], dtype=uint8),\n",
       " array([0, 0, 0, ..., 0, 0, 0], dtype=uint8),\n",
       " array([0, 0, 0, ..., 0, 0, 0], dtype=uint8),\n",
       " array([0, 0, 0, ..., 0, 0, 0], dtype=uint8),\n",
       " array([0, 0, 0, ..., 0, 0, 0], dtype=uint8),\n",
       " array([0, 0, 0, ..., 0, 0, 0], dtype=uint8),\n",
       " array([0, 0, 0, ..., 0, 0, 0], dtype=uint8),\n",
       " array([0, 0, 0, ..., 0, 0, 0], dtype=uint8),\n",
       " array([0, 0, 0, ..., 0, 0, 0], dtype=uint8),\n",
       " array([0, 0, 0, ..., 0, 0, 0], dtype=uint8),\n",
       " array([0, 0, 0, ..., 0, 0, 0], dtype=uint8),\n",
       " array([0, 0, 0, ..., 0, 0, 0], dtype=uint8),\n",
       " array([0, 0, 0, ..., 0, 0, 0], dtype=uint8),\n",
       " array([0, 0, 0, ..., 0, 0, 0], dtype=uint8),\n",
       " array([0, 0, 0, ..., 0, 0, 0], dtype=uint8),\n",
       " array([0, 0, 0, ..., 0, 0, 0], dtype=uint8),\n",
       " array([0, 0, 0, ..., 0, 0, 0], dtype=uint8),\n",
       " array([0, 0, 0, ..., 0, 0, 0], dtype=uint8),\n",
       " array([0, 0, 0, ..., 0, 0, 0], dtype=uint8),\n",
       " array([0, 0, 0, ..., 0, 0, 0], dtype=uint8),\n",
       " array([0, 0, 0, ..., 0, 0, 0], dtype=uint8),\n",
       " array([0, 0, 0, ..., 0, 0, 0], dtype=uint8),\n",
       " array([0, 0, 0, ..., 0, 0, 0], dtype=uint8),\n",
       " array([0, 0, 0, ..., 0, 0, 0], dtype=uint8),\n",
       " array([0, 0, 0, ..., 0, 0, 0], dtype=uint8),\n",
       " array([0, 0, 0, ..., 0, 0, 0], dtype=uint8),\n",
       " array([0, 0, 0, ..., 0, 0, 0], dtype=uint8),\n",
       " array([0, 0, 0, ..., 0, 0, 0], dtype=uint8),\n",
       " array([0, 0, 0, ..., 0, 0, 0], dtype=uint8),\n",
       " array([0, 0, 0, ..., 0, 0, 0], dtype=uint8),\n",
       " array([0, 0, 0, ..., 0, 0, 0], dtype=uint8),\n",
       " array([0, 0, 0, ..., 0, 0, 0], dtype=uint8),\n",
       " array([0, 0, 0, ..., 0, 0, 0], dtype=uint8),\n",
       " array([0, 0, 0, ..., 0, 0, 0], dtype=uint8),\n",
       " array([0, 0, 0, ..., 0, 0, 0], dtype=uint8),\n",
       " array([0, 0, 0, ..., 0, 0, 0], dtype=uint8),\n",
       " array([0, 0, 0, ..., 0, 0, 0], dtype=uint8),\n",
       " array([0, 0, 0, ..., 0, 0, 0], dtype=uint8),\n",
       " array([0, 0, 0, ..., 0, 0, 0], dtype=uint8),\n",
       " array([0, 0, 0, ..., 0, 0, 0], dtype=uint8),\n",
       " array([0, 0, 0, ..., 0, 0, 0], dtype=uint8),\n",
       " array([0, 0, 0, ..., 0, 0, 0], dtype=uint8),\n",
       " array([0, 0, 0, ..., 0, 0, 0], dtype=uint8),\n",
       " array([0, 0, 0, ..., 0, 0, 0], dtype=uint8),\n",
       " array([0, 0, 0, ..., 0, 0, 0], dtype=uint8),\n",
       " array([0, 0, 0, ..., 0, 0, 0], dtype=uint8),\n",
       " array([0, 0, 0, ..., 0, 0, 0], dtype=uint8),\n",
       " array([0, 0, 0, ..., 0, 0, 0], dtype=uint8),\n",
       " array([0, 0, 0, ..., 0, 0, 0], dtype=uint8),\n",
       " array([0, 0, 0, ..., 0, 0, 0], dtype=uint8),\n",
       " array([0, 0, 0, ..., 0, 0, 0], dtype=uint8),\n",
       " array([0, 0, 0, ..., 0, 0, 0], dtype=uint8),\n",
       " array([0, 0, 0, ..., 0, 0, 0], dtype=uint8),\n",
       " array([0, 0, 0, ..., 0, 0, 0], dtype=uint8),\n",
       " array([0, 0, 0, ..., 0, 0, 0], dtype=uint8),\n",
       " array([0, 0, 0, ..., 0, 0, 0], dtype=uint8),\n",
       " array([0, 0, 0, ..., 0, 0, 0], dtype=uint8),\n",
       " array([0, 0, 0, ..., 0, 0, 0], dtype=uint8),\n",
       " array([0, 0, 0, ..., 0, 0, 0], dtype=uint8),\n",
       " array([0, 0, 0, ..., 0, 0, 0], dtype=uint8),\n",
       " array([0, 0, 0, ..., 0, 0, 0], dtype=uint8),\n",
       " array([0, 0, 0, ..., 0, 0, 0], dtype=uint8),\n",
       " array([0, 0, 0, ..., 0, 0, 0], dtype=uint8),\n",
       " array([0, 0, 0, ..., 0, 0, 0], dtype=uint8),\n",
       " array([0, 0, 0, ..., 0, 0, 0], dtype=uint8),\n",
       " array([0, 0, 0, ..., 0, 0, 0], dtype=uint8),\n",
       " array([0, 0, 0, ..., 0, 0, 0], dtype=uint8),\n",
       " array([0, 0, 0, ..., 0, 0, 0], dtype=uint8),\n",
       " array([0, 0, 0, ..., 0, 0, 0], dtype=uint8),\n",
       " array([0, 0, 0, ..., 0, 0, 0], dtype=uint8),\n",
       " array([0, 0, 0, ..., 0, 0, 0], dtype=uint8),\n",
       " array([0, 0, 0, ..., 0, 0, 0], dtype=uint8),\n",
       " array([0, 0, 0, ..., 0, 0, 0], dtype=uint8),\n",
       " array([0, 0, 0, ..., 0, 0, 0], dtype=uint8),\n",
       " array([0, 0, 0, ..., 0, 0, 0], dtype=uint8),\n",
       " array([0, 0, 0, ..., 0, 0, 0], dtype=uint8),\n",
       " array([0, 0, 0, ..., 0, 0, 0], dtype=uint8),\n",
       " array([0, 0, 0, ..., 0, 0, 0], dtype=uint8),\n",
       " array([0, 0, 0, ..., 0, 0, 0], dtype=uint8),\n",
       " array([0, 0, 0, ..., 0, 0, 0], dtype=uint8),\n",
       " array([0, 0, 0, ..., 0, 0, 0], dtype=uint8),\n",
       " array([0, 0, 0, ..., 0, 0, 0], dtype=uint8),\n",
       " array([0, 0, 0, ..., 0, 0, 0], dtype=uint8),\n",
       " array([0, 0, 0, ..., 0, 0, 0], dtype=uint8),\n",
       " array([0, 0, 0, ..., 0, 0, 0], dtype=uint8),\n",
       " array([0, 0, 0, ..., 0, 0, 0], dtype=uint8),\n",
       " array([0, 0, 0, ..., 0, 0, 0], dtype=uint8),\n",
       " array([0, 0, 0, ..., 0, 0, 0], dtype=uint8),\n",
       " array([0, 0, 0, ..., 0, 0, 0], dtype=uint8),\n",
       " array([0, 0, 0, ..., 0, 0, 0], dtype=uint8),\n",
       " array([0, 0, 0, ..., 0, 0, 0], dtype=uint8),\n",
       " array([0, 0, 0, ..., 0, 0, 0], dtype=uint8),\n",
       " array([0, 0, 0, ..., 0, 0, 0], dtype=uint8),\n",
       " array([0, 0, 0, ..., 0, 0, 0], dtype=uint8),\n",
       " array([0, 0, 0, ..., 0, 0, 0], dtype=uint8),\n",
       " array([0, 0, 0, ..., 0, 0, 0], dtype=uint8),\n",
       " array([0, 0, 0, ..., 0, 0, 0], dtype=uint8),\n",
       " array([0, 0, 0, ..., 0, 0, 0], dtype=uint8),\n",
       " array([0, 0, 0, ..., 0, 0, 0], dtype=uint8),\n",
       " array([0, 0, 0, ..., 0, 0, 0], dtype=uint8),\n",
       " array([0, 0, 0, ..., 0, 0, 0], dtype=uint8),\n",
       " array([0, 0, 0, ..., 0, 0, 0], dtype=uint8),\n",
       " array([0, 0, 0, ..., 0, 0, 0], dtype=uint8),\n",
       " array([0, 0, 0, ..., 0, 0, 0], dtype=uint8),\n",
       " array([0, 0, 0, ..., 0, 0, 0], dtype=uint8),\n",
       " array([0, 0, 0, ..., 0, 0, 0], dtype=uint8),\n",
       " array([0, 0, 0, ..., 0, 0, 0], dtype=uint8),\n",
       " array([0, 0, 0, ..., 0, 0, 0], dtype=uint8),\n",
       " array([0, 0, 0, ..., 0, 0, 0], dtype=uint8),\n",
       " array([0, 0, 0, ..., 0, 0, 0], dtype=uint8),\n",
       " array([0, 0, 0, ..., 0, 0, 0], dtype=uint8),\n",
       " array([0, 0, 0, ..., 0, 0, 0], dtype=uint8),\n",
       " array([0, 0, 0, ..., 0, 0, 0], dtype=uint8),\n",
       " array([0, 0, 0, ..., 0, 0, 0], dtype=uint8),\n",
       " array([0, 0, 0, ..., 0, 0, 0], dtype=uint8),\n",
       " array([0, 0, 0, ..., 0, 0, 0], dtype=uint8),\n",
       " array([0, 0, 0, ..., 0, 0, 0], dtype=uint8),\n",
       " array([0, 0, 0, ..., 0, 0, 0], dtype=uint8),\n",
       " array([0, 0, 0, ..., 0, 0, 0], dtype=uint8),\n",
       " array([0, 0, 0, ..., 0, 0, 0], dtype=uint8),\n",
       " array([0, 0, 0, ..., 0, 0, 0], dtype=uint8),\n",
       " array([0, 0, 0, ..., 0, 0, 0], dtype=uint8),\n",
       " array([0, 0, 0, ..., 0, 0, 0], dtype=uint8),\n",
       " array([0, 0, 0, ..., 0, 0, 0], dtype=uint8),\n",
       " array([0, 0, 0, ..., 0, 0, 0], dtype=uint8),\n",
       " array([0, 0, 0, ..., 0, 0, 0], dtype=uint8),\n",
       " array([0, 0, 0, ..., 0, 0, 0], dtype=uint8),\n",
       " array([0, 0, 0, ..., 0, 0, 0], dtype=uint8),\n",
       " array([0, 0, 0, ..., 0, 0, 0], dtype=uint8),\n",
       " array([0, 0, 0, ..., 0, 0, 0], dtype=uint8),\n",
       " array([0, 0, 0, ..., 0, 0, 0], dtype=uint8),\n",
       " array([0, 0, 0, ..., 0, 0, 0], dtype=uint8),\n",
       " array([0, 0, 0, ..., 0, 0, 0], dtype=uint8),\n",
       " array([0, 0, 0, ..., 0, 0, 0], dtype=uint8),\n",
       " array([0, 0, 0, ..., 0, 0, 0], dtype=uint8),\n",
       " array([0, 0, 0, ..., 0, 0, 0], dtype=uint8),\n",
       " array([0, 0, 0, ..., 0, 0, 0], dtype=uint8),\n",
       " array([0, 0, 0, ..., 0, 0, 0], dtype=uint8),\n",
       " array([0, 0, 0, ..., 0, 0, 0], dtype=uint8),\n",
       " array([0, 0, 0, ..., 0, 0, 0], dtype=uint8),\n",
       " array([0, 0, 0, ..., 0, 0, 0], dtype=uint8),\n",
       " array([0, 0, 0, ..., 0, 0, 0], dtype=uint8),\n",
       " array([0, 0, 0, ..., 0, 0, 0], dtype=uint8),\n",
       " array([0, 0, 0, ..., 0, 0, 0], dtype=uint8),\n",
       " array([0, 0, 0, ..., 0, 0, 0], dtype=uint8),\n",
       " array([0, 0, 0, ..., 0, 0, 0], dtype=uint8),\n",
       " array([0, 0, 0, ..., 0, 0, 0], dtype=uint8),\n",
       " array([0, 0, 0, ..., 0, 0, 0], dtype=uint8),\n",
       " array([0, 0, 0, ..., 0, 0, 0], dtype=uint8),\n",
       " array([0, 0, 0, ..., 0, 0, 0], dtype=uint8),\n",
       " array([0, 0, 0, ..., 0, 0, 0], dtype=uint8),\n",
       " array([0, 0, 0, ..., 0, 0, 0], dtype=uint8),\n",
       " array([0, 0, 0, ..., 0, 0, 0], dtype=uint8),\n",
       " array([0, 0, 0, ..., 0, 0, 0], dtype=uint8),\n",
       " array([0, 0, 0, ..., 0, 0, 0], dtype=uint8),\n",
       " array([0, 0, 0, ..., 0, 0, 0], dtype=uint8),\n",
       " array([0, 0, 0, ..., 0, 0, 0], dtype=uint8),\n",
       " array([0, 0, 0, ..., 0, 0, 0], dtype=uint8),\n",
       " array([0, 0, 0, ..., 0, 0, 0], dtype=uint8),\n",
       " array([0, 0, 0, ..., 0, 0, 0], dtype=uint8),\n",
       " array([0, 0, 0, ..., 0, 0, 0], dtype=uint8),\n",
       " array([0, 0, 0, ..., 0, 0, 0], dtype=uint8),\n",
       " array([0, 0, 0, ..., 0, 0, 0], dtype=uint8),\n",
       " array([0, 0, 0, ..., 0, 0, 0], dtype=uint8),\n",
       " array([0, 0, 0, ..., 0, 0, 0], dtype=uint8),\n",
       " array([0, 0, 0, ..., 0, 0, 0], dtype=uint8),\n",
       " array([0, 0, 0, ..., 0, 0, 0], dtype=uint8),\n",
       " array([0, 0, 0, ..., 0, 0, 0], dtype=uint8),\n",
       " array([0, 0, 0, ..., 0, 0, 0], dtype=uint8),\n",
       " array([0, 0, 0, ..., 0, 0, 0], dtype=uint8),\n",
       " array([0, 0, 0, ..., 0, 0, 0], dtype=uint8),\n",
       " array([0, 0, 0, ..., 0, 0, 0], dtype=uint8),\n",
       " array([0, 0, 0, ..., 0, 0, 0], dtype=uint8),\n",
       " array([0, 0, 0, ..., 0, 0, 0], dtype=uint8),\n",
       " array([0, 0, 0, ..., 0, 0, 0], dtype=uint8),\n",
       " array([0, 0, 0, ..., 0, 0, 0], dtype=uint8),\n",
       " array([0, 0, 0, ..., 0, 0, 0], dtype=uint8),\n",
       " array([0, 0, 0, ..., 0, 0, 0], dtype=uint8),\n",
       " array([0, 0, 0, ..., 0, 0, 0], dtype=uint8),\n",
       " array([0, 0, 0, ..., 0, 0, 0], dtype=uint8),\n",
       " array([0, 0, 0, ..., 0, 0, 0], dtype=uint8),\n",
       " array([0, 0, 0, ..., 0, 0, 0], dtype=uint8),\n",
       " array([0, 0, 0, ..., 0, 0, 0], dtype=uint8),\n",
       " array([0, 0, 0, ..., 0, 0, 0], dtype=uint8),\n",
       " array([0, 0, 0, ..., 0, 0, 0], dtype=uint8),\n",
       " array([0, 0, 0, ..., 0, 0, 0], dtype=uint8),\n",
       " array([0, 0, 0, ..., 0, 0, 0], dtype=uint8),\n",
       " array([0, 0, 0, ..., 0, 0, 0], dtype=uint8),\n",
       " array([0, 0, 0, ..., 0, 0, 0], dtype=uint8),\n",
       " array([0, 0, 0, ..., 0, 0, 0], dtype=uint8),\n",
       " array([0, 0, 0, ..., 0, 0, 0], dtype=uint8),\n",
       " array([0, 0, 0, ..., 0, 0, 0], dtype=uint8),\n",
       " array([0, 0, 0, ..., 0, 0, 0], dtype=uint8),\n",
       " array([0, 0, 0, ..., 0, 0, 0], dtype=uint8),\n",
       " array([0, 0, 0, ..., 0, 0, 0], dtype=uint8),\n",
       " array([0, 0, 0, ..., 0, 0, 0], dtype=uint8),\n",
       " array([0, 0, 0, ..., 0, 0, 0], dtype=uint8),\n",
       " array([0, 0, 0, ..., 0, 0, 0], dtype=uint8),\n",
       " array([0, 0, 0, ..., 0, 0, 0], dtype=uint8),\n",
       " array([0, 0, 0, ..., 0, 0, 0], dtype=uint8),\n",
       " array([0, 0, 0, ..., 0, 0, 0], dtype=uint8),\n",
       " array([0, 0, 0, ..., 0, 0, 0], dtype=uint8),\n",
       " array([0, 0, 0, ..., 0, 0, 0], dtype=uint8),\n",
       " array([0, 0, 0, ..., 0, 0, 0], dtype=uint8),\n",
       " array([0, 0, 0, ..., 0, 0, 0], dtype=uint8),\n",
       " array([0, 0, 0, ..., 0, 0, 0], dtype=uint8),\n",
       " array([0, 0, 0, ..., 0, 0, 0], dtype=uint8),\n",
       " array([0, 0, 0, ..., 0, 0, 0], dtype=uint8),\n",
       " array([0, 0, 0, ..., 0, 0, 0], dtype=uint8),\n",
       " array([0, 0, 0, ..., 0, 0, 0], dtype=uint8),\n",
       " array([0, 0, 0, ..., 0, 0, 0], dtype=uint8),\n",
       " array([0, 0, 0, ..., 0, 0, 0], dtype=uint8),\n",
       " array([0, 0, 0, ..., 0, 0, 0], dtype=uint8),\n",
       " array([0, 0, 0, ..., 0, 0, 0], dtype=uint8),\n",
       " array([0, 0, 0, ..., 0, 0, 0], dtype=uint8),\n",
       " array([0, 0, 0, ..., 0, 0, 0], dtype=uint8),\n",
       " array([0, 0, 0, ..., 0, 0, 0], dtype=uint8),\n",
       " array([0, 0, 0, ..., 0, 0, 0], dtype=uint8),\n",
       " array([0, 0, 0, ..., 0, 0, 0], dtype=uint8),\n",
       " array([0, 0, 0, ..., 0, 0, 0], dtype=uint8),\n",
       " array([0, 0, 0, ..., 0, 0, 0], dtype=uint8),\n",
       " array([0, 0, 0, ..., 0, 0, 0], dtype=uint8),\n",
       " array([0, 0, 0, ..., 0, 0, 0], dtype=uint8),\n",
       " array([0, 0, 0, ..., 0, 0, 0], dtype=uint8),\n",
       " array([0, 0, 0, ..., 0, 0, 0], dtype=uint8),\n",
       " array([0, 0, 0, ..., 0, 0, 0], dtype=uint8),\n",
       " array([0, 0, 0, ..., 0, 0, 0], dtype=uint8),\n",
       " array([0, 0, 0, ..., 0, 0, 0], dtype=uint8),\n",
       " array([0, 0, 0, ..., 0, 0, 0], dtype=uint8),\n",
       " array([0, 0, 0, ..., 0, 0, 0], dtype=uint8),\n",
       " array([0, 0, 0, ..., 0, 0, 0], dtype=uint8),\n",
       " array([0, 0, 0, ..., 0, 0, 0], dtype=uint8),\n",
       " array([0, 0, 0, ..., 0, 0, 0], dtype=uint8),\n",
       " array([0, 0, 0, ..., 0, 0, 0], dtype=uint8),\n",
       " array([0, 0, 0, ..., 0, 0, 0], dtype=uint8),\n",
       " array([0, 0, 0, ..., 0, 0, 0], dtype=uint8),\n",
       " array([0, 0, 0, ..., 0, 0, 0], dtype=uint8),\n",
       " array([0, 0, 0, ..., 0, 0, 0], dtype=uint8),\n",
       " array([0, 0, 0, ..., 0, 0, 0], dtype=uint8),\n",
       " ...]"
      ]
     },
     "execution_count": 24,
     "metadata": {},
     "output_type": "execute_result"
    }
   ],
   "source": [
    "chiron_radar_data"
   ]
  },
  {
   "cell_type": "code",
   "execution_count": 25,
   "metadata": {},
   "outputs": [
    {
     "data": {
      "text/plain": [
       "(2595, 1024)"
      ]
     },
     "execution_count": 25,
     "metadata": {},
     "output_type": "execute_result"
    }
   ],
   "source": [
    "import numpy as np\n",
    "chiron_radar_data = np.array(chiron_radar_data)\n",
    "chiron_radar_data.shape"
   ]
  },
  {
   "attachments": {
    "image.png": {
     "image/png": "[encoded data removed]"
    }
   },
   "cell_type": "markdown",
   "metadata": {},
   "source": [
    "Here is the RadarDataFrame defn:  \n",
    "![image.png](attachment:image.png)"
   ]
  },
  {
   "cell_type": "markdown",
   "metadata": {},
   "source": [
    "Note, that was a sample of data from 60 seconds. To slice data worth 30 sec, just slice along the first axis:"
   ]
  },
  {
   "cell_type": "code",
   "execution_count": 26,
   "metadata": {},
   "outputs": [
    {
     "data": {
      "text/plain": [
       "(1300, 1024)"
      ]
     },
     "execution_count": 26,
     "metadata": {},
     "output_type": "execute_result"
    }
   ],
   "source": [
    "chiron_radar_data_30s = chiron_radar_data[:1300, :]\n",
    "chiron_radar_data_30s.shape"
   ]
  },
  {
   "cell_type": "markdown",
   "metadata": {},
   "source": [
    "Now; how does the data look for the data in the pickle file in Equipleth, corresponding to 30s of data from a single subject?"
   ]
  },
  {
   "cell_type": "code",
   "execution_count": 18,
   "metadata": {},
   "outputs": [],
   "source": [
    "import pickle\n",
    "\n",
    "# Open the file in binary read mode\n",
    "with open('/Users/jamesemilian/triage/equipleth/Camera_77GHzRadar_Plethysmography_2/rf_files/1_1/rf.pkl', 'rb') as file:\n",
    "    ep_radar_data = pickle.load(file)"
   ]
  },
  {
   "cell_type": "code",
   "execution_count": null,
   "metadata": {},
   "outputs": [],
   "source": [
    "len(ep_radar_data)"
   ]
  },
  {
   "cell_type": "code",
   "execution_count": 20,
   "metadata": {},
   "outputs": [
    {
     "data": {
      "text/plain": [
       "(5110, 728)"
      ]
     },
     "execution_count": 20,
     "metadata": {},
     "output_type": "execute_result"
    }
   ],
   "source": [
    "np.array(ep_radar_data[0]).shape"
   ]
  },
  {
   "cell_type": "code",
   "execution_count": 21,
   "metadata": {},
   "outputs": [
    {
     "data": {
      "text/plain": [
       "((5110,), (5110,), (), ())"
      ]
     },
     "execution_count": 21,
     "metadata": {},
     "output_type": "execute_result"
    }
   ],
   "source": [
    "np.array(ep_radar_data[1]).shape, np.array(ep_radar_data[2]).shape, np.array(ep_radar_data[3]).shape, np.array(ep_radar_data[4]).shape"
   ]
  },
  {
   "cell_type": "code",
   "execution_count": 22,
   "metadata": {},
   "outputs": [
    {
     "data": {
      "text/plain": [
       "('2021-12-04T00:58:02.318791Z', '2021-12-04T00:58:32.323084Z')"
      ]
     },
     "execution_count": 22,
     "metadata": {},
     "output_type": "execute_result"
    }
   ],
   "source": [
    "ep_radar_data[3], ep_radar_data[4]"
   ]
  },
  {
   "cell_type": "markdown",
   "metadata": {},
   "source": [
    "Ok, so these are just timestamps of when the recording was started and ended. `ep_radar_data[0]` should have the 'frame data', which is the actual radar data. What are in `[1]` and `[2]` dimensions?"
   ]
  },
  {
   "cell_type": "markdown",
   "metadata": {},
   "source": [
    "### EP vs Chiron data check"
   ]
  },
  {
   "cell_type": "markdown",
   "metadata": {},
   "source": [
    "Time to check the interleaving of data (the RF read is mentioned to add zeros alternatively to samples in the )"
   ]
  },
  {
   "cell_type": "code",
   "execution_count": 35,
   "metadata": {},
   "outputs": [
    {
     "data": {
      "text/plain": [
       "(1300, 1024)"
      ]
     },
     "execution_count": 35,
     "metadata": {},
     "output_type": "execute_result"
    }
   ],
   "source": [
    "chiron_radar_data_30s.shape"
   ]
  },
  {
   "cell_type": "code",
   "execution_count": 38,
   "metadata": {},
   "outputs": [
    {
     "data": {
      "text/plain": [
       "(1024,)"
      ]
     },
     "execution_count": 38,
     "metadata": {},
     "output_type": "execute_result"
    }
   ],
   "source": [
    "chiron_radar_data_30s[0].shape\n",
    "#shape of one raw frame (one message)"
   ]
  },
  {
   "cell_type": "code",
   "execution_count": 36,
   "metadata": {},
   "outputs": [
    {
     "data": {
      "text/plain": [
       "(array([  0,   1,   2,   3,   4,   5,   6,   7,   8,   9,  10,  11,  12,  13,  14,  15,  16,  17,  18,  19,  20,  21,  22,  24,  25,  26,  27,  28,  29,  30,  31,  32,  33,  34,  35,  38,  40,  41,  42,  43,  46,  47,  48,  49,  50,  51,  53,  54,  55,  56,  57,  58,  59,  61,  62,  63,  66,  67,  68,  70,  73,  74,  76,\n",
       "         77,  80,  81,  82,  84,  86,  88,  90,  93,  95,  96,  98,  99, 100, 101, 102, 104, 105, 106, 108, 109, 110, 112, 113, 114, 116, 117, 121, 122, 124, 125, 126, 128, 129, 131, 132, 133, 134, 135, 136, 137, 138, 142, 143, 145, 146, 147, 148, 149, 151, 153, 156, 157, 158, 159, 160, 161, 162, 163, 164, 165, 166, 167,\n",
       "        168, 169, 173, 174, 175, 177, 178, 184, 185, 187, 188, 190, 191, 192, 193, 194, 195, 196, 197, 200, 201, 202, 204, 205, 206, 207, 209, 210, 211, 212, 213, 217, 218, 219, 220, 221, 223, 226, 227, 229, 230, 231, 232, 233, 234, 235, 237, 238, 239, 240, 241, 242, 243, 244, 245, 246, 247, 248, 249, 250, 251, 252, 253,\n",
       "        254, 255], dtype=uint8),\n",
       " array([  0,   1,   2,   3,   4,   5,   6,   7,   8,   9,  10,  11,  12,  13,  14,  15,  16,  17,  18,  19,  20,  21,  22,  24,  25,  26,  27,  28,  29,  30,  31,  32,  33,  34,  35,  36,  37,  38,  39,  40,  41,  43,  44,  45,  46,  47,  50,  51,  53,  54,  55,  58,  61,  62,  63,  64,  65,  66,  67,  68,  69,  70,  71,\n",
       "         74,  75,  76,  77,  78,  79,  81,  82,  83,  86,  88,  89,  91,  92,  93,  95,  96,  97,  99, 100, 102, 104, 105, 106, 108, 109, 111, 115, 116, 117, 119, 120, 121, 123, 125, 128, 129, 131, 132, 133, 134, 135, 138, 139, 140, 141, 142, 143, 144, 146, 147, 150, 151, 155, 158, 160, 161, 162, 163, 164, 166, 168, 169,\n",
       "        170, 171, 173, 175, 176, 177, 178, 180, 182, 183, 185, 186, 187, 189, 191, 194, 195, 196, 197, 198, 199, 201, 203, 205, 206, 208, 209, 213, 214, 215, 216, 218, 219, 220, 221, 222, 223, 224, 225, 226, 227, 228, 229, 230, 232, 233, 235, 237, 238, 239, 241, 242, 243, 244, 245, 246, 247, 248, 249, 250, 251, 252, 253,\n",
       "        254, 255], dtype=uint8))"
      ]
     },
     "execution_count": 36,
     "metadata": {},
     "output_type": "execute_result"
    }
   ],
   "source": [
    "np.unique(chiron_radar_data_30s[0]), np.unique(chiron_radar_data_30s[1])"
   ]
  },
  {
   "cell_type": "code",
   "execution_count": 39,
   "metadata": {},
   "outputs": [
    {
     "data": {
      "text/plain": [
       "(91.1494140625, 114.9365234375)"
      ]
     },
     "execution_count": 39,
     "metadata": {},
     "output_type": "execute_result"
    }
   ],
   "source": [
    "np.mean(chiron_radar_data_30s[0]), np.mean(chiron_radar_data_30s[1])"
   ]
  },
  {
   "cell_type": "code",
   "execution_count": 42,
   "metadata": {},
   "outputs": [
    {
     "data": {
      "text/plain": [
       "(array([ 91.14941406, 114.93652344,  91.61816406, 115.20410156,  91.        , 115.12988281,  91.1953125 , 116.84863281,  91.19335938, 115.06640625,  91.25390625, 115.14746094,  91.18359375, 115.32910156,  91.37304688, 115.53808594,  90.99609375, 115.28808594,  91.39941406, 115.22851562,  91.05566406, 115.21484375,\n",
       "         91.42480469, 115.60839844,  91.05566406, 115.33789062,  91.24316406, 115.40039062,  91.00097656, 115.17773438,  91.32519531, 115.34277344,  91.55175781, 115.64941406,  91.62695312, 115.27441406,  91.17285156, 116.04296875,  91.40039062, 115.32519531,  91.24511719, 115.36230469,  91.53125   , 115.21582031,\n",
       "         91.36035156, 115.54785156,  91.04785156, 115.26074219,  91.33007812, 117.31445312,  91.62597656, 115.3515625 ,  91.9375    , 116.390625  ,  91.65136719, 116.14355469,  91.45898438, 115.53027344,  91.54101562, 115.68945312,  91.59179688, 114.92871094,  91.45800781, 123.97460938,  91.17285156, 131.421875  ,\n",
       "         91.125     , 127.67285156,  91.02441406, 135.24121094,  91.44824219, 122.02246094,  91.30859375, 134.59472656,  91.20117188, 122.17480469,  91.39550781, 115.89550781,  91.01171875, 118.22070312,  91.30175781, 117.52246094,  91.48046875, 131.70117188,  91.53808594, 135.28027344,  91.28613281, 135.17480469,\n",
       "         91.27050781, 135.07519531,  91.04394531, 135.09863281,  91.37890625, 135.21386719,  90.94726562, 115.05371094,  91.09277344, 116.70898438,  91.21679688, 125.94921875,  91.04492188, 131.2734375 ,  91.29589844, 131.98925781,  91.31054688, 140.34472656,  91.06152344, 141.68945312,  91.4921875 , 138.92382812,\n",
       "         91.33691406, 119.44628906,  91.20019531, 136.04394531,  91.34960938, 143.89355469,  91.12597656, 128.08886719,  91.63574219, 122.62597656,  91.49609375, 142.10742188,  91.57910156, 141.93945312,  91.33789062, 144.04296875,  91.09570312, 127.66894531,  91.11230469, 143.01074219,  91.25390625, 142.88671875,\n",
       "         91.578125  , 144.54101562,  91.21875   , 140.91015625,  91.23144531, 144.15820312,  91.37597656, 138.32324219,  91.484375  , 140.75585938,  91.26953125, 143.93554688,  91.50292969, 143.83105469,  91.66601562, 141.97265625,  91.26269531, 143.62988281,  91.3046875 , 142.203125  ,  91.07519531, 144.53515625,\n",
       "         91.46679688, 144.05761719,  91.07421875, 142.93066406,  91.62011719, 142.68164062,  91.01074219, 144.63574219,  91.68652344, 144.47851562,  91.46875   , 144.47167969,  91.28710938, 144.5234375 ,  91.39355469, 144.41894531,  91.44433594, 143.04589844,  91.43554688, 144.51660156,  91.35839844, 144.82617188,\n",
       "         91.59570312, 144.58203125,  91.55664062, 144.38867188,  91.5234375 , 145.21484375,  91.45117188, 144.93457031,  91.21289062, 144.91308594,  91.00683594, 144.55175781,  91.58398438, 144.30566406,  91.2265625 , 144.77929688,  91.37304688, 145.1796875 ,  91.54003906, 144.99121094,  91.35058594, 145.30957031,\n",
       "         91.42285156, 145.38867188,  90.90332031, 144.8359375 ,  91.64648438, 146.00976562,  91.39941406, 145.30859375,  91.2265625 , 144.99707031,  91.58691406, 145.76171875,  91.68554688, 145.35546875,  91.10058594, 145.1953125 ,  91.14257812, 145.19921875,  91.39550781, 144.32324219,  90.984375  , 143.92285156,\n",
       "         91.18554688, 143.85449219,  91.25195312, 144.06738281,  91.27050781, 145.19628906,  91.64746094, 145.15917969,  91.53222656, 144.82226562,  91.08691406, 144.65722656,  91.12792969, 145.76953125,  91.51074219, 145.703125  ,  91.25390625, 145.51367188,  91.36425781, 145.65625   ,  91.45214844, 145.80078125,\n",
       "         90.87402344, 145.06054688,  91.33105469, 144.91308594,  91.36621094, 144.99902344,  91.01074219, 145.04785156,  91.11816406, 144.99902344,  91.6015625 , 145.55566406,  91.63183594, 145.71972656,  91.15527344, 145.26074219,  91.20605469, 145.88378906,  90.73242188, 145.17578125,  91.1484375 , 145.67089844,\n",
       "         91.06738281, 144.72070312,  91.12695312, 146.14160156,  90.86132812, 145.81640625,  91.21191406, 144.78027344,  91.24511719, 146.45019531,  91.27441406, 145.52441406,  91.2734375 , 146.19628906,  91.3046875 , 146.14941406,  91.78613281, 146.60253906,  91.47070312, 146.41894531,  91.13574219, 146.70019531,\n",
       "         91.1640625 , 146.23535156,  91.31152344, 146.06152344,  91.18945312, 145.86523438,  91.49511719, 145.47851562,  91.22363281, 146.49902344,  91.33789062, 146.30957031,  91.04980469, 146.7890625 ,  90.95800781, 145.81347656,  91.25488281, 146.52246094,  91.24316406, 146.52539062,  91.18164062, 145.91992188,\n",
       "         91.45214844, 146.27050781,  91.28320312, 146.09082031,  91.02929688, 146.08496094,  91.91113281, 146.89355469,  91.87109375, 145.99707031,  91.35253906, 146.35644531,  91.65820312, 146.99902344,  91.79003906, 146.0703125 ,  91.62988281, 145.95117188,  91.01269531, 145.6171875 ,  91.34375   , 146.81445312,\n",
       "         91.97753906, 146.55761719,  90.98535156, 146.52441406,  91.75390625, 146.46386719,  91.35742188, 146.43554688,  91.63769531, 146.36523438,  91.54589844, 146.77148438,  92.22949219, 146.7109375 ,  91.25390625, 146.4296875 ,  91.59375   , 146.49023438,  91.28222656, 146.33691406,  91.54492188, 147.02636719,\n",
       "         91.55273438, 146.78417969,  91.57324219, 146.48242188,  91.08398438, 147.1171875 ,  91.3984375 , 146.78222656,  91.38085938, 146.57324219,  91.78613281, 146.26367188,  91.38671875, 146.04589844,  91.89648438, 146.65234375,  91.46484375, 146.3671875 ,  91.05078125, 146.38476562,  91.70605469, 147.16796875,\n",
       "         91.76855469, 147.10253906,  91.51074219, 146.93847656,  91.71972656, 146.41210938,  91.7890625 , 146.3359375 ,  91.38085938, 146.83105469,  91.07421875, 147.18359375,  91.35058594, 147.546875  ,  91.04589844, 146.99707031,  91.86914062, 146.43066406,  91.4453125 , 146.37792969,  91.69628906, 146.75390625,\n",
       "         91.58203125, 146.8515625 ,  91.22070312, 146.9296875 ,  91.640625  , 146.79492188,  92.10839844, 146.44433594,  91.79003906, 146.77050781,  91.53417969, 147.27929688,  91.54394531, 147.5625    ,  91.19042969, 147.37207031,  91.90136719, 146.85253906,  91.62109375, 146.51464844,  91.55175781, 147.21484375,\n",
       "         91.54003906, 146.88574219,  91.26269531, 147.04199219,  91.45019531, 146.77246094,  91.78027344, 146.37109375,  92.04296875, 146.671875  ,  91.3671875 , 147.34472656,  91.46777344, 146.9140625 ,  92.14648438, 147.39550781,  91.46679688, 146.54980469,  91.30175781, 147.09179688,  91.53515625, 146.93945312,\n",
       "         91.79296875, 146.51660156,  91.53515625, 146.72460938,  91.43945312, 146.65722656,  91.17382812, 147.34179688,  91.52832031, 146.84960938,  91.77539062, 147.27734375,  91.52832031, 147.12890625,  91.48632812, 147.48242188,  91.69726562, 146.9453125 ,  91.77929688, 147.73535156,  91.83691406, 146.82128906,\n",
       "         91.7890625 , 147.70507812,  91.41601562, 147.47558594,  91.8984375 , 146.99804688,  91.70214844, 148.18457031,  91.78320312, 147.80957031,  91.74316406, 147.95507812,  92.20117188, 147.87402344,  91.76757812, 148.10839844,  91.70996094, 148.10742188,  91.41015625, 148.18652344,  91.33105469, 148.31542969,\n",
       "         91.33300781, 147.8046875 ,  91.93359375, 147.52929688,  92.03320312, 148.39160156,  91.85644531, 148.56054688,  91.4453125 , 148.734375  ,  91.92382812, 147.76953125,  91.87597656, 148.02832031,  91.88574219, 148.1015625 ,  91.88476562, 148.0078125 ,  91.38183594, 148.27539062,  91.75878906, 147.80371094,\n",
       "         91.828125  , 147.62207031,  91.45410156, 148.0390625 ,  91.40917969, 148.00195312,  91.37011719, 147.63476562,  91.45214844, 147.89746094,  91.80273438, 148.33886719,  91.17480469, 147.99609375,  92.15527344, 147.98339844,  91.94238281, 147.359375  ,  91.203125  , 148.18066406,  91.53027344, 147.88769531,\n",
       "         91.6484375 , 148.05957031,  91.96289062, 148.13183594,  91.52734375, 148.11425781,  91.4375    , 147.44238281,  91.83105469, 148.23632812,  91.9375    , 148.20117188,  91.31347656, 147.41308594,  91.34765625, 147.43457031,  91.90332031, 148.32421875,  91.421875  , 148.734375  ,  91.66699219, 148.96582031,\n",
       "         91.83300781, 149.14355469,  91.71972656, 148.734375  ,  91.08203125, 148.57324219,  91.83496094, 149.18847656,  91.859375  , 148.31542969,  91.82617188, 148.58203125,  91.49316406, 148.79589844,  91.72460938, 149.12109375,  91.30957031, 148.86425781,  91.30761719, 148.31738281,  91.52441406, 148.46972656,\n",
       "         91.79003906, 148.5078125 ,  92.05761719, 148.56152344,  91.64257812, 148.96972656,  91.70703125, 148.71679688,  91.74414062, 148.80273438,  91.6875    , 148.56347656,  91.50585938, 149.07324219,  91.92675781, 148.89160156,  91.54003906, 148.94824219,  91.93847656, 148.31640625,  91.95703125, 148.81152344,\n",
       "         91.41113281, 148.74023438,  91.72460938, 148.92480469,  91.5078125 , 149.22265625,  91.54785156, 149.01953125,  91.39160156, 149.0234375 ,  91.10253906, 149.14453125,  91.16503906, 148.90429688,  91.38085938, 149.44726562,  91.74707031, 149.01464844,  91.83398438, 149.02734375,  91.765625  , 148.55566406,\n",
       "         92.06640625, 148.57714844,  91.82226562, 148.52441406,  91.54980469, 148.43164062,  91.61914062, 148.73632812,  91.35449219, 149.09863281,  91.21777344, 148.76855469,  91.79980469, 148.76269531,  91.30664062, 149.81152344,  91.34765625, 149.43164062,  91.50683594, 149.08398438,  91.34082031, 149.55175781,\n",
       "         91.53222656, 149.48730469,  91.67871094, 149.20019531,  91.36425781, 149.51757812,  91.42285156, 148.65039062,  91.38574219, 149.00488281,  91.47949219, 149.21289062,  91.68066406, 149.06835938,  91.49414062, 149.7734375 ,  91.48046875, 149.53710938,  91.5       , 149.78515625,  91.37988281, 149.73046875,\n",
       "         91.07324219, 148.93457031,  91.63964844, 148.56445312,  91.74121094, 148.86328125,  91.72265625, 148.75097656,  91.55957031, 148.87988281,  91.5390625 , 149.27539062,  91.46484375, 147.89257812,  91.59765625, 149.32519531,  91.45410156, 148.875     ,  91.62695312, 148.62011719,  91.734375  , 149.33203125,\n",
       "         91.46679688, 148.83105469,  91.28320312, 149.79980469,  91.45214844, 149.08886719,  91.22460938, 149.57128906,  91.54003906, 149.4296875 ,  91.63085938, 148.84472656,  91.52441406, 148.73339844,  91.76269531, 148.75585938,  91.23632812, 149.09472656,  91.45019531, 149.45117188,  90.63671875, 148.98144531,\n",
       "         91.61132812, 148.11230469,  91.59472656, 148.42480469,  91.1171875 , 149.0546875 ,  91.35742188, 149.93164062,  91.60546875, 147.93945312,  91.33105469, 148.22070312,  91.1875    , 149.00683594,  91.68457031, 149.50585938,  91.51074219, 149.15429688,  91.59277344, 149.47460938,  91.55371094, 148.89746094,\n",
       "         91.59082031, 148.58691406,  91.79003906, 149.15917969,  91.71289062, 149.22558594,  90.57714844, 148.12207031,  91.54296875, 149.61230469,  91.80566406, 149.17480469,  90.92773438, 149.73144531,  91.41015625, 149.54101562,  91.625     , 147.96386719,  91.62988281, 148.41699219,  91.40820312, 149.41992188,\n",
       "         91.30859375, 149.05273438,  91.52832031, 148.63964844,  91.2421875 , 148.16992188,  91.65039062, 148.5       ,  91.46777344, 149.38378906,  91.42871094, 148.22753906,  91.53027344, 148.18847656,  91.35839844, 147.95410156,  91.5       , 148.38183594,  90.99121094, 148.77832031,  90.98925781, 148.27539062,\n",
       "         91.62109375, 148.078125  ,  91.22851562, 149.0546875 ,  91.73632812, 149.00292969,  91.66015625, 149.328125  ,  91.51171875, 149.05371094,  91.64941406, 149.01855469,  91.53613281, 149.41113281,  91.39160156, 148.54199219,  92.03320312, 149.38671875,  91.4609375 , 148.57226562,  91.47949219, 149.03320312,\n",
       "         91.63183594, 148.06933594,  91.23632812, 148.46679688,  91.4921875 , 148.42578125,  91.47949219, 148.31933594,  91.45996094, 149.26367188,  91.18652344, 148.49902344,  91.15039062, 149.22167969,  91.54199219, 148.61914062,  91.17773438, 147.92675781,  90.64941406, 147.9921875 ,  91.37402344, 148.2265625 ,\n",
       "         91.22753906, 148.39453125,  91.09960938, 148.10253906,  91.41992188, 148.89453125,  91.59277344, 149.93066406,  91.49804688, 149.15429688,  91.30957031, 147.83007812,  91.63769531, 148.17480469,  91.16210938, 148.40625   ,  91.20605469, 148.37402344,  91.94042969, 148.67675781,  91.140625  , 148.15429688,\n",
       "         91.49707031, 149.11816406,  91.23632812, 148.49902344,  91.62304688, 148.58886719,  91.02636719, 149.23242188,  91.47070312, 149.10742188,  91.4140625 , 148.16992188,  91.17285156, 149.13085938,  91.29882812, 148.5078125 ,  91.18554688, 149.19726562,  91.46777344, 148.28613281,  91.34570312, 148.44042969,\n",
       "         91.69335938, 148.75      ,  91.4140625 , 148.74414062,  91.15625   , 148.25390625,  91.16992188, 147.86621094,  91.62109375, 148.88964844,  90.85546875, 149.1328125 ,  92.23925781, 148.94628906,  91.47070312, 149.12011719,  91.13867188, 148.54003906,  91.32910156, 148.46972656,  91.54980469, 148.89453125,\n",
       "         91.22167969, 149.42480469,  91.66796875, 149.74804688,  91.35644531, 149.36132812,  91.61328125, 149.16601562,  91.5390625 , 149.4921875 ,  90.69433594, 149.82617188,  91.54199219, 149.08984375,  91.68945312, 149.22949219,  91.19921875, 148.40136719,  91.06152344, 148.89746094,  91.09667969, 150.00292969,\n",
       "         91.41015625, 148.77441406,  91.2421875 , 148.81738281,  91.41503906, 148.80175781,  91.58496094, 149.29882812,  91.16894531, 148.65527344,  91.2890625 , 149.6171875 ,  91.22070312, 149.14355469,  91.36816406, 148.84472656,  91.54882812, 148.72460938,  90.81835938, 148.87304688,  90.9375    , 148.65917969,\n",
       "         91.08300781, 149.04003906,  91.54101562, 148.9296875 ,  90.81347656, 148.91308594,  91.609375  , 148.83105469,  91.77148438, 149.16601562,  91.07226562, 150.1484375 ,  91.37597656, 149.49609375,  91.21972656, 149.67382812,  90.8359375 , 149.13769531,  91.31835938, 149.19335938,  91.13867188, 149.28613281,\n",
       "         91.27539062, 149.63183594,  91.1796875 , 149.70019531,  91.47460938, 149.21386719,  91.16113281, 149.52050781,  91.31152344, 149.50585938,  91.25195312, 148.94335938,  91.29980469, 149.56054688,  91.23730469, 149.10839844,  91.20703125, 148.42871094,  91.46386719, 148.92773438,  91.19042969, 148.74316406,\n",
       "         91.39550781, 147.81347656,  91.09375   , 149.20800781,  91.53027344, 149.29785156,  91.04394531, 149.58007812,  90.90625   , 149.20605469,  91.21972656, 148.99414062,  91.27441406, 149.02050781,  91.36425781, 149.66015625,  91.38378906, 149.07519531,  91.171875  , 149.08984375,  90.7109375 , 149.95800781,\n",
       "         91.45996094, 149.45117188,  90.86914062, 149.68359375,  91.18066406, 149.71289062,  91.2265625 , 149.70605469,  91.10351562, 149.20605469,  91.78125   , 149.56347656,  91.23632812, 149.17382812,  90.828125  , 149.38671875,  91.40917969, 149.94433594,  90.95800781, 149.82324219,  90.96484375, 149.1328125 ,\n",
       "         91.21484375, 149.79589844,  91.3828125 , 149.73339844,  91.79199219, 149.59765625,  91.15527344, 149.7734375 ,  91.41601562, 149.50585938,  91.17675781, 149.52832031,  91.33496094, 149.53808594,  91.18945312, 149.84765625,  91.20214844, 149.87890625,  91.9609375 , 149.88476562,  91.02050781, 149.57226562,\n",
       "         91.484375  , 149.484375  ,  91.45214844, 149.6328125 ,  91.20117188, 149.91113281,  91.53417969, 149.23535156,  91.21777344, 149.90917969,  91.61328125, 149.74414062,  91.66503906, 149.82128906,  91.72949219, 149.50976562,  91.31347656, 149.70996094,  91.04296875, 149.24902344,  91.10742188, 149.7109375 ,\n",
       "         90.71386719, 149.52734375,  91.12890625, 149.30175781,  91.33300781, 149.81445312,  90.87792969, 149.70996094,  91.63183594, 149.1328125 ,  91.62695312, 148.73144531,  90.95410156, 149.23339844,  91.29785156, 149.36132812,  90.95214844, 149.58691406,  91.046875  , 150.20507812,  91.29492188, 148.92089844,\n",
       "         91.15039062, 149.3359375 ,  91.40234375, 149.95703125,  91.70507812, 149.92871094,  90.87304688, 149.59472656,  91.67089844, 149.23730469,  90.85546875, 150.13378906,  91.25390625, 150.06152344,  91.03222656, 149.65429688,  91.45800781, 149.02734375,  91.20507812, 149.59472656,  91.11328125, 149.203125  ,\n",
       "         92.00195312, 149.38183594,  92.21582031, 148.96484375,  91.515625  , 149.95410156,  91.67675781, 149.02539062,  91.40527344, 149.11523438,  91.05664062, 148.99609375,  90.97949219, 149.09863281,  91.04882812, 149.91894531,  91.53222656, 149.59375   ,  91.62792969, 149.24023438,  91.18359375, 149.625     ,\n",
       "         90.90820312, 149.71875   ,  92.1015625 , 149.64355469,  91.91796875, 149.93554688,  91.13378906, 149.44140625,  91.21289062, 150.01757812,  91.04199219, 149.79785156,  91.18945312, 149.54589844,  91.65429688, 149.296875  ,  91.13867188, 149.51269531,  91.90820312, 149.65136719,  91.34375   , 149.68457031,\n",
       "         91.16015625, 149.88574219,  91.30078125, 149.47558594,  91.01757812, 149.48046875,  91.90039062, 149.85449219,  91.66796875, 149.79003906,  91.35058594, 149.83886719,  91.73730469, 149.45996094,  91.49902344, 149.36328125,  90.9609375 , 149.23144531,  90.6796875 , 148.95117188,  91.50488281, 149.14746094,\n",
       "         91.45019531, 149.37402344,  90.92871094, 149.77050781,  91.44238281, 149.87402344,  91.11132812, 149.43945312,  91.34960938, 148.75097656,  91.47265625, 148.95605469,  91.24707031, 149.01171875,  90.90820312, 149.62988281,  91.31933594, 149.66601562,  90.71679688, 149.37109375,  90.71679688, 148.9453125 ,\n",
       "         92.20703125, 149.58398438,  91.56347656, 149.12695312,  92.19628906, 148.96484375,  91.77050781, 149.99609375,  91.74023438, 149.45703125,  91.86230469, 149.6171875 ,  91.54589844, 149.61816406,  91.42089844, 149.51171875,  91.38378906, 150.56933594,  91.52929688, 149.83398438,  90.65722656, 149.7265625 ,\n",
       "         91.00097656, 149.29394531,  90.99804688, 149.72167969,  90.87792969, 150.06640625,  90.59667969, 149.44628906,  91.25390625, 149.88964844,  91.05761719, 149.18847656,  90.77929688, 149.5234375 ,  91.20507812, 149.39648438,  91.07324219, 149.50683594,  91.12988281, 148.8984375 ,  90.99804688, 148.68945312,\n",
       "         91.34277344, 149.45898438,  92.30761719, 149.07226562,  91.74902344, 149.45410156,  92.04394531, 149.90332031,  91.75097656, 149.50195312,  91.08300781, 149.88378906,  91.3515625 , 149.81542969,  91.39648438, 149.59863281,  91.01757812, 149.40234375,  91.05859375, 149.17871094,  91.23144531, 149.7421875 ,\n",
       "         91.12890625, 149.26074219,  91.14746094, 149.31835938,  91.04492188, 149.43261719,  91.06542969, 149.53125   ,  91.82714844, 149.14550781,  91.44628906, 149.29785156,  91.12402344, 149.59472656,  90.99121094, 149.078125  ,  90.76367188, 149.20605469,  90.70996094, 149.76953125,  90.8515625 , 150.10839844,\n",
       "         91.61132812, 149.87695312,  91.97949219, 149.23632812,  91.71875   , 149.16601562,  91.00390625, 149.37695312,  90.98339844, 149.25878906,  91.90917969, 149.0078125 ,  91.56152344, 149.44238281,  92.30078125, 149.08886719,  90.83886719, 149.17871094,  91.0703125 , 149.18554688,  91.4921875 , 149.25292969,\n",
       "         91.31054688, 149.30566406]),\n",
       " (1300,))"
      ]
     },
     "execution_count": 42,
     "metadata": {},
     "output_type": "execute_result"
    }
   ],
   "source": [
    "np.mean(chiron_radar_data_30s, axis=1), np.mean(chiron_radar_data_30s, axis=1).shape"
   ]
  },
  {
   "cell_type": "markdown",
   "metadata": {},
   "source": [
    "Not sure what I'm looking at; just looking at changes in mean values over the time axis. "
   ]
  },
  {
   "cell_type": "code",
   "execution_count": 40,
   "metadata": {},
   "outputs": [],
   "source": [
    "# import matplotlib as plt\n",
    "# plt.plot(idx, chiron_radar_data_30s[0], label='RGB FFT')"
   ]
  },
  {
   "cell_type": "code",
   "execution_count": 57,
   "metadata": {},
   "outputs": [
    {
     "data": {
      "text/plain": [
       "[<matplotlib.lines.Line2D at 0x17fbec610>]"
      ]
     },
     "execution_count": 57,
     "metadata": {},
     "output_type": "execute_result"
    },
    {
     "data": {
      "image/png": "[encoded data removed]",
      "text/plain": [
       "<Figure size 640x480 with 1 Axes>"
      ]
     },
     "metadata": {},
     "output_type": "display_data"
    }
   ],
   "source": [
    "import matplotlib.pyplot as plt\n",
    "idx = np.arange(0, 1300)\n",
    "plt.plot(idx, np.mean(chiron_radar_data_30s, axis=1))"
   ]
  },
  {
   "cell_type": "markdown",
   "metadata": {},
   "source": [
    "1300 values for 30s; that's about 43 frames/sec. reshape like that and plot."
   ]
  },
  {
   "cell_type": "code",
   "execution_count": 63,
   "metadata": {},
   "outputs": [
    {
     "data": {
      "text/plain": [
       "(50, 26)"
      ]
     },
     "execution_count": 63,
     "metadata": {},
     "output_type": "execute_result"
    }
   ],
   "source": [
    "chiron_means = np.mean(chiron_radar_data_30s, axis=1)\n",
    "chiron_means_reshap = np.reshape(chiron_means, (-1, 26))\n",
    "chiron_means_reshap.shape"
   ]
  },
  {
   "cell_type": "markdown",
   "metadata": {},
   "source": [
    "(Tough to reshape into an array with a 30 dimn; but this should give a rough idea):"
   ]
  },
  {
   "cell_type": "code",
   "execution_count": 64,
   "metadata": {},
   "outputs": [
    {
     "data": {
      "text/plain": [
       "[<matplotlib.lines.Line2D at 0x17fcab160>]"
      ]
     },
     "execution_count": 64,
     "metadata": {},
     "output_type": "execute_result"
    },
    {
     "data": {
      "image/png": "[encoded data removed]",
      "text/plain": [
       "<Figure size 640x480 with 1 Axes>"
      ]
     },
     "metadata": {},
     "output_type": "display_data"
    }
   ],
   "source": [
    "import matplotlib.pyplot as plt\n",
    "idx = np.arange(0, 50)\n",
    "plt.plot(idx, np.mean(chiron_means_reshap, axis=1))"
   ]
  },
  {
   "cell_type": "code",
   "execution_count": 71,
   "metadata": {},
   "outputs": [
    {
     "data": {
      "text/plain": [
       "[<matplotlib.lines.Line2D at 0x2897faec0>]"
      ]
     },
     "execution_count": 71,
     "metadata": {},
     "output_type": "execute_result"
    },
    {
     "data": {
      "image/png": "[encoded data removed]",
      "text/plain": [
       "<Figure size 640x480 with 1 Axes>"
      ]
     },
     "metadata": {},
     "output_type": "display_data"
    }
   ],
   "source": [
    "import matplotlib.pyplot as plt\n",
    "idx = np.arange(0, 40)\n",
    "plt.plot(idx, np.mean(chiron_means_reshap[10:], axis=1))"
   ]
  },
  {
   "cell_type": "markdown",
   "metadata": {},
   "source": [
    "Above represents about 24 sec of data. Looks ok? Not sure - and this is also not simply respiration data; it is hard to judge."
   ]
  },
  {
   "cell_type": "markdown",
   "metadata": {},
   "source": [
    "Thus far, I don't see any interleaving of zeros in the raw data of Chiron. Take a quick look at EP; have to move to actual inference updates ASAP."
   ]
  },
  {
   "cell_type": "code",
   "execution_count": 46,
   "metadata": {},
   "outputs": [],
   "source": [
    "ep_radar_data_np = np.array(ep_radar_data[0])"
   ]
  },
  {
   "cell_type": "code",
   "execution_count": 47,
   "metadata": {},
   "outputs": [
    {
     "data": {
      "text/plain": [
       "(5110, 728)"
      ]
     },
     "execution_count": 47,
     "metadata": {},
     "output_type": "execute_result"
    }
   ],
   "source": [
    "ep_radar_data_np.shape"
   ]
  },
  {
   "cell_type": "code",
   "execution_count": 49,
   "metadata": {},
   "outputs": [
    {
     "data": {
      "text/plain": [
       "(array([    0,     1,     2,     5,     9,    11,    12,    14,    17,    18,    19,    21,    22,    23,    26,    27,    28,    33,    34,    35,    36,    39,    43,    45,    47,    49,    50,    52,    56,    58,    60,    61,    63,    64,    69,    70,    72,    73,    77,    84,    85,    86,    88,   105,   106,\n",
       "          107,   110,   114,   115,   117,   122,   129,   131,   138,   140,   142,   144,   145,   146,   150,   151,   152,   154,   156,   160,   161,   162,   167,   169,   172,   176,   179,   186,   191,   203,   205,   211,   213,   214,   221,   224,   226,   229,   231,   240,   242,   243,   248,   250,   251,\n",
       "          253,   254,   260,   261,   269,   275,   281,   283,   284,   288,   290,   291,   292,   298,   300,   301,   303,   309,   310,   311,   314,   321,   322,   326,   328,   329,   334,   336,   338,   345,   346,   349,   350,   354,   357,   359,   362,   363,   369,   370,   372,   375,   386,   393,   394,\n",
       "          395,   405,   407,   416,   422,   423,   438,   441,   450,   458,   460,   463,   469,   472,   475,   486,   489,   494,   496,   506,   512,   526,   535,   541,   553,   555,   559,   565,   570,   576,   590,   591,   606,   618, 64966, 65026, 65048, 65049, 65059, 65062, 65065, 65070, 65084, 65085, 65087,\n",
       "        65090, 65103, 65108, 65113, 65120, 65124, 65126, 65127, 65128, 65137, 65153, 65160, 65161, 65168, 65170, 65183, 65187, 65199, 65200, 65203, 65204, 65207, 65220, 65223, 65226, 65227, 65233, 65238, 65239, 65243, 65247, 65248, 65249, 65253, 65254, 65255, 65260, 65262, 65264, 65266, 65275, 65279, 65286, 65287, 65289,\n",
       "        65295, 65301, 65305, 65309, 65312, 65314, 65318, 65319, 65321, 65323, 65327, 65332, 65334, 65337, 65339, 65341, 65344, 65346, 65347, 65349, 65350, 65353, 65355, 65360, 65361, 65362, 65363, 65367, 65374, 65375, 65380, 65381, 65385, 65396, 65401, 65403, 65405, 65406, 65410, 65411, 65412, 65413, 65414, 65416, 65419,\n",
       "        65420, 65422, 65425, 65426, 65428, 65429, 65436, 65439, 65443, 65448, 65449, 65452, 65458, 65460, 65466, 65467, 65468, 65471, 65475, 65476, 65477, 65479, 65485, 65486, 65489, 65490, 65498, 65507, 65510, 65518, 65521, 65523, 65525, 65529, 65530, 65531, 65532, 65534, 65535], dtype=uint16),\n",
       " array([    0,     2,     3,     4,     5,     6,     9,    12,    14,    18,    19,    20,    24,    28,    33,    36,    37,    41,    42,    43,    45,    46,    48,    50,    53,    54,    58,    62,    65,    69,    70,    74,    75,    77,    80,    81,    86,    87,    89,    91,    98,    99,   101,   105,   107,\n",
       "          108,   109,   110,   112,   113,   114,   117,   120,   124,   125,   126,   128,   132,   133,   136,   144,   145,   146,   149,   150,   154,   155,   159,   161,   162,   164,   168,   169,   176,   179,   187,   188,   192,   193,   197,   201,   202,   208,   214,   216,   228,   231,   233,   237,   239,\n",
       "          240,   242,   244,   245,   246,   247,   250,   253,   254,   256,   257,   258,   259,   262,   270,   271,   274,   276,   278,   281,   284,   287,   288,   290,   292,   298,   303,   316,   319,   322,   325,   326,   339,   340,   351,   353,   356,   358,   365,   371,   374,   379,   381,   387,   388,\n",
       "          390,   391,   394,   412,   420,   429,   436,   469,   478,   515,   523,   527,   539,   547,   564,   572,   574,   576,   583,   597,   598,   603,   646,   663,   665, 64921, 64926, 64960, 64971, 64987, 64988, 64998, 65000, 65003, 65009, 65023, 65027, 65037, 65042, 65050, 65057, 65060, 65061, 65072, 65073,\n",
       "        65088, 65092, 65094, 65103, 65104, 65105, 65117, 65118, 65129, 65132, 65137, 65144, 65150, 65158, 65163, 65164, 65170, 65171, 65175, 65180, 65181, 65187, 65188, 65191, 65192, 65195, 65197, 65198, 65199, 65204, 65210, 65211, 65214, 65216, 65219, 65232, 65235, 65236, 65239, 65240, 65242, 65243, 65247, 65248, 65249,\n",
       "        65255, 65258, 65261, 65263, 65268, 65270, 65273, 65281, 65285, 65288, 65291, 65292, 65295, 65297, 65299, 65306, 65307, 65312, 65318, 65324, 65330, 65333, 65338, 65339, 65340, 65341, 65344, 65345, 65347, 65353, 65354, 65356, 65357, 65363, 65369, 65373, 65374, 65376, 65383, 65387, 65388, 65389, 65390, 65395, 65396,\n",
       "        65397, 65409, 65410, 65411, 65414, 65415, 65418, 65420, 65422, 65431, 65432, 65440, 65447, 65449, 65450, 65454, 65455, 65459, 65462, 65463, 65468, 65469, 65472, 65474, 65482, 65484, 65490, 65493, 65494, 65496, 65497, 65498, 65501, 65502, 65503, 65505, 65507, 65522, 65525, 65526, 65530, 65531, 65532], dtype=uint16))"
      ]
     },
     "execution_count": 49,
     "metadata": {},
     "output_type": "execute_result"
    }
   ],
   "source": [
    "np.unique(ep_radar_data_np[0]), np.unique(ep_radar_data_np[1])"
   ]
  },
  {
   "cell_type": "code",
   "execution_count": 50,
   "metadata": {},
   "outputs": [
    {
     "data": {
      "text/plain": [
       "(15050.425824175823, 15842.697802197803)"
      ]
     },
     "execution_count": 50,
     "metadata": {},
     "output_type": "execute_result"
    }
   ],
   "source": [
    "np.mean(ep_radar_data_np[0]), np.mean(ep_radar_data_np[1])"
   ]
  },
  {
   "cell_type": "code",
   "execution_count": 52,
   "metadata": {},
   "outputs": [
    {
     "data": {
      "text/plain": [
       "(array([15050.42582418, 15842.6978022 , 15588.67445055, 15042.86401099, 16468.74038462, 15585.17032967, 15935.48901099, 15047.42994505, 15930.03846154, 15493.11538462, 15136.98901099, 15301.4532967 , 15139.51648352, 15932.72527473, 15579.54807692, 16109.68131868, 15136.0782967 , 14152.90247253, 16469.9478022 ,\n",
       "        15587.56593407, 16475.26236264, 16568.39835165, 15939.68269231, 15133.50686813, 13435.62637363, 15925.48626374, 14061.70879121, 16383.75549451, 16923.93818681, 17193.0206044 , 16840.62087912, 15318.89423077, 16829.76236264, 16571.08516484, 16116.97115385, 17011.3543956 , 15584.06456044, 16833.42032967,\n",
       "        14779.45741758, 17009.40247253, 15321.57417582, 14773.14835165, 16291.38049451, 15940.10576923, 16206.14972527, 14856.7706044 , 17549.43543956, 15492.96016484, 16294.03708791, 14146.02472527, 17817.28571429, 15585.45054945, 14320.80357143, 17818.03983516, 15136.0206044 , 16468.86950549, 14595.40934066,\n",
       "        17279.24038462, 14956.52197802, 14502.28846154, 17726.63186813, 15582.23901099, 16649.4532967 , 14771.97115385, 16563.69093407, 15312.55082418, 14324.32005495, 17457.04807692, 15224.21978022, 16471.71153846, 15486.02335165, 16564.37362637, 16568.78296703, 14148.45054945, 17729.74313187, 16125.61950549,\n",
       "        16920.0521978 , 16203.02747253, 17012.5782967 , 16659.12087912, 14239.11675824, 17010.81868132, 16302.67032967, 17012.5728022 , 17189.82005495, 16209.15796703, 16836.14148352, 14596.69093407, 18267.60027473, 16303.77747253, 16027.29532967, 18177.93269231, 16124.68956044, 17640.15659341, 15226.1771978 ,\n",
       "        18178.60164835, 16036.05631868, 15849.1043956 , 18536.76923077, 16481.99587912, 17190.02335165, 15853.67032967, 17282.68681319, 16483.47527473, 15582.24038462, 18177.09478022, 16752.84478022, 17640.82554945, 15938.2293956 , 17553.44368132, 16929.30357143, 15226.31456044, 18179.04120879, 16034.18543956,\n",
       "        18448.28434066, 16925.3489011 , 18001.83379121, 17469.15384615, 15677.56181319, 18451.30082418, 16752.88736264, 18720.68681319, 18092.37912088, 18095.72802198, 17017.74862637, 15857.79807692, 18538.5260989 , 16573.42032967, 17734.2967033 , 18988.25686813, 16932.2293956 , 17373.54258242, 16036.69917582,\n",
       "        18627.52472527, 15945.45192308, 16117.92857143, 18806.58928571, 15762.43681319, 17639.91346154, 15765.85027473, 17641.63736264, 16484.36950549, 16391.02335165, 18807.76785714, 15852.09340659, 18180.57967033, 16481.86126374, 17642.28983516, 16572.98763736, 15585.59065934, 17818.93956044, 15765.39148352,\n",
       "        18180.0989011 , 16838.95192308, 17640.00686813, 16032.86263736, 15139.55906593, 17551.60989011, 15853.92307692, 17281.29532967, 17286.94230769, 17103.65796703, 16391.88049451, 15229.39148352, 18088.4532967 , 16215.13736264, 17194.25412088, 18092.39148352, 16120.47802198, 17107.1717033 , 15409.47115385,\n",
       "        18356.56730769, 15767.00961538, 16388.10027473, 17908.72802198, 15492.08516484, 17552.80494505, 14869.05631868, 17278.96978022, 15497.13324176, 15308.61263736, 17638.37087912, 15580.3543956 , 16651.49587912, 15316.28846154, 16652.44917582, 15943.89835165, 15311.39697802, 17008.10027473, 15583.07554945,\n",
       "        16202.37225275, 15579.86263736, 16651.28434066, 15401.02472527, 13878.00824176, 16649.81730769, 14956.38461538, 15839.91620879, 15398.23626374, 16110.83104396, 14593.23076923, 13520.14423077, 16559.50274725, 14863.87637363, 15121.73626374, 16026.48076923, 14766.21153846, 14501.11813187, 13429.43269231,\n",
       "        16917.03571429, 14325.30082418, 14317.66071429, 16562.09203297, 14499.71978022, 14854.83791209, 13700.91071429, 17279.15659341, 14058.61263736, 14408.37225275, 17100.25961538, 15399.23214286, 14945.1456044 , 14511.04395604, 17101.26510989, 13606.92445055, 14771.51510989, 16921.10851648, 14323.79532967,\n",
       "        15125.08241758, 14864.8282967 , 17099.67032967, 14145.20879121, 13969.15934066, 17461.06730769, 14866.64972527, 15661.17307692, 15492.24313187, 16740.16620879, 14236.27472527, 13700.85851648, 16828.51236264, 14685.8543956 , 15302.03021978, 15581.58653846, 15574.96978022, 14323.90247253, 13159.98763736,\n",
       "        17276.84340659, 13608.81181319, 15127.39423077, 15934.7293956 , 15216.65247253, 15039.77747253, 13072.78296703, 16469.3228022 , 13339.1771978 , 14677.59478022, 15931.83241758, 15396.93956044, 14769.18131868, 12891.8956044 , 16829.8282967 , 13876.28846154, 14319.80357143, 16021.88324176, 14503.73214286,\n",
       "        15034.56593407, 13336.52747253, 16107.54532967, 13516.83516484, 13424.88598901, 15659.22252747, 14145.44642857, 15750.06456044, 13784.76236264, 15480.55494505, 14146.81868132, 13336.59752747, 15836.75274725, 13513.31868132, 15392.36401099, 14051.10989011, 14583.23351648, 14502.06043956, 13518.37362637,\n",
       "        16287.47802198, 14057.43681319, 16112.40247253, 15484.31868132, 15572.54532967, 15579.04807692, 12980.42307692, 16200.6771978 , 14144.64285714, 15752.13873626, 16742.02472527, 15665.5       , 16117.53159341, 13967.78708791, 17728.89972527, 14773.66758242, 15935.32005495, 18268.2032967 , 15762.92307692,\n",
       "        16292.43543956, 14597.50137363, 18087.54120879, 14595.86401099, 15938.18543956, 18267.01785714, 15313.91895604, 16560.78846154, 14593.64285714, 16650.27197802, 14322.61263736, 14862.80357143, 17277.82417582, 14503.94093407, 16919.67994505, 14320.33104396, 16202.33241758, 14231.56181319, 13876.84478022,\n",
       "        17187.88736264, 14324.42582418, 15838.83791209, 15488.07417582, 15844.12637363, 14141.81456044, 13877.17582418, 16378.46153846, 14503.43681319, 15031.83653846, 15485.18406593, 16025.19093407, 13959.12637363, 13338.78159341, 16379.17994505, 14414.07967033, 15036.62637363, 15749.95741758, 15846.92445055,\n",
       "        14944.2706044 , 13790.60164835, 16559.76098901, 14147.0989011 , 14766.92445055, 16648.25549451, 15040.93956044, 15573.43406593, 14419.31456044, 16649.7706044 , 14596.75686813, 15490.17582418, 16649.67307692, 14775.00961538, 15844.51785714, 15134.15934066, 17279.11813187, 14414.09752747, 14867.37774725,\n",
       "        16470.07554945, 14865.82692308, 15662.51510989, 15850.83653846, 16921.06593407, 14233.98351648, 14601.43131868, 17368.11675824, 14687.13049451, 16020.68269231, 16210.0521978 , 15935.38186813, 13604.23351648, 14510.91483516, 17276.65247253, 14777.33653846, 15844.29807692, 16116.61538462, 15757.44917582,\n",
       "        14681.71703297, 14510.72252747, 17638.46291209, 15048.03846154, 14860.3543956 , 16472.80494505, 16567.54945055, 15216.41071429, 14692.0782967 , 17190.72802198, 14419.33928571, 15041.99175824, 16830.15521978, 15670.31318681, 15664.44230769, 14870.68131868, 17100.17857143, 14508.38598901, 15042.39835165,\n",
       "        16740.11263736, 15046.45604396, 16024.64835165, 15225.72802198, 17279.24862637, 14325.17994505, 14779.01098901, 16290.83928571, 15047.99313187, 15753.96565934, 16210.83653846, 17190.66620879, 14595.4010989 , 14332.58516484, 16828.27747253, 15227.07142857, 15841.91620879, 15848.47527473, 16927.06318681,\n",
       "        14414.16758242, 14512.11126374, 17636.54945055, 14867.59752747, 15576.51373626, 16115.64423077, 16298.22527473, 14948.9478022 , 14421.19505495, 17369.62087912, 14418.67994505, 15400.88049451, 16561.0728022 , 16118.42307692, 15575.24038462, 14511.34065934, 16560.32005495, 13878.80082418, 15310.86675824,\n",
       "        16649.06456044, 14593.58104396, 15304.17994505, 15137.71565934, 16288.6456044 , 14145.22252747, 14684.24587912, 16109.59615385, 14595.44368132, 15841.64423077, 15130.98489011, 16561.43269231, 14952.3282967 , 14958.0206044 , 17726.86126374, 14054.55631868, 17369.33104396, 16207.09752747, 16294.9739011 ,\n",
       "        15310.37774725, 14327.69230769, 17638.26373626, 14684.3021978 , 17190.51098901, 16204.05494505, 16923.80769231, 16028.5521978 , 14419.05906593, 16830.39972527, 14682.34752747, 16473.88324176, 16830.54395604, 15757.39972527, 16205.52335165, 13607.31318681, 17008.06043956, 14413.64010989, 15306.66483516,\n",
       "        16377.91895604, 14593.61950549, 16471.7239011 , 14054.95879121, 16378.06181319, 14144.75961538, 14949.61538462, 16825.54120879, 14144.89697802, 16560.22115385, 14052.98901099, 16379.91895604, 14683.98351648, 14143.67857143, 16557.42582418, 14682.44917582, 16290.32005495, 14500.36675824, 15933.06730769,\n",
       "        15221.95879121, 13337.71153846, 17187.46291209, 13965.8228022 , 17372.35302198, 14766.94917582, 15845.46291209, 15852.23901099, 12890.86538462, 17367.70192308, 14058.42032967, 15395.33791209, 15395.66346154, 15667.37637363, 14772.06868132, 13072.30631868, 17907.84203297, 14149.11950549, 15129.47115385,\n",
       "        17194.44642857, 15398.90659341, 15579.10576923, 14061.84478022, 17819.86126374, 14508.09478022, 14952.47664835, 17551.91895604, 16210.36263736, 16473.84752747, 14959.44642857, 17821.82417582, 15408.38049451, 15583.56318681, 17188.88461538, 15762.59340659, 16381.48763736, 14865.18406593, 16922.67857143,\n",
       "        14955.51510989, 15314.69917582, 17277.78708791, 15225.19230769, 16562.67994505, 16209.00274725, 16921.875     , 15400.89697802, 15408.36813187, 16740.73351648, 15136.5782967 , 16381.96703297, 17195.03846154, 16201.69505495, 15219.5206044 , 14692.21428571, 17010.04532967, 15495.34065934, 16201.02335165,\n",
       "        17192.37637363, 15758.26510989, 15129.85302198, 15048.64285714, 17366.83104396, 15043.50274725, 15398.38598901, 17010.4739011 , 15043.84340659, 15752.95741758, 14687.68818681, 17277.59615385, 14777.70192308, 15491.43681319, 17278.36813187, 16390.86950549, 15930.44917582, 15767.16071429, 16382.11675824,\n",
       "        15137.14010989, 15851.81456044, 16827.43956044, 16212.81181319, 16022.72115385, 15942.14835165, 16832.69368132, 15491.45467033, 15496.29807692, 16829.20467033, 15226.38598901, 16202.08791209, 16117.73489011, 16831.15247253, 15219.14423077, 15050.7032967 , 16650.61813187, 15766.5206044 , 16200.47802198,\n",
       "        16834.24038462, 16742.93131868, 15671.25686813, 14871.02747253, 17278.91208791, 15763.31456044, 16652.93269231, 17101.46291209, 15940.88461538, 15848.17994505, 15047.5782967 , 17637.2032967 , 15673.84478022, 15489.39010989, 17099.12912088, 15133.89010989, 16019.9739011 , 15226.59203297, 17369.31593407,\n",
       "        14688.00549451, 15581.58104396, 16827.22664835, 15940.50686813, 16291.16758242, 15675.86263736, 16382.55082418, 15044.21016484, 15312.69917582, 16918.29395604, 14955.07005495, 14673.61950549, 15669.66071429, 16110.31456044, 14680.06868132, 13340.92994505, 16380.62087912, 14506.99725275, 15478.95741758,\n",
       "        15309.07005495, 15661.93543956, 13695.45467033, 13251.07417582, 16737.35576923, 14685.44093407, 14584.91071429, 15935.72802198, 15309.79120879, 14680.55357143, 13879.89423077, 17817.1717033 , 13968.78571429, 14230.68956044, 17012.1510989 , 15398.56318681, 15125.25686813, 14603.51510989, 17010.14697802,\n",
       "        14420.08241758, 14500.11813187, 16830.72664835, 15578.54395604, 15036.11126374, 14779.63598901, 16201.78571429, 14957.10714286, 14772.24725275, 16380.67582418, 15495.95054945, 15215.21978022, 15855.06456044, 16919.38598901, 15224.28846154, 14149.77472527, 16560.76373626, 15319.1456044 , 15031.50824176,\n",
       "        16030.87774725, 16019.32554945, 14596.85989011, 13342.84203297, 16649.48626374, 15045.93956044, 15031.18406593, 15938.92445055, 15306.38873626, 13784.51923077, 14420.77884615, 17726.75686813, 14777.08928571, 15399.66758242, 15935.15796703, 15669.00274725, 14945.59478022, 14422.12912088, 16379.3228022 ,\n",
       "        13431.46565934, 14858.37774725, 16111.15659341, 14946.97664835, 14948.11263736, 14242.45741758, 16019.89835165, 14956.62362637, 14859.26923077, 16200.39697802, 14775.93681319, 15665.32005495, 15495.41483516, 16557.38461538, 14955.07417582, 14237.74038462, 16829.51923077, 15406.31318681, 15928.49587912,\n",
       "        15223.42994505, 16921.55082418, 14958.25824176, 14687.83928571, 16556.86813187, 15582.7706044 , 15392.13324176, 15490.1717033 , 15846.55769231, 15401.89285714, 14957.68543956, 17006.97252747, 15316.86126374, 15756.10989011, 15845.6978022 , 16835.08791209, 15757.11263736, 14691.85989011, 17010.33379121,\n",
       "        15409.7239011 , 15756.37362637, 16830.68131868, 16834.88186813, 16297.39697802, 14873.63324176, 16650.59203297, 15857.41758242, 15755.47527473, 16829.67582418, 15671.3282967 , 15757.85989011, 15228.8021978 , 16198.75824176, 15673.92445055, 15491.40659341, 16290.19093407, 14867.10851648, 16022.76098901,\n",
       "        15763.11538462, 16467.62362637, 15495.01236264, 14689.19230769, 16469.50549451, 15584.12637363, 16378.44917582, 15940.53846154, 16473.35714286, 14866.00137363, 14418.33653846, 17006.10576923, 15853.67994505, 16110.63736264, 15938.80494505, 16475.69368132, 15940.86126374, 14416.72527473, 17098.63736264,\n",
       "        15406.32967033, 15214.66620879, 16022.54120879, 16564.32554945, 15396.83241758, 14870.71978022, 16289.65796703, 15497.12912088, 16023.95192308, 16827.79945055, 15759.07692308, 15396.02747253, 14689.46291209, 16647.7967033 , 15403.87087912, 15756.54945055, 16378.57005495, 15134.42857143, 15932.87362637,\n",
       "        15224.73901099, 16738.32005495, 14863.25412088, 15043.22664835, 15927.99450549, 14864.59203297, 16017.41346154, 15222.25      , 15661.87637363, 14505.10714286, 14415.74038462, 15926.09340659, 14862.94093407, 16018.98214286, 14860.50412088, 15303.1978022 , 14772.8543956 , 14055.72527473, 15389.76648352,\n",
       "        14953.50412088, 16203.15521978, 15574.90521978, 16112.64972527, 15307.61675824, 14870.38461538, 15570.42032967, 14236.5782967 , 16383.30631868, 16920.36401099, 15037.375     , 14587.23763736, 14421.83241758, 16376.65521978, 14055.60302198, 16294.94230769, 16741.20741758, 15582.46016484, 15215.72664835,\n",
       "        15676.50961538, 17188.68406593, 15135.50549451, 15493.0782967 , 17279.73626374, 15942.13049451, 16291.10027473, 15677.38461538, 17372.12637363, 14957.73489011, 16124.57005495, 17187.77747253, 15493.97802198, 16561.81456044, 16215.37087912, 17192.08379121, 14864.12637363, 15496.75412088, 16740.91895604,\n",
       "        14686.23901099, 16025.09065934, 16747.93681319, 16381.02197802, 14500.85989011, 14962.56730769, 16650.29807692, 14776.30082418, 16020.43681319, 16294.2293956 , 15575.76648352, 13692.45741758, 14691.33653846, 16016.23214286, 14772.8543956 , 15214.28296703, 16112.4739011 , 14681.97802198, 14855.45879121,\n",
       "        14776.48351648, 16107.06318681, 14505.78846154, 14770.71703297, 16828.01648352, 14951.3489011 , 15749.07417582, 15227.71153846, 16201.07005495, 14687.96978022, 15129.51923077, 16827.13461538, 15219.83653846, 15211.88873626, 15315.59065934, 16022.56181319, 14952.80906593, 15761.69642857, 16467.63873626,\n",
       "        14594.31456044, 15573.61813187, 16298.34752747, 15751.75412088, 15218.44368132, 15138.15796703, 16650.56730769, 14596.04395604, 16109.12637363, 16295.24862637, 14940.44368132, 14681.23763736, 14691.37225275, 17100.17994505, 15044.35851648, 16107.76785714, 16743.94230769, 14945.80494505, 14951.21153846,\n",
       "        13967.87774725, 17458.43818681, 14682.57417582, 15214.77472527, 17189.8543956 , 14682.13598901, 15574.97115385, 14145.26098901, 17907.55769231, 15044.11263736, 14231.37362637, 17727.10164835, 14954.3543956 , 16377.13736264, 14506.02884615, 17369.53021978, 15227.58104396, 14590.95604396, 17907.63873626,\n",
       "        15492.3956044 , 16198.92582418, 15224.11538462, 16382.67445055, 15764.45467033, 14502.4271978 , 17547.00274725, 15583.95054945, 15753.67032967, 15668.10164835, 15754.28434066, 16028.89835165, 14237.48489011, 17278.58241758, 15406.27747253, 15931.74038462, 16925.03708791, 15932.15247253, 15938.87225275,\n",
       "        14151.86813187, 17010.13186813, 16036.42445055, 16020.00824176, 17282.34203297, 15575.16071429, 15940.18543956, 14149.69505495, 17549.89285714, 15943.53983516, 15396.32417582, 17999.6510989 , 15043.25274725, 16744.98351648, 14506.15247253, 17547.03846154, 16035.5728022 , 15133.07967033, 18448.7293956 ,\n",
       "        15225.69642857, 17728.65934066, 15046.01236264, 17098.33104396, 16308.31868132, 15403.67445055, 18089.27472527, 15942.86813187, 17550.6717033 , 15133.56318681, 16653.39697802, 15315.88461538, 14235.77884615, 17727.45741758, 15674.47664835, 15935.60851648, 15669.90934066, 16116.2760989 , 16842.08379121,\n",
       "        13970.24587912, 18267.11263736, 14868.02472527, 15396.67032967, 16386.50961538, 15757.46153846, 15579.40521978, 13164.28708791, 17458.78434066, 14780.61263736, 15216.00274725, 16833.86401099, 15935.71703297, 15579.81593407, 12803.81730769, 16741.15796703, 14509.00686813, 14678.18681319, 16742.26098901,\n",
       "        15039.25961538, 15399.41483516, 13429.56868132, 16201.34478022, 14686.23489011, 13515.02335165, 16291.16758242, 13965.55082418, 15213.38049451, 13966.49038462, 15928.37087912, 14776.85164835, 13070.06043956, 17101.09752747, 14417.92582418, 15571.1717033 , 14954.11950549, 15928.35164835, 14868.40247253,\n",
       "        13159.82417582, 17100.41620879, 14595.89835165, 15394.87637363, 15580.43543956, 15306.21703297, 15044.33791209, 13251.48763736, 17455.66758242, 14688.90934066, 15397.15521978, 15936.64697802, 14768.73763736, 15580.11538462, 13073.57142857, 16736.63049451, 14512.20879121, 14858.56868132, 15664.01098901,\n",
       "        15845.89697802, 15940.86263736, 13342.40247253, 16472.83928571, 14777.875     , 15042.44368132, 16291.74862637, 15491.18131868, 15937.71703297, 14150.04945055, 16380.21153846, 15496.43956044, 15497.09752747, 16921.44642857, 15498.62637363, 16832.81593407, 15137.59340659, 17277.02884615, 15140.52884615,\n",
       "        14959.44230769, 17101.94230769, 15766.32417582, 16204.01373626, 15673.03296703, 16472.61950549, 15228.34615385, 14152.48351648, 17187.88324176, 15226.78296703, 16116.43543956, 15759.00412088, 15758.20192308, 16212.08379121, 13523.61538462, 18085.66483516, 14602.5206044 , 16117.24450549, 16206.05631868,\n",
       "        16296.38598901, 15940.66483516, 13612.93681319, 17010.55494505, 14330.26373626, 15490.24725275, 16203.58791209, 15847.15247253, 16030.66071429, 13880.93681319, 16831.26098901, 14777.09752747, 15314.46565934, 17011.04945055, 15225.72115385, 16474.27335165, 14330.21291209, 17368.31043956, 14958.15247253,\n",
       "        14777.07005495, 16831.18956044, 15228.36538462, 16651.97802198, 14596.74725275, 17188.04807692, 15051.12087912, 15049.70879121, 17010.6717033 , 15855.20879121, 15935.38186813, 15580.80082418, 16385.75274725, 15405.35576923, 13973.08241758, 17635.24038462, 14779.1510989 , 15846.58241758, 15487.50274725,\n",
       "        16026.75961538, 16120.01648352, 13344.79532967, 16918.93818681, 15050.05494505, 15754.97802198, 15933.86813187, 16384.35851648, 16391.0782967 , 14329.48214286, 16561.38736264, 15763.83241758, 14859.60164835, 16918.16620879, 15045.07142857, 16651.31730769, 14146.87225275, 18086.05494505, 16577.06043956,\n",
       "        15309.76923077, 18357.2967033 , 16843.20467033, 17909.13598901, 16122.35027473, 17823.00686813, 16752.59752747, 15941.46291209, 18446.00686813, 17563.6771978 , 17010.76923077, 15757.50961538, 16921.29120879, 16119.6043956 , 13789.24862637, 16560.66208791, 15674.98076923, 16377.81181319, 15579.14423077,\n",
       "        16201.30494505, 14505.34340659, 13069.37774725, 16828.46153846, 14865.02197802, 14137.15384615, 15934.75824176, 14410.19917582, 14948.28159341, 13162.49450549, 17456.2032967 , 14151.26785714, 14769.68818681, 17013.13324176, 15308.35302198, 15307.09340659, 14063.80082418, 17550.48626374, 14330.09203297,\n",
       "        14949.10851648, 17013.13324176, 15398.7239011 , 15038.78846154, 14688.33241758, 17102.43543956, 14414.78846154, 14684.81318681, 16921.64423077, 14685.75      , 15123.78296703, 14953.87637363, 17189.18956044, 13965.16346154, 13972.06181319, 17280.56456044, 14687.69230769, 15749.53571429, 15223.96291209,\n",
       "        15929.47802198, 13699.75137363, 14059.83516484, 16649.65521978, 14414.55631868, 14226.60851648, 16029.74313187, 15037.1771978 , 15131.58516484, 13342.27472527, 17186.10576923, 14602.39010989, 14858.99725275, 16294.10989011, 15395.95741758, 15038.2967033 , 13616.04258242, 17281.125     , 14598.51236264,\n",
       "        14854.74725275, 16113.27197802, 14769.26648352, 14050.50824176, 13696.8956044 , 16557.75824176, 14144.05357143, 14144.22802198, 16739.59752747, 14146.64285714, 15119.67582418, 14595.64972527, 16017.33379121, 13878.65384615, 14415.76236264, 16647.51648352, 14413.47664835, 15389.37225275, 15045.25549451,\n",
       "        15122.95054945, 14415.35576923, 14863.25274725, 16737.06181319, 14683.86263736, 15214.7239011 , 16297.69917582, 15035.07692308, 15308.49862637, 14150.02747253, 16917.28571429, 14059.        , 14762.55082418, 16653.03983516, 15032.55082418, 14859.06181319, 13794.09065934, 16380.6043956 , 14506.22802198,\n",
       "        15031.43543956, 16472.80357143, 14855.78571429, 14410.66620879, 14508.61813187, 16469.93681319, 14592.91208791, 14948.98901099, 16650.93543956, 14684.61126374, 15034.00274725, 15045.64835165, 16286.93681319, 14686.69368132, 13875.4010989 , 17007.57554945, 13965.35576923, 15207.64285714, 14596.25137363,\n",
       "        15569.56043956, 14148.30357143, 13602.58104396, 16828.13324176, 14770.56456044, 15212.71565934, 15131.76373626, 15304.63186813, 15311.58516484, 14235.69505495, 17097.04258242, 14687.        , 15124.01098901, 16385.63186813, 15573.89285714, 15307.98626374, 13702.94368132, 16648.81456044, 14508.97527473,\n",
       "        14760.29395604, 16383.16620879, 15212.51236264, 14950.33928571, 13701.57554945, 16650.84340659, 13965.25137363, 15393.50824176, 16202.66346154, 14677.80494505, 14680.86675824, 14327.81181319, 16379.40659341, 14773.49862637, 14502.29807692, 15930.87225275, 14055.16483516, 14763.56043956, 14417.29807692,\n",
       "        16466.29258242, 14237.2239011 , 13878.05494505, 16649.74862637, 14237.76923077, 15569.16620879, 14507.19368132, 16738.39285714, 14150.96153846, 14417.71153846, 16829.50824176, 15314.33241758, 15573.64423077, 14773.61126374, 16024.48901099, 14777.01236264, 14149.50824176, 17366.48214286, 15048.32554945,\n",
       "        15218.08104396, 15307.59752747, 15757.09752747, 15669.89010989, 13434.48763736, 17277.67445055, 14511.94642857, 15126.26510989, 15574.86675824, 16294.20604396, 15130.78846154, 13793.74038462, 16651.53846154, 14687.96565934, 15307.3228022 , 16203.81318681, 15668.66895604, 15040.30082418, 14059.17582418,\n",
       "        16919.22527473, 14595.78846154, 14324.17582418, 16110.36538462, 14146.43956044, 15213.06868132, 13787.63598901, 16466.50137363, 14238.62362637, 13427.92857143, 16109.81456044, 14686.48076923, 15481.08791209, 14686.02747253, 16200.02884615, 14509.25961538, 13608.89835165, 17189.32692308, 15495.41208791,\n",
       "        15665.70192308, 15672.1717033 , 15755.53296703, 15135.26098901, 13431.55769231, 17725.6978022 , 14689.15796703, 15307.79532967, 15577.2706044 , 15488.42307692, 16030.50549451, 13075.36675824, 17907.18956044, 14692.4217033 , 15127.9739011 , 16115.35576923, 16025.65796703, 15850.62774725, 13524.16758242,\n",
       "        16562.10989011, 15139.71291209, 15039.98076923, 16384.21978022, 16028.71428571, 15760.5521978 , 14420.58241758, 17100.90796703, 15496.82692308, 14775.86401099, 17011.12637363, 15137.6717033 , 16563.20604396, 14778.08791209, 16826.6717033 , 15410.60851648, 13698.77335165, 17011.44368132, 15585.43543956,\n",
       "        16562.29258242, 14953.82967033, 16291.82005495, 16128.00549451, 14059.94230769, 17547.46016484, 15586.25824176, 16925.49862637, 15308.82967033, 15757.54120879, 16840.92445055, 13972.12637363, 17725.85164835, 15051.62225275, 16745.51785714, 15845.66758242, 16924.43818681, 16659.93818681, 14062.50686813,\n",
       "        17370.62362637, 15498.91208791, 16386.51923077, 16473.69230769, 16655.68543956, 16211.2967033 , 14690.5728022 , 16830.98076923, 16125.79532967, 15762.08516484, 17100.64972527, 15764.52472527, 16386.26923077, 14959.79945055, 17367.75549451, 15587.21703297, 14596.95467033, 17100.6717033 , 15318.68406593,\n",
       "        16471.93269231, 14597.51510989, 16647.57005495, 15230.05082418, 14058.94917582, 16651.50274725, 15316.24587912, 16293.05906593, 15222.90934066, 16022.69368132, 15408.42857143, 14150.68956044, 17637.19917582, 15316.38736264, 16027.42445055, 15848.61813187, 15218.04120879, 16211.5521978 , 13973.46565934,\n",
       "        17726.01648352, 14871.47115385, 15667.59478022, 16025.71291209, 15935.99038462, 16119.21016484, 13613.875     , 16381.3021978 , 15140.65659341, 15128.36950549, 16203.08104396, 15937.03983516, 15489.92857143, 14150.75412088, 16021.54532967, 15587.95879121, 15043.38736264, 16380.53159341, 15404.80494505,\n",
       "        15485.98076923, 14598.71291209, 16647.52197802, 15407.09340659, 14328.89972527, 16471.26098901, 14688.25549451, 16382.5728022 , 15044.78846154, 16017.75274725, 14687.99587912, 14330.11675824, 16832.08104396, 14955.54807692, 15933.91483516, 15761.1717033 , 15574.33241758, 15046.30769231, 14421.24038462,\n",
       "        17727.13598901, 15406.59615385, 15577.75412088, 16387.36675824, 15129.00961538, 15580.47527473, 13343.0728022 , 17725.38598901, 14600.62774725, 14948.33104396, 16475.35714286, 15667.72527473, 15848.27747253, 13612.01373626, 17100.79120879, 15139.78159341, 14858.69093407, 17102.65659341, 15757.76373626,\n",
       "        16118.77884615, 14060.0521978 , 16562.50686813, 15316.91483516, 14862.95192308, 17189.77472527, 15314.73351648, 16385.26923077, 14777.27472527, 16828.58516484, 15496.79120879, 14509.73076923, 17011.24587912, 15318.45604396, 16741.91071429, 15493.3543956 , 17368.76785714, 15497.81043956, 14690.67032967,\n",
       "        17552.07005495, 15585.63186813, 16653.64285714, 16209.63873626, 16475.35164835, 15674.92307692, 14691.72802198, 18175.31043956, 15678.04120879, 16027.29945055, 16386.89835165, 16208.81868132, 16660.14423077, 14062.83791209, 17546.33104396, 15141.00412088, 15308.05906593, 16294.67994505, 15846.10027473,\n",
       "        16298.88186813, 14061.95604396, 16472.04945055, 15228.2239011 , 14860.99450549, 17280.43269231, 15220.0728022 , 15937.35989011, 14329.34615385, 16200.2032967 , 15406.51785714, 14326.10164835, 17189.84615385, 14957.65384615, 16652.44917582, 15047.01373626, 16556.9478022 , 15317.58241758, 14509.55082418,\n",
       "        17102.31181319, 15227.82554945, 16291.98626374, 15851.76785714, 16200.67032967, 15227.60714286, 14150.85714286, 17279.13461538, 15855.73901099, 16205.9532967 , 16298.20467033, 15847.71153846, 15852.78983516, 14062.46016484, 17724.90796703, 15139.5       , 15487.75686813, 16476.72802198, 15578.26785714,\n",
       "        16659.00274725, 13883.0206044 , 17099.00274725, 15410.90796703, 14948.27884615, 16473.15659341, 16026.61950549, 15939.26236264, 13521.04258242, 16382.06181319, 14957.56181319, 14052.14423077, 16559.73076923, 15044.31456044, 15934.60714286, 14418.2239011 , 17277.65521978, 14866.60989011, 14417.89835165,\n",
       "        17371.28846154, 15407.65934066, 16559.93131868, 15043.55631868, 17731.04120879, 15407.0521978 , 14687.14697802, 18357.2760989 , 15943.90659341, 17104.11813187, 15398.04532967, 16295.5206044 , 17199.56868132, 14867.7967033 , 17817.7706044 , 16755.3543956 , 17730.88186813, 16383.07554945, 17282.4532967 ,\n",
       "        17558.36263736, 15139.04258242, 17820.99175824, 16753.02884615, 17101.10851648, 17907.93131868, 16300.01098901, 16745.83791209, 14686.73351648, 17996.46291209, 16123.3956044 , 15578.34203297, 17907.90247253, 15943.2032967 , 17730.03296703, 14686.54532967, 17730.24587912, 16306.55631868, 15669.77747253,\n",
       "        18179.64010989, 16930.37087912, 17371.95741758, 15853.        , 17282.75549451, 16573.48351648, 15583.4532967 , 18266.73351648, 16214.25824176, 17551.58241758, 16028.61950549, 17462.02747253, 16659.30631868, 15046.87087912, 18089.6771978 , 16124.0728022 , 18538.17582418, 16836.60989011, 18089.7032967 ,\n",
       "        17199.92445055, 15586.58379121, 17911.51648352, 16751.95192308, 18269.51785714, 17191.0989011 , 18094.96428571, 17378.0206044 , 15856.5206044 , 18358.78846154, 17201.4739011 , 17733.7293956 , 18265.98489011, 17203.88736264, 17911.91483516, 15586.70604396, 18715.85302198, 16664.66895604, 16746.75824176,\n",
       "        18445.6771978 , 16753.23076923, 18088.54532967, 15584.7967033 , 17551.33928571, 16934.2293956 , 16749.49862637, 18178.66346154, 16750.08928571, 18090.97802198, 16120.50274725, 17373.83653846, 16751.55082418, 15136.46428571, 17368.80357143, 15585.85851648, 17460.15934066, 15490.49450549, 17728.49587912,\n",
       "        15674.8228022 , 14689.36950549, 16831.52747253, 16034.59065934, 16292.69917582, 15668.69368132, 17284.16071429, 15673.02884615, 15050.77747253, 17907.98901099, 16036.99313187, 16567.19505495, 17012.49038462, 16661.85027473, 17107.64972527, 14514.07142857, 18805.81868132, 15321.13324176, 16388.27747253,\n",
       "        17641.62362637, 17110.43406593, 17107.39423077, 14602.375     , 18450.34340659, 15498.32554945, 16300.89423077, 17013.92445055, 17558.92307692, 17736.32142857, 15494.84065934, 18273.34340659, 16485.09752747, 15045.91208791, 18449.60302198, 16664.12087912, 18001.14423077, 16030.21291209, 17821.99862637,\n",
       "        16752.47252747, 15498.6717033 , 18539.16758242, 16934.32005495, 18538.60851648, 16657.33516484, 18539.94093407, 17831.08241758, 15766.16346154, 18271.54258242, 17291.37225275, 18539.16895604, 17374.31318681, 18813.32554945, 17918.38324176, 16486.14148352, 18809.82554945, 17293.0782967 , 18094.25686813,\n",
       "        18987.03983516, 17562.03708791, 18093.62362637, 15680.62225275, 18806.39010989, 15856.74725275, 17376.85714286, 17819.41758242, 16842.46978022, 17644.19093407, 15408.10164835, 17821.19642857, 14866.47115385, 15853.03434066, 16922.67032967, 16300.49313187, 17284.87774725, 14866.16071429, 17281.40384615,\n",
       "        15048.16620879, 14688.69505495, 17639.33928571, 15856.89835165, 17824.57967033, 15316.06593407, 17818.19093407, 15316.27472527, 14601.69917582, 16921.21840659, 15498.18681319, 16833.04120879, 16029.4217033 , 16563.28846154, 15495.25412088, 13522.59478022, 16467.70192308, 15317.94917582, 15395.65796703,\n",
       "        15574.89285714, 15579.89423077, 15581.18543956, 13881.34615385, 17724.29120879, 15498.88324176, 14229.64148352, 16833.4217033 , 15220.25549451, 15756.14697802, 13700.34752747, 16739.31868132, 14958.28983516, 14140.54258242, 16921.66208791, 16028.4532967 , 16294.97252747, 14058.90934066, 16473.11263736,\n",
       "        15317.26648352, 13961.63873626, 17188.72115385, 14952.58104396, 15573.6510989 , 14684.56043956, 16471.04945055, 15403.23214286, 14057.25412088, 17009.21153846, 14777.21291209, 16200.58791209, 15579.53983516, 16557.76373626, 16303.5728022 , 15139.97664835, 17912.47802198, 16304.71565934, 16919.38736264,\n",
       "        17374.51510989, 17282.37637363, 16210.97252747, 14958.57417582, 17910.46703297, 16932.4532967 , 16742.34340659, 18270.44917582, 16929.68956044, 16926.82417582, 15587.15796703, 18265.86401099, 16483.19230769, 16207.10714286, 18357.89697802, 16124.50961538, 17641.18406593, 16035.46703297, 18536.04120879,\n",
       "        16304.93543956, 16118.08791209, 19077.32417582, 16213.28159341, 18268.0260989 , 16573.96703297, 17551.24175824, 16574.79532967, 15759.93681319, 18446.01510989, 16840.71153846, 17279.66483516, 16389.55494505, 16565.11538462, 16750.68956044, 15583.91483516, 18715.96016484, 16393.07005495, 17010.09065934,\n",
       "        16746.36675824, 16473.4271978 , 17017.57967033, 15048.15934066, 17099.21840659, 16755.66758242, 16739.31043956, 16922.55357143, 16831.80494505, 17107.8228022 , 15858.3543956 , 17101.61675824, 16933.        , 17191.71016484, 17817.9532967 , 16568.47527473, 16836.53159341, 16036.64697802, 17816.85851648,\n",
       "        17111.20879121, 17105.86126374, 17996.5       , 16035.46565934, 17729.23076923, 16034.16620879, 17187.58653846, 16304.42307692, 16748.32142857, 17816.1771978 , 16123.00412088, 17455.83241758, 16210.46153846, 16292.87637363, 16302.0989011 , 16122.21153846, 17454.54395604, 16210.85851648, 17638.34752747,\n",
       "        15847.10576923, 15394.10989011, 16569.86950549, 15405.03434066, 17276.23763736, 15492.44642857, 17010.23351648, 15576.47802198, 16114.375     , 17198.1978022 , 15046.64285714, 16199.44093407, 15405.11126374, 16922.46153846, 16112.82554945, 16383.39835165, 16386.75686813, 15138.80357143, 15930.74175824,\n",
       "        15044.85164835, 16473.93269231, 16647.32554945, 15848.79532967, 16116.9739011 , 14509.625     , 15927.09340659, 15493.27197802, 16386.81593407, 16377.15934066, 15405.81868132, 16381.65247253, 14775.65796703, 16466.63186813, 15314.28983516, 15401.8543956 , 16018.47252747, 15495.54120879, 16827.87087912,\n",
       "        15490.95467033, 16201.21565934, 15135.33379121, 14777.74175824, 16466.75686813, 15223.61675824, 16740.38186813, 15489.61126374, 15934.33516484, 15763.85989011, 14598.82554945, 17005.51236264, 15315.40521978, 16563.95467033, 15577.83104396, 16295.20192308, 16659.26373626, 14239.00412088, 16199.88049451,\n",
       "        15227.14835165, 16654.33653846, 16562.15934066, 16564.00274725, 16747.26236264, 14960.0260989 , 16291.15384615, 15133.96428571, 16923.57554945, 16645.6456044 , 15492.79120879, 17463.66071429, 15317.37912088, 16734.68681319, 16843.67857143, 16658.24313187, 17097.35164835, 15854.23901099, 17997.11675824,\n",
       "        15490.77197802, 16832.37774725, 16123.93406593, 16392.15659341, 17635.14697802, 16930.75961538, 18090.55906593, 16839.7967033 , 17193.1771978 , 16659.33241758, 15854.69368132, 17459.43406593, 16394.31456044, 17009.75549451, 16477.58928571, 17639.49862637, 16119.78159341, 15947.41208791, 16922.44368132,\n",
       "        16663.25686813, 17009.19368132, 17192.24725275, 17284.69230769, 16029.92307692, 15858.60164835, 17276.75137363, 16572.20192308, 16743.15384615, 17458.90521978, 16662.2239011 , 16834.44093407, 15588.07142857, 17815.03434066, 16664.43269231, 16206.89972527, 17817.37087912, 16393.13049451, 16918.60164835,\n",
       "        15495.33653846, 17010.97664835, 16035.9739011 , 16208.51785714, 17366.71428571, 17019.14697802, 16739.5728022 , 15852.46153846, 16653.60302198, 16482.19917582, 15853.15659341, 17996.40384615, 16034.78021978, 17011.13598901, 16209.4010989 , 17729.65796703, 15939.95192308, 15858.51648352, 17012.99725275,\n",
       "        16395.33791209, 16559.64285714, 16657.1717033 , 16651.61950549, 14953.43131868, 14060.48351648, 17097.22252747, 14955.64148352, 15754.31456044, 16025.57005495, 15309.51923077, 15760.83928571, 13971.1717033 , 18355.08241758, 15139.61950549, 15489.74862637, 16924.64697802, 16297.86950549, 15398.13186813,\n",
       "        14782.76648352, 17192.29258242, 15049.20879121, 15490.63324176, 18001.10164835, 15850.18406593, 16207.2706044 , 15230.65247253, 17370.04532967, 15047.3956044 , 15495.7032967 , 17730.45741758, 14867.56043956, 16742.87362637, 15766.24450549, 16827.1510989 , 15497.84203297, 14779.6510989 , 17191.84340659,\n",
       "        15496.6456044 , 16832.69093407, 16211.53159341, 16383.30769231, 15226.68818681, 14690.98351648, 18086.35851648, 15406.62225275, 16295.20879121, 15848.52197802, 15666.87087912, 15491.86813187, 14331.75686813, 17906.61401099, 14507.94917582, 16476.30494505, 16115.0467033 , 16564.58104396, 16298.00549451,\n",
       "        14330.47527473, 17011.61950549, 15406.91895604, 16296.18406593, 17097.59615385, 15850.64697802, 16924.89697802, 14868.94093407, 17006.54395604, 15675.18131868, 16748.60027473, 17635.88736264, 15495.64697802, 17369.7967033 , 15582.42857143, 16828.69368132, 16032.10164835, 16032.05494505, 17637.21840659,\n",
       "        15492.02747253, 18177.52335165, 15936.84478022, 16654.55082418, 16299.68406593, 15674.11538462, 17186.02335165, 15491.67994505, 18267.70192308, 15755.96565934, 16742.57142857, 16209.09752747, 15043.9217033 , 16559.59203297, 15401.3228022 , 17639.46565934, 16112.68406593, 16832.24862637, 16475.78434066,\n",
       "        14866.0728022 , 16290.80494505, 15221.28571429, 18091.91758242, 17185.1456044 , 16030.56593407, 17282.38873626, 14868.29532967, 16825.36401099, 15223.63324176, 17823.79258242, 17094.63873626, 15763.66483516, 17550.74725275, 15224.10851648, 16738.88873626, 15492.68131868, 16568.63736264, 16647.88324176,\n",
       "        15670.8228022 , 18179.17582418, 15129.68956044, 16833.85714286, 16212.4739011 , 15944.22664835, 17726.25824176, 15583.11813187, 18360.41758242, 15851.12087912, 17910.70741758, 16211.99725275, 15766.33791209, 17010.74725275, 15674.60989011, 18271.36950549, 16477.9217033 , 18000.66208791, 16571.46291209,\n",
       "        15410.34340659, 17910.85027473, 15765.94093407, 18092.48763736, 17281.83653846, 17648.8021978 , 16479.67032967, 15681.50412088, 18264.97115385, 15946.71978022, 17196.31868132, 17460.20192308, 16842.95604396, 16565.98763736, 15317.4010989 , 17906.22664835, 16305.37087912, 15940.11813187, 17909.2239011 ,\n",
       "        16752.17857143, 17370.07692308, 16034.36675824, 17461.19093407, 16304.71840659, 15760.48351648, 18356.18406593, 16750.84065934, 17547.2967033 , 17201.7967033 , 16384.54945055, 16662.44917582, 15941.67582418, 17814.23626374, 16031.74038462, 17729.09478022, 16297.43818681, 16474.39835165, 16119.34615385,\n",
       "        15315.48351648, 16376.9217033 , 15583.98076923, 17100.90659341, 16833.26510989, 17012.04532967, 16387.25824176, 15860.04120879, 16741.77197802, 15766.12087912, 16473.18269231, 16921.50824176, 16743.89835165, 16477.34340659, 15500.875     , 16383.10851648, 15945.16346154, 15935.89972527, 17640.04807692,\n",
       "        16029.53708791, 16207.8543956 , 15679.96016484, 17637.29258242, 16306.17307692, 16212.33104396, 16650.82417582, 16217.37362637, 16384.61126374, 16128.37774725, 17815.57005495, 15948.26785714, 15408.00549451, 17462.25274725, 16127.57967033, 16562.12774725, 16304.96978022, 17100.55769231, 15049.20741758,\n",
       "        14781.24587912, 17188.01098901, 15136.49038462, 16024.09615385, 15492.2032967 , 16026.50961538, 15407.10302198, 14782.80631868, 17453.2967033 , 15589.86813187, 15668.41620879, 15759.26785714, 16028.37362637, 16211.04532967, 14244.18406593, 17007.08241758, 15232.22664835, 15579.75824176, 16205.67582418,\n",
       "        16025.59615385, 16119.60714286, 14243.73763736, 16382.52197802, 15050.80769231, 15400.87362637, 16743.35302198, 16296.51098901, 16030.30357143, 15231.66620879, 16562.89972527, 14958.93818681, 15133.73626374, 17281.38736264, 15673.22802198, 15937.14148352, 15498.94505495, 17549.46291209, 15496.6043956 ,\n",
       "        15048.79120879, 16830.96291209, 15679.28846154, 16562.86126374, 15763.81593407, 17007.76510989, 15855.87087912, 14782.24725275, 17282.27472527, 16487.86126374, 16741.5206044 , 16658.60164835, 16652.48351648, 16126.63598901, 14512.67994505, 17188.06456044, 16216.375     , 15935.45741758, 16205.31181319,\n",
       "        15760.4271978 , 16030.63049451, 15141.35302198, 17814.22252747, 16038.2967033 , 15669.59752747, 16474.08791209, 16120.4271978 , 16655.87912088, 15410.03846154, 17279.85027473, 16129.82554945, 15580.39423077, 17100.66758242, 16837.50137363, 16385.55769231, 15679.60027473, 16473.94917582, 15767.1043956 ,\n",
       "        15582.45467033, 17458.43406593, 15944.93406593, 16743.54258242, 15946.84203297, 16829.35302198, 16124.20741758, 15498.58516484, 16920.83928571, 15679.19368132, 16471.54120879, 16120.48626374, 16737.49862637, 16035.98351648, 15321.34065934, 16922.49450549, 16035.40247253, 16382.21016484, 16835.67445055,\n",
       "        16025.5467033 , 15673.68543956, 15411.37637363, 17095.96291209, 16034.87774725, 15935.81730769, 16564.9010989 , 15402.75686813, 16297.87362637, 15140.19093407, 17454.11401099, 15949.08516484, 15849.6510989 , 16742.74313187, 16209.28159341, 16564.55906593, 15499.94093407, 16921.77472527, 15950.38873626,\n",
       "        15761.4739011 , 17009.69642857, 16658.36950549, 16475.89423077, 15409.4739011 , 16473.21565934, 16125.6771978 , 15675.41758242, 17098.71703297, 15677.91208791, 16292.82005495, 16395.21978022, 17186.92445055, 15945.90659341, 15590.97527473, 17192.97527473, 16397.98901099, 16382.30494505, 16749.39285714,\n",
       "        16832.0206044 , 14777.03159341, 14783.16895604, 17816.83791209, 15676.0989011 , 15216.79258242, 15758.46565934, 15309.97115385, 15221.31593407, 14423.0521978 , 16824.84065934, 14690.13324176, 15308.80082418, 16296.08653846, 16025.5467033 , 15578.36675824, 14332.78571429, 16202.0260989 , 15230.07967033,\n",
       "        15669.81730769, 16201.66758242, 15667.48489011, 15939.23901099, 14691.60027473, 16291.05494505, 15407.30494505, 15043.90796703, 16019.89285714, 14417.86813187, 16293.625     , 14507.69368132, 16285.37774725, 14777.95879121, 14329.00274725, 15932.15796703, 15225.6978022 , 16741.14972527, 15220.85302198,\n",
       "        16473.11126374, 16036.38598901, 14690.17307692, 18265.46978022, 16215.16758242, 16653.47527473, 16388.375     , 16117.11401099, 16749.04395604, 15408.85989011, 17277.67032967, 15678.07005495, 16743.56043956, 16563.52472527, 17101.49038462, 16477.59065934, 15768.93543956, 16112.2760989 , 15854.34478022,\n",
       "        17012.86950549, 17187.44505495, 15757.92445055, 16117.26923077, 15587.33653846, 16195.90796703, 16120.75      , 16927.2706044 , 16915.88186813, 15136.96428571, 17278.1456044 , 16123.3489011 , 16555.76098901, 16394.18269231, 16480.61538462, 17005.58928571, 15852.61401099, 17364.90659341, 16030.00961538,\n",
       "        16024.2967033 , 16302.88873626, 16121.88324176, 17363.30769231, 16300.92582418, 16739.20741758, 16656.61950549, 16383.73901099, 16926.63736264, 16664.03708791, 17010.32417582, 17024.00686813, 17009.66895604, 17371.59615385, 16739.39285714, 16655.66071429, 15678.42994505, 16382.71016484, 16032.34065934,\n",
       "        16828.1717033 , 17458.73351648, 16478.06593407, 16027.46291209, 16217.71153846, 17364.42857143, 15941.03983516, 16294.50549451, 17458.62912088, 15405.08516484, 16561.48214286, 16124.44505495, 17546.28021978, 15585.92582418, 16300.02884615, 16916.9271978 , 15940.52335165, 16467.39972527, 15674.91483516,\n",
       "        16024.05357143, 15315.92994505, 15851.36126374, 16914.89697802, 16120.375     , 16560.66483516, 15942.24313187, 16832.93406593, 16210.55769231, 16484.98489011, 16919.55082418, 15945.62912088, 16561.98351648, 16296.87225275, 17098.65934066, 15670.08653846, 15770.52472527, 16652.91483516, 16035.10714286,\n",
       "        16470.55494505, 16473.62912088, 16205.05906593, 15041.9532967 , 15321.6510989 , 16824.92994505, 15583.86675824, 15755.21291209, 16202.64697802, 15853.06456044, 16116.5989011 , 15408.29945055, 17365.90247253, 15497.88873626, 15670.12225275, 16649.9793956 , 15759.94505495, 16111.34478022, 15679.81456044,\n",
       "        15843.40934066, 15588.875     , 15491.23076923, 16559.32417582, 16029.43543956, 15935.76648352, 15047.11126374, 16471.48489011, 15494.20192308, 15227.60989011, 16471.05769231, 15678.4271978 , 15844.0782967 , 15853.78021978, 17096.75412088, 15496.01236264, 15142.22252747, 16833.44917582, 15587.99175824,\n",
       "        16022.42582418, 16210.49313187, 16382.61126374, 14867.50137363, 14603.36950549, 16645.98763736, 15857.83516484, 16205.80769231, 15935.13598901, 16030.22527473, 16481.50686813, 15052.63598901, 17633.1456044 , 16217.69368132, 15398.89148352, 16471.99038462, 15673.70604396, 16654.85576923, 14238.32554945,\n",
       "        17006.78159341, 16126.34203297, 16028.98351648, 16649.48489011, 16301.08516484, 17010.40247253, 15223.61675824, 16562.2706044 , 15494.89972527, 16209.80906593, 17815.78708791, 16659.3489011 , 17278.74038462, 16751.12912088, 16564.96840659, 16751.84752747, 16032.22802198, 17364.30494505, 16121.19642857,\n",
       "        17188.48489011, 16927.93131868, 16294.19230769, 16837.45879121, 15675.06730769, 16559.46703297, 15493.87087912, 16738.75274725, 16382.78846154, 15930.78571429, 16116.32692308, 15137.86126374, 15122.89148352, 15494.68406593, 16830.83104396, 16108.53296703, 15663.04120879, 16296.23214286, 15228.50824176,\n",
       "        15751.2032967 , 15942.08104396, 16744.92857143, 16467.03571429, 15402.36675824, 16564.59615385, 15677.33379121, 16374.88186813, 16663.46840659, 16479.68956044, 17008.6771978 , 15498.30906593, 16739.69368132, 16124.15659341, 16646.20467033, 16036.61401099, 15854.01923077, 16918.39010989, 15763.75824176,\n",
       "        17098.51236264, 15941.59752747, 16023.66758242, 15585.63736264, 15587.35851648, 16913.61538462, 16033.01373626, 16201.84203297, 15849.4271978 , 15848.00137363, 16211.2293956 , 15139.34203297, 17635.13736264, 15498.16895604, 16204.86950549, 16566.38461538, 16564.33241758, 16568.63186813, 15591.8956044 ,\n",
       "        16831.18269231, 15589.92582418, 16117.66071429, 16653.54395604, 16652.78708791, 16389.43818681, 15053.28159341, 16563.80082418, 15136.86263736, 16389.32967033, 17012.08928571, 16030.59065934, 16119.26510989, 15501.67857143, 17277.60989011, 15317.2706044 , 15944.06456044, 16651.42994505, 15229.01785714,\n",
       "        16475.00961538, 15766.81868132, 17364.90796703, 15499.4739011 , 15140.08928571, 17012.13598901, 15765.24175824, 16380.83104396, 15943.26648352, 16474.12087912, 15496.75137363, 14871.51648352, 17454.41895604, 15676.60576923, 16294.39423077, 16209.92582418, 16028.94642857, 16212.00961538, 14600.80769231,\n",
       "        17455.07692308, 14961.0521978 , 15937.91346154, 16387.52747253, 16744.0521978 , 16570.91071429, 15503.05082418, 17461.75274725, 15860.41346154, 16029.77335165, 16744.65384615, 17013.68406593, 16391.24450549, 14964.06868132, 16833.53983516, 15768.0467033 , 15671.26648352, 16832.56181319, 15762.41071429,\n",
       "        16479.01510989, 14961.97802198, 16738.27884615, 15499.07142857, 15496.84615385, 16741.80906593, 15049.19505495, 15934.99862637, 14867.6978022 , 16555.30769231, 15590.11675824, 14603.52335165, 16562.94368132, 15318.40934066, 16023.47115385, 15493.6510989 , 16112.1510989 , 15229.20604396, 14244.26648352,\n",
       "        17186.83104396, 15138.77472527, 15577.38324176, 15490.7706044 , 15399.61813187, 15764.19642857, 14243.10989011, 17633.65247253, 14872.38324176, 15310.7239011 , 15578.69642857, 16115.77747253, 15941.43818681, 14154.02197802, 16831.10576923, 15232.09203297, 15492.16758242, 16204.23489011, 16295.1771978 ,\n",
       "        16030.97527473, 14514.95879121, 16562.81730769, 15679.61263736, 15942.6717033 , 16741.5521978 , 15674.69917582, 16298.11263736, 15050.78983516, 17275.9217033 , 15679.7706044 , 15319.54532967, 16562.31868132, 15319.20054945, 16743.48214286, 15675.92445055, 16647.51923077, 15950.09615385, 14783.33379121,\n",
       "        16830.6456044 , 15857.80769231, 16474.93956044, 15671.875     , 16297.01510989, 15677.40521978, 14784.18818681, 17543.34615385, 15590.4739011 , 15578.93406593, 15670.2239011 , 15579.29807692, 16122.89010989, 14243.83241758, 17276.26923077, 15142.5521978 , 15581.44642857, 15936.95192308, 16384.57554945,\n",
       "        15760.0782967 , 14603.99587912, 15843.56730769, 15410.40384615, 15760.97527473, 16382.46428571, 15578.82005495, 16029.73901099, 15053.07142857, 16288.44093407, 15768.09203297, 16483.48763736, 17101.06318681, 15498.92445055, 16564.02197802, 15676.11675824, 17635.86675824, 15858.44230769, 15588.63598901,\n",
       "        17370.77747253, 16123.10302198, 17009.39423077, 16930.82967033, 16476.16208791, 16213.78159341, 15588.16071429, 17273.66208791, 16125.00412088, 16741.79258242, 16026.61263736, 15845.1978022 , 16747.40659341, 16036.51236264, 15929.60576923, 15676.44917582, 17011.72664835, 16201.08241758, 16560.33516484,\n",
       "        16476.82554945, 15497.60027473, 15571.91895604, 16120.74725275, 16831.20054945, 16735.83791209, 15490.37912088, 16924.43956044, 15495.53296703, 16734.06043956, 16750.64010989, 16474.91346154, 17815.10714286, 15946.6510989 , 17546.62774725, 16301.70879121, 17278.35164835, 16033.76373626, 16298.93406593,\n",
       "        17723.88186813, 16569.71565934, 16916.03434066, 17379.99450549, 16656.07142857, 16570.50824176, 17021.75274725, 17904.90247253, 15672.99725275, 17189.11950549, 16386.63736264, 17009.85989011, 16027.8021978 , 16127.02472527, 16473.13461538, 16033.68543956, 16379.        , 16653.00549451, 16200.91346154,\n",
       "        15310.50412088, 14599.45741758, 16378.81456044, 15672.67032967, 16022.7706044 , 16202.87225275, 15311.54532967, 15488.03159341, 15048.48076923, 17453.89697802, 15228.0521978 , 14770.00961538, 16291.89972527, 15130.31868132, 15123.94230769, 14330.58653846, 16651.58791209, 14690.1043956 , 14771.13873626,\n",
       "        16650.36126374, 15668.00824176, 15126.41758242, 14780.26236264, 16112.5260989 , 14686.3228022 , 15136.25137363, 17010.81868132, 15318.0467033 , 15484.08516484, 15855.0206044 , 16736.40659341, 14776.57005495, 14782.64148352, 16922.98076923, 15048.88736264, 15213.15934066, 16660.70467033, 16112.04532967,\n",
       "        14597.95192308, 14424.26785714, 17636.29945055, 15137.54258242, 15127.01373626, 16750.33928571, 15580.04945055, 14953.17994505, 14603.29395604, 17544.16620879, 14691.11263736, 14951.24313187, 16296.68406593, 15398.5782967 , 15398.64010989, 14154.5521978 , 16111.66071429, 14602.44368132, 14681.34065934,\n",
       "        16293.36950549, 15756.15659341, 15400.39010989, 14603.64423077, 15842.15796703, 14868.55906593, 14685.04120879, 15751.65384615, 14416.01098901, 15216.40659341, 14599.02884615, 16105.39835165, 14689.07417582, 14511.46428571, 15843.95054945, 14509.24175824, 15034.20879121, 15493.63736264, 15568.96153846,\n",
       "        14599.13049451, 13973.66620879, 16108.54120879, 14687.95741758, 15305.61813187, 15221.91895604, 15217.28159341, 14777.29120879, 14333.76785714, 17182.77884615, 15050.28571429, 15398.71153846, 16119.91483516, 15580.46840659, 15763.58104396, 15054.50274725, 17454.99038462, 15412.67857143, 15850.81181319,\n",
       "        17285.37087912, 16388.74587912, 16118.74038462, 15862.54120879, 17011.36401099, 14960.49587912, 15851.59615385, 16380.89148352, 16297.37637363, 16114.2293956 , 15948.19642857, 16205.09340659, 15676.53296703, 15762.55357143, 16376.73214286, 15849.86263736, 16740.58241758, 15312.5989011 , 16023.73214286,\n",
       "        15941.68406593, 16123.94368132, 16647.6978022 , 16034.84340659, 17009.83516484, 16027.16208791, 16738.00961538, 15668.86538462, 16215.92032967, 16114.34340659, 16122.93131868, 17188.97802198, 16561.97252747, 17010.06868132, 16387.73901099, 16128.1456044 , 16651.24038462, 16480.96428571, 17459.03571429,\n",
       "        17369.03571429, 16120.19230769, 16385.96428571, 16217.00412088, 17453.5       , 16212.31318681, 16923.25824176, 17096.4793956 , 15855.59615385, 17190.72252747, 16663.75549451, 17275.34340659, 16124.02747253, 16927.73351648, 17814.78846154, 16122.05494505, 17455.59203297, 17111.24313187, 16563.7032967 ,\n",
       "        16751.9793956 , 16929.46978022, 17993.34065934, 16569.37225275, 17545.71840659, 17108.31730769, 16656.        , 17017.63873626, 16661.46840659, 17726.11675824, 16211.67032967, 17278.38049451, 17013.68956044, 17010.59752747, 16925.98901099, 16033.41208791, 16203.32005495, 16480.4010989 , 16917.99450549,\n",
       "        17189.46291209, 16559.80494505, 16745.09752747, 15947.36263736, 16381.66620879, 16119.39835165, 17367.6771978 , 17274.56181319, 15670.375     , 16382.40796703, 16125.625     , 16733.75137363, 15941.02747253, 16742.60714286, 17093.49862637, 15226.26236264, 17007.99313187, 15941.16758242, 16736.64972527,\n",
       "        16121.95054945, 15758.38461538, 17185.07967033, 16211.60851648, 17545.70054945, 16388.28708791, 16024.4739011 , 16660.35164835, 16120.25      , 17813.80631868, 16300.46153846, 17457.23626374, 16567.83241758, 16833.82692308, 17017.4271978 , 16301.63324176, 17549.55494505, 16031.17582418, 17457.73489011,\n",
       "        17103.40521978, 17279.01785714, 17107.29395604, 16126.63461538, 17463.68406593, 16211.33653846, 17457.5728022 , 17818.75961538, 17105.22802198, 17286.01098901, 15947.71428571, 18086.43406593, 16392.20879121, 17101.52747253, 18175.56181319, 16124.40796703, 17192.08379121, 16304.87774725, 17814.25549451,\n",
       "        16571.86813187, 16206.91620879, 17996.50274725, 15674.12225275, 16738.10027473, 15851.7239011 , 17100.48214286, 16122.0728022 , 15579.17857143, 17996.01923077, 16299.93406593, 17096.36950549, 16750.58653846, 16385.16758242, 16571.52747253, 16121.55494505, 18084.14010989, 16392.78983516, 17008.07554945,\n",
       "        17017.37362637, 17190.55357143, 16659.08516484, 16306.4478022 , 17373.19917582, 16571.77884615, 17008.93681319, 17462.48214286, 17730.48351648, 16207.0728022 , 16397.94368132, 17192.29807692, 16752.54258242, 17279.625     , 18087.81181319, 16749.93543956, 16654.76923077, 16216.28708791, 17544.31868132,\n",
       "        16482.72802198, 16743.92994505, 17816.6978022 , 16305.13049451, 17191.48076923, 16934.85714286, 17904.87225275, 17022.60851648, 16477.50961538, 18176.52335165, 16482.90934066, 17997.36126374, 16841.68543956, 16922.34203297, 16931.67445055, 16479.32554945, 17724.27335165, 16570.37912088, 17095.40796703,\n",
       "        16208.37225275, 16296.21428571, 15939.99313187, 16212.03983516, 16913.06318681, 15941.97802198, 17278.1771978 , 15664.56318681, 16204.03434066, 16568.06593407, 16036.09752747, 17009.67307692, 16302.45879121, 17370.10302198, 16922.02472527, 16830.49038462, 16565.65659341, 16308.75137363, 16204.12225275,\n",
       "        15762.57005495, 17011.38736264, 17186.78571429, 16026.72802198, 16653.92582418, 16217.07417582, 16468.76098901, 15672.3228022 , 16834.9010989 , 17275.6510989 , 15045.52747253, 16831.31043956, 16034.23626374, 16823.74313187, 15673.3282967 , 16749.20604396, 17547.25824176, 15314.625     , 17187.79258242,\n",
       "        16120.0989011 , 16202.16483516, 15761.76510989, 16121.9271978 , 17184.5521978 , 16030.49725275, 16826.56181319, 15937.88324176, 15576.25137363, 15758.50824176, 15492.77197802, 16645.3489011 , 15582.09065934, 16918.06456044, 16653.57692308, 16650.36126374, 16656.44230769, 15945.90934066, 16833.55769231,\n",
       "        16301.27472527, 17638.14972527, 17818.85989011, 17013.76098901, 17105.46565934, 16487.32692308, 17278.40796703, 16301.53296703, 17101.78021978, 17726.21153846, 16303.77472527, 16653.13461538, 16574.93681319, 17634.375     , 16572.58104396, 16297.11538462, 17907.90521978, 15942.52197802, 16739.17445055,\n",
       "        16393.51785714, 16562.97252747, 15944.14835165, 16390.41208791, 17275.90521978, 16300.17582418, 16198.79807692, 15764.38324176, 16382.79395604, 15673.88186813, 16034.59752747, 17098.38736264, 15496.10714286, 16652.98214286, 15849.77884615, 16737.09065934, 15763.18269231, 15682.01923077, 15933.74313187,\n",
       "        15225.82142857, 16023.07692308, 16386.91346154, 15575.81593407, 15223.74725275, 14603.95054945, 17364.29532967, 14959.27884615, 15757.1510989 , 16387.3282967 , 15131.48076923, 15490.91483516, 15052.15796703, 17366.92857143, 14960.88736264, 15582.84065934, 16745.11675824, 16296.97802198, 15759.29945055,\n",
       "        15414.01373626, 16924.40247253, 15591.21153846, 15674.33928571, 17732.48351648, 15672.07005495, 15578.00274725, 15142.8956044 , 17098.1510989 , 14960.3543956 , 15588.14285714, 16833.02197802, 15048.99313187, 15665.34752747, 15585.95604396, 16468.38598901, 15048.98351648, 14873.56181319, 16379.41208791,\n",
       "        15137.99862637, 16385.05494505, 15671.99175824, 15666.9217033 , 15406.42582418, 14693.8228022 , 17723.51785714, 15410.39148352, 15847.45192308, 15670.26648352, 15757.24587912, 15942.0782967 , 14782.25274725, 16829.59615385, 15140.14835165, 15849.79807692, 16564.8228022 , 16833.23214286, 16299.65934066,\n",
       "        15413.80906593, 16563.73626374, 15047.48076923, 16028.5782967 , 17189.75137363, 15582.21703297, 16926.87637363, 15230.28021978, 17725.42994505, 15676.63324176, 16661.34478022, 17008.8228022 , 16038.80906593, 16560.71016484, 16572.28983516, 17007.44368132, 16125.11401099, 15406.61263736, 17458.5728022 ,\n",
       "        16481.41620879, 16917.78983516, 16837.74450549, 16207.50686813, 16749.76098901, 16124.63324176, 17454.06181319, 15853.25549451, 17008.54807692, 16115.31181319, 16382.51373626, 16476.45604396, 16213.47252747, 15842.07692308, 15761.52197802, 17189.00824176, 16288.8228022 , 16290.87087912, 16564.91208791,\n",
       "        15676.74450549, 15931.60714286, 15670.21153846, 17549.44917582, 16734.51510989, 15761.38461538, 16562.01785714, 15854.97802198, 16733.99725275, 15940.9010989 , 16923.96703297, 16553.54807692, 14957.39285714, 17276.89148352, 15760.90796703, 16375.86401099, 15672.36950549, 16029.41483516, 16913.82554945,\n",
       "        14862.25824176, 17904.31868132, 15667.3543956 , 15755.17307692, 16209.40659341, 15941.60714286, 16642.31868132, 15580.56868132, 17276.77747253, 15935.29807692, 15484.79807692, 16386.08653846, 15942.10576923, 16468.88598901, 15671.36950549, 17367.85164835, 16561.14010989, 16558.25824176, 16475.51785714,\n",
       "        15585.28571429, 16203.77472527, 16209.46428571, 17097.61950549, 17276.05631868, 16566.71978022, 16923.57967033, 16036.49725275, 17005.93818681, 16660.57417582, 17280.89423077, 17904.62362637, 16036.59340659, 17189.25686813, 16393.22664835, 17724.29945055, 16573.31730769, 16657.13186813, 17995.51373626,\n",
       "        16301.77197802, 17546.97527473, 16480.9478022 , 16744.35851648, 16571.18131868, 16571.06456044, 17724.52747253, 16390.56593407, 17818.79945055, 16211.00686813, 16743.44368132, 17109.93818681, 16572.60576923, 17281.01923077, 16483.41346154, 17820.24862637, 16656.4532967 , 17547.43131868, 17020.80769231,\n",
       "        16128.64010989, 17192.98763736, 16392.8956044 , 17639.17032967, 17732.24862637, 17103.8228022 , 16927.3228022 , 15950.06868132, 18357.42307692, 15853.64285714, 16741.59752747, 17907.59203297, 15582.4793956 , 16383.58241758, 16215.75412088, 17184.46016484, 15671.59752747, 16564.51098901, 17545.70192308,\n",
       "        15045.59615385, 16019.49450549, 15941.91758242, 16286.30769231, 15221.66346154, 15759.24038462, 16915.88324176, 15133.06456044, 16647.04945055, 16119.85989011, 15752.01785714, 15041.67857143, 15671.83928571, 16734.48901099, 15400.01923077, 16376.07967033, 16208.41483516, 15305.47115385, 15759.7760989 ,\n",
       "        15672.87912088, 16826.01923077, 15132.25274725, 16918.38324176, 16294.23076923, 16470.87362637, 16296.22527473, 16126.90934066, 16112.20467033, 15852.21291209, 17279.31868132, 16469.07967033, 16653.31868132, 16474.93681319, 15856.86401099, 16919.86263736, 16211.86813187, 17641.13736264, 17276.22115385,\n",
       "        16302.44505495, 17103.90247253, 16574.49038462, 18084.07692308, 16481.96703297, 17555.97115385, 17815.43681319, 16305.50549451, 17998.51098901, 16843.34203297, 18178.21840659, 16572.12637363, 17109.83653846, 17724.78021978, 16662.03296703, 18174.60302198, 16659.8228022 , 17286.01098901, 16750.95192308,\n",
       "        17201.48076923, 17723.87225275, 16661.56868132, 18267.66620879, 17285.42445055, 17553.30906593, 17018.3543956 , 17114.32692308, 16649.62774725, 16390.76236264, 18089.73626374, 16652.50961538, 17100.41620879, 16744.84615385, 16306.22252747, 15933.67582418, 16211.50961538, 17370.48763736, 17187.56593407,\n",
       "        16564.36813187, 16834.15384615, 16036.83928571, 16559.07417582, 16212.2239011 , 17730.65934066, 16914.8228022 , 15944.15796703, 16832.01373626, 15944.96428571, 17363.06593407, 16391.45604396, 17196.89972527, 17454.79120879, 16485.0206044 , 18265.92582418, 16210.31181319, 17101.73626374, 16211.21840659,\n",
       "        16750.62087912, 17544.09203297, 16840.88736264, 18086.10851648, 16476.16483516, 16656.63873626, 17199.34478022, 16482.86950549, 17274.63186813, 16930.92032967, 17547.6043956 , 16744.74587912, 16744.57692308, 17107.73763736, 15765.57967033, 17278.80906593, 16482.47115385, 17911.57554945, 17644.53846154,\n",
       "        18092.77197802, 17287.45467033, 16219.06868132, 17463.25      , 16666.0521978 , 17016.42032967, 17192.00686813, 17464.33104396, 16747.75549451, 15680.375     , 17013.8956044 , 15947.07554945, 16388.72252747, 16739.87362637, 16661.8228022 , 16567.46840659, 15410.35714286, 17186.34340659, 16037.75549451,\n",
       "        16302.53983516, 16380.38598901, 16037.76648352, 16744.57967033, 15766.3956044 , 17635.35164835, 16577.13186813, 15407.69917582, 16830.89972527, 16214.9271978 , 17099.84478022, 16481.68269231, 16925.75686813, 16575.14972527, 15499.46978022, 17993.91346154, 16486.72527473, 16832.05906593, 16927.94368132,\n",
       "        16926.64972527, 16751.47115385, 15499.76236264, 17907.35989011, 16127.25824176, 16924.96016484, 17374.63186813, 18002.85851648, 16837.65796703, 16399.69368132, 17104.01236264, 16126.2760989 , 17106.62637363, 17819.61263736, 17107.47527473, 17016.58653846, 16038.65796703, 17819.98901099, 16394.77197802,\n",
       "        17018.93818681, 17637.60989011, 16755.50549451, 17193.39697802, 16937.56181319, 17994.55631868, 17024.75824176, 16752.00137363, 17817.50274725, 16037.15796703, 17637.54807692, 16930.87362637, 17461.35164835, 17023.24587912, 15945.39697802, 17995.65934066, 16394.52747253, 17728.0521978 , 16926.06318681,\n",
       "        16476.33791209, 16570.74725275, 16035.96428571, 17635.64835165, 16392.89423077, 17191.16346154, 16655.13049451, 17192.53159341, 16927.28983516, 15316.46153846, 17372.64010989, 17112.25      , 17101.79532967, 17819.53846154, 17913.95879121, 16834.14697802, 16217.98076923, 17370.52747253, 16573.75137363,\n",
       "        18182.19230769, 18264.04258242, 16304.58241758, 16921.23901099, 16125.07554945, 17814.06868132, 15942.74038462, 17197.78296703, 17727.14972527, 16303.375     , 17908.60302198, 16840.64697802, 16832.61950549, 15851.63873626, 16752.32554945, 18265.92994505, 16391.27884615, 17547.7293956 , 17111.24038462,\n",
       "        17373.90521978, 15851.79395604, 17203.45741758, 17730.07554945, 16392.7032967 , 18002.33928571, 17108.36813187, 18268.50137363, 16389.97664835, 16039.49175824, 17642.22802198, 16304.83104396, 17640.95054945, 17553.10576923, 18005.2293956 , 16029.0728022 , 15681.9793956 , 17816.14148352, 15856.47802198,\n",
       "        16653.14285714, 16920.75686813, 16662.01785714, 15758.18956044, 15857.25      , 17725.72527473, 16123.79120879, 15848.55082418, 17549.41620879, 16032.1456044 , 16471.50549451, 16035.52884615, 17279.78021978, 16574.38598901, 16569.89697802, 18536.06181319, 16480.85302198, 17277.50549451, 16752.74450549,\n",
       "        16564.20054945, 16573.07554945, 16661.14423077, 18174.5206044 , 16572.22664835, 17458.25549451, 17377.16620879, 17105.03571429, 16748.92445055, 16034.61538462, 17457.47664835, 15942.59752747, 17458.85714286, 16563.86263736, 16741.64148352, 16567.1510989 , 15587.39835165, 16741.5782967 , 15403.31318681,\n",
       "        16920.18131868, 17370.54532967, 16563.21291209, 15755.87225275, 15768.31043956, 16560.33379121, 15584.52335165, 16202.04532967, 16916.18956044, 15669.57005495, 15755.14972527, 15767.07142857, 16555.9271978 , 15761.88736264, 16117.19230769, 17457.44230769, 15405.91208791, 16739.78983516, 16663.66346154,\n",
       "        17007.25      , 16302.41620879, 16211.15247253, 17187.08516484, 15943.16483516, 17276.0782967 , 16300.20741758, 16654.01648352, 16123.21565934, 16573.61675824, 17183.34340659, 16571.46565934, 17007.09478022, 16837.62774725, 16475.15521978, 16299.84615385, 16215.10714286, 16827.18131868, 16752.36263736,\n",
       "        16831.2239011 , 16563.65384615, 16831.29945055, 16655.76785714, 15857.0206044 , 15843.27884615, 16663.84065934, 16652.43956044, 17097.61538462, 16924.76923077, 16834.38461538, 16219.15659341, 16920.08928571, 16484.36538462, 17282.42582418, 17816.4532967 , 16481.86538462, 16924.59615385, 16577.59340659,\n",
       "        17094.45467033, 16302.81730769, 16837.74038462, 17548.26098901, 15407.03708791, 17010.70054945, 16302.30082418, 17007.46016484, 16483.48763736, 16034.02884615, 17277.25412088, 16033.88873626, 17007.5467033 , 16659.50686813, 16204.30357143, 16123.87637363, 15406.84752747, 17273.80906593, 16392.90384615,\n",
       "        16468.86950549, 16748.61538462, 16115.70604396, 16660.62225275, 15586.85851648, 17187.70054945, 16214.09478022, 16293.21978022, 17014.63461538, 16743.18131868, 16746.93131868, 15589.10989011, 16202.18269231, 16216.62087912, 16204.56318681, 17278.34615385, 16475.25274725, 16836.4271978 , 15680.14972527,\n",
       "        16740.39148352, 16214.29258242, 16925.94230769, 17277.71565934, 15762.75961538, 16744.80769231, 15587.88736264, 17005.25824176, 16123.72115385, 16210.05769231, 16918.90247253, 15586.93956044, 16560.03434066, 16121.87225275, 16288.25549451, 16304.72115385, 15405.73901099, 16827.35027473, 16033.10989011,\n",
       "        16738.0521978 , 16299.0467033 , 15844.84340659, 15853.59478022, 14957.78021978, 16644.43406593, 15853.0521978 , 16739.75686813, 16207.57005495, 15844.74725275, 16478.41895604, 15496.90521978, 16650.11263736, 15495.39148352, 16833.27197802, 16561.18956044, 16292.80906593, 16476.95054945, 15408.4271978 ,\n",
       "        15661.22802198, 15404.81318681, 16473.46153846, 17007.34065934, 15578.9271978 , 16205.64148352, 15228.49450549, 16916.19093407, 15942.57417582, 16296.17445055, 17188.52747253, 15316.0206044 , 16741.08516484, 16034.04532967, 16917.        , 15403.62087912, 15851.39010989, 17186.5521978 , 15493.57692308,\n",
       "        16647.28296703, 15761.14835165, 15933.24038462, 15314.00549451, 15674.44917582, 16374.20741758, 15401.62774725, 17098.0206044 , 15399.2760989 , 16113.34478022, 15309.45467033, 15855.66758242, 15569.74862637, 15313.8956044 , 17460.9271978 , 15932.24313187, 16380.79532967, 15757.44642857, 15319.09478022,\n",
       "        15481.16895604, 15133.83104396, 17102.12637363, 16648.24587912, 15307.35164835, 15845.80769231, 14958.78708791, 16016.26648352, 15402.6978022 , 16564.9793956 , 16378.30631868, 14323.96291209, 16381.98901099, 15405.64285714, 16465.54807692, 15223.61401099, 15758.65934066, 16917.81181319, 15403.04120879,\n",
       "        17189.70054945, 16302.44230769, 16471.94505495, 15943.89972527, 15851.43406593, 17635.52197802, 16570.61950549, 17369.33653846, 16570.71840659, 16474.2293956 , 16751.06181319, 16123.79945055, 17547.84203297, 16662.98489011, 17550.32967033, 16747.84478022, 17549.89010989, 16749.80494505, 16038.66895604,\n",
       "        16742.19917582, 16484.89972527, 16829.68131868, 17012.66208791, 17014.02335165, 15850.40521978, 14781.44093407, 17455.76785714, 16486.21291209, 16656.1717033 , 16292.40934066, 16662.93818681, 16027.60302198, 14600.14010989, 17007.01510989, 15408.28296703, 14862.375     , 15573.54532967, 16387.67857143,\n",
       "        15305.8956044 , 14601.26510989, 16024.08379121, 15680.43681319, 15043.89697802, 16380.49725275, 15942.93956044, 16117.81456044, 14871.18269231, 17007.63186813, 15048.90521978, 15769.03846154, 16383.66208791, 15859.25549451, 16384.75412088, 15853.98763736, 17458.71840659, 15137.5260989 , 14964.37637363,\n",
       "        17189.00274725, 15679.5728022 , 16383.54120879, 16119.76923077, 16567.7967033 , 15046.10027473, 15234.60851648, 17273.69093407, 14869.24038462, 16117.4793956 , 15758.76373626, 15938.80769231, 15761.60027473, 15141.8228022 , 17278.27197802, 14870.14972527, 16390.80494505, 16025.97115385, 16475.24450549,\n",
       "        15849.28434066, 14871.33653846, 16563.49313187, 14779.66208791, 16302.20741758, 17099.47252747, 16120.7239011 , 16385.88598901, 14961.87637363, 17278.36263736, 14777.77197802, 15674.62362637, 16649.45054945, 15587.91758242, 15932.97115385, 15135.88461538, 17006.86950549, 14865.75412088, 14958.1978022 ,\n",
       "        16471.14010989, 14956.42307692, 15481.90659341, 15848.84752747, 16293.74725275, 14144.51098901, 14511.03571429, 16915.85164835, 14865.48214286, 15483.11950549, 16028.40521978, 15847.44505495, 14862.13186813, 14781.38736264, 17005.76373626, 15226.81730769, 16026.2967033 , 17196.69093407, 16117.06456044,\n",
       "        15488.83379121, 15501.375     , 17550.27335165, 14508.93269231, 15579.61126374, 17190.9217033 , 15758.07967033, 15305.92582418, 15051.74313187, 16922.04807692, 13699.37362637, 14591.97115385, 16558.13873626, 15130.15521978, 14763.93681319, 14688.75961538, 16020.60989011, 14235.99862637, 14324.98076923,\n",
       "        16020.55906593, 14145.07417582, 15123.35851648, 15043.15384615, 15298.66895604, 13873.69368132, 14058.10714286, 14762.7239011 , 14506.78846154, 15032.75412088, 15217.73626374, 15570.00412088, 14053.15247253, 13790.96840659, 15928.67994505, 14415.79945055, 15662.20192308, 15575.47802198, 15756.21016484,\n",
       "        14591.24313187, 14061.04532967, 17274.51373626, 14955.63461538, 16024.31868132, 16473.17857143, 15761.36950549, 15217.60851648, 15498.21978022, 17546.97252747, 16125.33653846, 16478.33653846, 17549.67307692, 16031.96840659, 16921.94093407, 15856.07967033, 16831.05769231, 16126.24862637, 15581.88049451,\n",
       "        16915.5260989 , 15850.87774725, 16469.21703297, 15854.54258242, 16023.83516484, 15404.47115385, 15943.33791209, 16916.75137363, 15403.18406593, 16830.22252747, 16660.57417582, 16831.11950549, 15940.60714286, 16306.02747253, 16112.10989011, 15765.00137363, 16921.40521978, 17554.49313187, 16829.89010989,\n",
       "        16029.41208791, 16220.0467033 , 16290.61401099, 15764.02884615, 17371.11813187, 17371.67857143, 15937.24587912, 16118.64835165, 15950.1978022 , 17274.69505495, 15764.66758242, 17373.20604396, 17191.16758242, 15403.04945055, 16744.67857143, 16036.63598901, 17096.82417582, 15765.25412088, 16299.86126374,\n",
       "        17187.67445055, 15401.59752747, 17190.00824176, 16395.48214286, 16382.24450549, 15855.73076923, 15852.63598901, 17005.2967033 , 15850.4217033 , 17278.91895604, 16574.71703297, 15933.72115385, 16032.30769231, 16122.95192308, 16739.49038462, 15133.94093407, 16921.38049451, 16478.83104396, 16559.00549451,\n",
       "        16210.94917582, 15677.31593407, 16112.70879121, 15404.64285714, 17101.74862637, 17103.11813187, 16291.00961538, 16210.21016484, 15501.96291209, 16828.42032967, 15763.42857143, 17551.32005495, 17101.15521978, 15760.56456044, 16297.15934066, 16129.26373626, 17364.99587912, 15673.53296703, 17013.38873626,\n",
       "        17098.49587912, 15314.98763736, 16742.39972527, 16034.24587912, 16646.55906593, 15674.54120879, 16119.80357143, 17096.07417582, 15672.59615385, 17098.4793956 , 16121.95879121, 16291.9532967 , 15673.78021978, 16213.06318681, 16554.5       , 15940.56181319, 16557.7706044 , 16030.87225275, 15485.11538462,\n",
       "        15760.14285714, 16032.27335165, 16648.51785714, 15403.5467033 , 16831.36813187, 16387.14423077, 16289.79945055, 16119.10302198, 15767.5989011 , 16471.87774725, 15314.78159341, 16830.70879121, 17011.91071429, 15933.98901099, 16030.37637363, 15321.7760989 , 16915.70604396, 15764.3956044 , 16922.67994505,\n",
       "        16742.49175824, 15402.5728022 , 16026.96565934, 15227.47252747, 17276.59752747, 14956.26098901, 15850.3021978 , 16830.09203297, 15580.26923077, 16112.59340659, 15587.77884615, 16112.2760989 , 15047.01236264, 15402.95192308, 16107.4739011 , 15939.93681319, 16021.4793956 , 15136.18956044, 16202.93269231,\n",
       "        15404.11813187, 15403.25824176, 16738.99862637, 15225.49038462, 16561.83928571, 15670.70604396, 17099.14972527, 15402.14835165, 15227.67032967, 16113.30082418, 14955.10714286, 16561.13461538, 16385.50961538, 16379.6717033 , 16031.09203297, 15500.68543956, 16740.20741758, 15223.32692308, 17550.29258242,\n",
       "        17371.91620879, 16297.51510989, 16658.60164835, 15589.25824176, 17455.76373626, 15673.39010989, 17373.125     , 17459.79945055, 15492.99450549, 16744.68818681, 16395.95604396, 17546.23626374, 15854.42307692, 16478.45741758, 17546.83241758, 15133.66895604, 17638.62087912, 16304.18269231, 16561.16483516,\n",
       "        15854.51098901, 16392.61126374, 17274.99175824, 16300.74725275, 16918.65247253, 16393.9532967 , 16203.36813187, 15492.1043956 , 15942.7967033 , 16019.75137363, 14775.62225275, 15752.22664835, 15578.72115385, 15838.2239011 , 14143.28159341, 13160.59615385, 15390.70604396, 14684.83653846, 15212.40796703,\n",
       "        15217.81456044, 14946.18406593, 14233.10851648, 14062.79945055, 17544.71840659, 14597.68956044, 15216.60027473, 17016.46153846, 15128.85164835, 15218.44917582, 14962.11813187, 17460.34340659, 13970.26510989, 15130.15934066, 17280.17582418, 15757.06456044, 15036.50824176, 15142.80494505, 16921.5467033 ,\n",
       "        14057.54532967, 14861.59752747, 16650.24175824, 14592.84065934, 14495.29258242, 14958.73076923, 17188.23076923, 14776.15247253, 14506.73763736, 17012.48626374, 14778.0521978 , 14763.38186813, 16212.72664835, 16558.11126374, 14145.96978022, 14421.10851648, 17101.74725275, 14865.92994505, 14943.19230769,\n",
       "        16840.86401099, 16203.39010989, 14325.88736264, 14873.15796703, 17455.18269231, 15046.45879121, 14854.91208791, 16750.16208791, 15399.01785714, 14772.08104396, 14421.4271978 , 17365.25      , 14690.10164835, 14769.49725275, 16744.92994505, 15577.02884615, 14858.62912088, 14603.31318681, 16022.31181319,\n",
       "        14780.41346154, 14679.78434066, 16559.54945055, 14588.62225275, 14946.80494505, 14422.73076923, 15299.59615385, 14596.3489011 , 14862.71840659, 15300.8543956 , 14237.56318681, 15483.94230769, 15313.0260989 , 16646.14010989, 14326.41071429, 14417.96016484, 16200.24725275, 15133.04807692, 15929.32005495,\n",
       "        15220.5521978 , 16114.90796703, 14953.60851648, 14326.23626374, 17634.64835165, 15493.61950549, 15931.59752747, 15938.59203297, 16113.09752747, 15668.84478022, 14957.52747253, 17190.22664835, 15317.00549451, 15932.32554945, 17550.0989011 , 15213.57005495, 16297.55631868, 14780.76236264, 16740.25274725,\n",
       "        15674.65934066, 15842.9793956 , 17459.14423077, 15220.32142857, 15845.74725275, 14957.73763736, 16826.38324176, 15762.90934066, 15128.56043956, 17009.48351648, 14775.43269231, 15931.38461538, 15763.78159341, 16466.69093407, 15764.99450549, 15132.55357143, 17368.36401099, 14683.97527473, 15838.99587912,\n",
       "        15762.89697802, 15841.39972527, 14865.98763736, 14865.70741758, 17095.60027473, 15132.9010989 , 15390.71016484, 16122.03021978, 15484.70192308, 15313.55357143, 14238.28846154, 17725.33379121, 14956.2032967 , 15213.47664835, 16297.79945055, 15305.72802198, 14769.70467033, 13611.0782967 , 16468.68818681,\n",
       "        13969.38598901, 14586.58516484, 16292.68818681, 15034.78846154, 15218.46978022, 14063.31181319, 15571.65521978, 14328.85989011, 15128.99725275, 16111.14423077, 15307.02884615, 15218.33791209, 14241.82554945, 15570.06730769, 14506.94368132, 14232.07967033, 15121.29532967, 14053.74587912, 14315.99450549,\n",
       "        13878.16071429, 15836.84752747, 14057.46291209, 14326.61126374, 15753.26785714, 14237.80082418, 15213.6510989 , 15763.67307692, 16377.92582418, 14507.66620879, 14242.26648352, 16739.50549451, 14596.6978022 , 15302.05631868, 15852.02472527, 15664.00549451, 14236.72252747, 14513.65934066, 17274.11950549,\n",
       "        14238.15521978, 15665.61675824, 16299.95879121, 15399.43681319, 15402.4793956 , 14872.15796703, 17726.38049451, 14421.3489011 , 15130.5       , 17195.1771978 , 16297.46703297, 15578.8489011 , 15323.24725275, 17281.94505495, 14329.99862637, 15222.74725275, 16651.65796703, 16027.13461538, 15487.05631868,\n",
       "        14962.00549451, 16653.50549451, 14868.36263736, 15583.38186813, 17101.01785714, 15852.66071429, 15395.65934066, 15048.11126374, 16829.5782967 , 14776.3543956 , 14595.48901099, 15931.85164835, 14597.78159341, 15664.54532967, 15132.        , 16377.72527473, 14775.39010989, 13972.32417582, 16201.34065934,\n",
       "        14596.86675824, 16111.74725275, 15399.2967033 , 15753.0206044 , 14865.4010989 , 13884.5782967 , 16375.11126374, 14777.54395604, 15394.2706044 , 15486.89972527, 15040.62362637, 14860.56456044, 14150.39697802, 16195.17994505, 14419.64285714, 14859.81593407, 15213.42582418, 14859.54120879, 15036.81730769,\n",
       "        14059.86813187, 15209.80357143, 14509.11675824, 14503.0989011 , 15389.93406593, 15578.37774725, 15574.38736264, 14239.74725275, 15303.03296703, 14507.30906593, 14232.62912088, 15928.58241758, 14412.52197802, 15662.55906593, 14326.64148352, 15930.9271978 , 14774.91895604, 14684.13873626, 16290.59203297,\n",
       "        14596.6456044 , 15483.26098901, 15039.9271978 , 16917.96565934, 14593.48901099, 14240.95467033, 16291.74038462, 15046.15796703, 15751.7706044 , 16025.21153846, 16113.53021978, 15043.0728022 , 13794.09065934, 16556.61263736, 14415.74038462, 15753.92857143, 15483.74450549, 15131.20192308, 14767.93681319,\n",
       "        13969.69642857, 16646.50686813, 14687.56181319, 14769.03296703, 15931.96428571, 15310.45467033, 15484.89010989, 14057.77884615, 16380.35576923, 14508.125     , 14502.94505495, 16288.39010989, 15759.94093407, 15573.22802198, 14598.00961538, 15932.18406593, 15226.17857143, 14592.78571429, 16197.95054945,\n",
       "        15044.66071429, 15933.05357143, 14594.93956044, 16199.42582418, 15494.20604396, 14326.92582418, 15661.78571429, 15406.56456044, 16292.49725275, 15757.4010989 , 16020.91483516, 14953.11401099, 13523.01373626, 16289.47252747, 14956.29395604, 15572.00549451, 16024.10164835, 15306.13598901, 14681.05631868,\n",
       "        13702.20054945, 16825.90796703, 14685.90934066, 15664.7032967 , 16562.90934066, 15761.71291209, 15487.13736264, 14957.92445055, 17547.06730769, 15225.2706044 , 15488.58653846, 17101.20054945, 15222.98214286, 16562.45467033, 15584.62637363, 16918.7967033 , 14774.81730769, 15042.71291209, 16468.36126374,\n",
       "        14861.51785714, 16199.31868132, 15491.92994505, 16472.04945055, 15494.01510989, 15764.79120879, 17367.12912088, 16391.69093407, 16739.47115385, 16209.82005495, 16835.54945055, 16482.24862637, 15496.73214286, 17905.75      , 16124.39148352, 16381.5782967 , 16209.16895604, 16295.70604396, 16120.76098901,\n",
       "        15046.93543956, 17547.24862637, 15766.30631868, 16384.54945055, 17013.58791209, 16743.01236264, 16117.14697802, 15140.41071429, 16921.79945055, 16124.80082418, 16562.60164835, 17366.84340659, 15670.42445055, 16026.16071429, 15407.27884615, 16916.06730769, 15763.54258242, 15399.80082418, 16919.6771978 ,\n",
       "        15582.64148352, 16739.66483516, 15135.30082418, 16742.04945055, 15316.58516484, 15132.70192308, 17366.99450549, 15311.45741758, 15482.06181319, 14327.23763736, 16110.80494505, 15134.50961538, 15044.26648352, 16021.11263736, 15137.10302198, 15842.83928571, 15580.27884615, 16377.96428571, 14774.18818681,\n",
       "        14152.66620879, 16021.14423077, 14775.95192308, 15661.71565934, 15845.79532967, 15844.18681319, 14952.59065934, 13793.79532967, 16646.13736264, 14596.40247253, 16023.83791209, 15483.23626374, 14861.28296703, 14857.88186813, 14149.06318681, 16825.65384615, 14507.04120879, 14858.10027473, 16380.17582418,\n",
       "        14952.77197802, 15303.08791209, 14236.55906593, 16108.82554945, 14686.52197802, 14862.23076923, 16288.1043956 , 15040.03846154, 15480.83104396, 14326.4010989 , 15663.66346154, 14414.76510989, 14322.20192308, 16017.89835165, 13783.76648352, 15392.69505495, 14773.6717033 , 15928.70467033, 15135.12362637,\n",
       "        14238.83516484, 16472.46565934, 14596.61263736, 15483.39697802, 16571.13736264, 15482.56456044, 13966.86126374, 13433.63324176, 16734.39835165, 13968.46565934, 14766.41071429, 15217.73076923, 15126.83516484, 15040.04395604, 13521.43956044, 15659.90521978, 13788.70741758, 15486.8956044 , 15841.45879121,\n",
       "        15393.8489011 , 15308.11263736, 13700.53021978, 15840.8282967 , 14413.85302198, 15666.70467033, 16199.74175824, 14592.45467033, 15575.04945055, 14237.87637363, 16467.02884615, 14415.48626374, 15041.6978022 , 16110.24725275, 14417.19230769, 15482.60989011, 14774.83791209, 16017.15247253, 13967.25      ,\n",
       "        14417.53434066, 16020.57417582, 14505.66071429, 15752.98901099, 15043.00824176, 15930.67857143, 14415.64010989, 13341.75412088, 17097.13049451, 13516.60989011, 15392.1510989 , 15401.37774725, 14675.56181319, 14594.09752747, 13611.41071429, 17005.30082418, 13699.23076923, 15306.11263736, 16115.22802198,\n",
       "        15396.09615385, 14679.10851648, 13792.07692308, 15840.43131868, 13788.08516484, 14767.29395604, 16290.2760989 , 14946.86263736, 14497.65796703, 13969.62774725, 16108.05631868, 13874.06868132, 14768.51648352, 16289.99313187, 13964.44505495, 15481.65659341, 14234.26373626, 16287.57142857, 13875.60576923,\n",
       "        14592.5206044 , 16825.57692308, 13782.62912088, 15477.78159341, 14683.95467033, 16113.04120879, 13963.41620879, 14143.01098901, 16825.07142857, 14323.27747253, 15839.63186813, 15219.08104396, 15303.02335165, 14410.09065934, 13966.38461538, 15749.81868132, 13695.20054945, 15391.96840659, 15752.48901099,\n",
       "        15122.17994505, 15037.94642857, 14060.54395604, 15751.11675824, 14775.4478022 , 15303.32692308, 16468.96153846, 15305.19230769, 14766.79120879, 14240.72252747, 16289.82967033, 14144.51785714, 15575.2239011 , 16830.03434066, 14681.66483516, 15305.30631868, 14867.36950549, 16735.98489011, 15133.77747253,\n",
       "        14950.05082418, 16740.07005495, 14145.5521978 , 15300.96153846, 15402.45879121, 16018.41346154, 14415.49038462, 14864.07554945, 16826.20467033, 14592.07005495, 15387.66483516, 14232.58653846, 14944.09340659, 14322.44230769, 14413.82005495, 16826.2239011 , 14414.09615385, 16020.36950549, 15756.46291209,\n",
       "        16202.12912088, 15398.42582418, 15497.80494505, 16832.04807692, 15404.50137363, 16381.54532967, 17641.14285714, 16473.00824176, 15848.2706044 , 15229.68406593, 17188.85576923, 15672.59203297, 16921.72115385, 17640.76785714, 15760.8282967 , 15755.30906593, 15856.43269231, 17546.43818681, 15493.25961538,\n",
       "        16295.27197802, 17457.60164835, 15584.39697802, 17010.89835165, 16034.57554945, 17547.7032967 , 15133.94917582, 16029.65796703, 17365.33928571, 14863.9793956 , 16738.70879121, 14952.53434066, 15840.46016484, 15133.61813187, 14775.21840659, 16736.37225275, 14052.05082418, 16019.28159341, 15130.32692308,\n",
       "        14764.70604396, 15492.48626374, 13697.80631868, 16555.53571429, 14055.28708791, 15931.21703297, 15307.93681319, 15216.21840659, 15850.82967033, 14148.60027473, 16648.01648352, 13876.82005495, 15845.1978022 , 15574.14148352, 15394.1771978 , 15399.15796703, 13699.49450549, 15751.5206044 , 14055.44642857,\n",
       "        15125.69093407, 15839.69230769, 15037.46016484, 15216.41620879, 13339.9532967 , 16017.90934066, 14504.25      , 15307.18818681, 16198.14835165, 14324.625     , 15842.07967033, 14235.54395604, 16377.19230769, 14324.87087912, 14322.08379121, 16647.70054945, 14145.80082418, 15838.19093407, 14771.13736264,\n",
       "        15930.73626374, 14503.86401099, 14236.94230769, 16736.94093407, 14953.56730769, 15660.21016484, 14679.12225275, 14944.31868132, 14232.3282967 , 13428.36950549, 16466.76098901, 13514.78021978, 15122.78571429, 14677.64972527, 15665.40796703, 14950.22252747, 13608.69917582, 16917.91071429, 14057.26785714,\n",
       "        15215.80082418, 15394.35989011, 15485.58241758, 15758.99313187, 13790.16346154, 15840.36675824, 14597.62225275, 15128.27472527, 16469.66346154, 15308.72115385, 15396.97802198, 13792.36538462, 15659.49587912, 14777.61401099, 15130.94093407, 16469.1717033 , 15043.79807692, 15933.99587912, 14329.0467033 ,\n",
       "        16648.20741758, 15046.92307692, 14594.85302198, 15931.14972527, 15226.76923077, 16381.75412088, 15221.9010989 , 16560.27335165, 15315.85576923, 13790.84203297, 16650.13324176, 15405.61401099, 15932.38461538, 15308.80494505, 15574.50961538, 15134.0989011 , 13791.69368132, 17096.04945055, 15496.88324176,\n",
       "        15665.09752747, 15399.27335165, 16206.7967033 , 15580.9478022 , 14509.39010989, 17277.79258242, 15318.70054945, 16027.7967033 , 16294.68131868, 16296.81181319, 15758.42032967, 14690.99175824, 17191.46016484, 15587.98076923, 16029.80631868, 17459.6978022 , 16029.66346154, 15395.64972527, 15141.85714286,\n",
       "        16920.95741758, 14597.62774725, 14232.07005495, 16557.8489011 , 14773.30357143, 15483.0782967 , 14058.33379121, 16019.7967033 , 14325.8956044 , 14234.43818681, 16198.99450549, 14325.58379121, 15842.09478022, 14681.39697802, 16109.85989011, 15133.31593407, 14149.56181319, 15841.41346154, 15226.64148352,\n",
       "        15931.41758242, 15845.13873626, 16202.18956044, 15312.01098901, 14333.81318681, 16377.99862637, 15226.42582418, 16203.34752747, 15664.28434066, 15668.4010989 , 15580.39423077, 13880.40521978, 17095.70192308, 15497.61538462, 15218.35851648, 15664.51785714, 15849.32417582, 16027.27472527, 14237.67582418,\n",
       "        15840.50549451, 15047.62225275, 14231.94230769, 15839.36126374, 15039.77884615, 15395.15659341, 13701.40247253, 16110.87225275, 14597.57967033, 14322.68681319, 16289.34478022, 14775.26648352, 16292.96703297, 14147.52884615, 16648.21565934, 14507.31181319, 14327.92994505, 16111.62637363, 14957.37362637,\n",
       "        15842.94642857, 15399.80494505, 16650.61538462, 15316.53846154, 14064.15934066, 17008.72802198, 15136.98076923, 16383.6043956 , 15937.60851648, 16746.68543956, 15493.22115385, 14244.2706044 , 17364.45741758, 14599.17307692, 16206.73626374, 15935.09478022, 15849.50412088, 15217.61538462, 13519.73351648,\n",
       "        16918.52335165, 14058.51098901, 15398.06868132, 16740.64010989, 15578.95741758, 16117.10576923, 13880.5782967 , 16560.29395604, 14416.97527473, 15311.55769231, 16379.50686813, 14772.59752747, 16564.21291209, 13967.74450549, 16738.97527473, 14415.47252747, 14774.53021978, 16110.53983516, 14595.25274725,\n",
       "        16381.62362637, 14771.30357143, 16110.74175824, 14054.2032967 , 12978.45467033, 16198.08928571, 14054.48076923, 15481.12087912, 14950.22252747, 15213.65247253, 14322.83379121, 13518.86538462, 16287.18681319, 14056.0521978 , 15843.55357143, 15664.43406593, 14674.31181319, 15218.49725275, 13250.28571429,\n",
       "        16469.51648352, 14685.50412088, 16025.49725275, 16470.49450549, 15217.35302198, 15846.38324176, 13070.39697802, 16918.8489011 , 14505.82967033, 16567.7760989 , 17010.20604396, 15312.14010989, 16474.3021978 , 14237.06318681, 17729.19368132, 14955.88598901, 16211.01236264, 17818.83241758, 14863.75686813,\n",
       "        17102.15659341, 14773.5467033 , 17280.1510989 , 14504.65796703, 14596.37637363, 17548.00412088, 14233.84065934, 16830.06181319, 14951.68681319, 16022.43681319, 14682.58516484, 14597.49862637, 17008.03434066, 13964.88598901, 17011.00137363, 15127.12087912, 15753.19230769, 15040.74450549]),\n",
       " (5110,))"
      ]
     },
     "execution_count": 52,
     "metadata": {},
     "output_type": "execute_result"
    }
   ],
   "source": [
    "np.mean(ep_radar_data_np, axis=1), np.mean(ep_radar_data_np, axis=1).shape"
   ]
  },
  {
   "cell_type": "markdown",
   "metadata": {},
   "source": [
    "Again, just looking at changes in mean values over the time axis. "
   ]
  },
  {
   "cell_type": "code",
   "execution_count": 56,
   "metadata": {},
   "outputs": [
    {
     "data": {
      "text/plain": [
       "[<matplotlib.lines.Line2D at 0x17fb802e0>]"
      ]
     },
     "execution_count": 56,
     "metadata": {},
     "output_type": "execute_result"
    },
    {
     "data": {
      "image/png": "[encoded data removed]",
      "text/plain": [
       "<Figure size 640x480 with 1 Axes>"
      ]
     },
     "metadata": {},
     "output_type": "display_data"
    }
   ],
   "source": [
    "import matplotlib.pyplot as plt\n",
    "idx = np.arange(0, 5110)\n",
    "plt.plot(idx, np.mean(ep_radar_data_np, axis=1))"
   ]
  },
  {
   "cell_type": "code",
   "execution_count": 55,
   "metadata": {},
   "outputs": [
    {
     "data": {
      "text/plain": [
       "15968.482199845166"
      ]
     },
     "execution_count": 55,
     "metadata": {},
     "output_type": "execute_result"
    }
   ],
   "source": [
    "np.mean(np.mean(ep_radar_data_np, axis=1))"
   ]
  },
  {
   "cell_type": "markdown",
   "metadata": {},
   "source": [
    "Can smooth out the graph by taking a mean of samples over each 0.5 sec approx and plotting them to see."
   ]
  },
  {
   "cell_type": "code",
   "execution_count": 65,
   "metadata": {},
   "outputs": [
    {
     "data": {
      "text/plain": [
       "(5110,)"
      ]
     },
     "execution_count": 65,
     "metadata": {},
     "output_type": "execute_result"
    }
   ],
   "source": [
    "ep_means = np.mean(ep_radar_data_np, axis=1)\n",
    "ep_means.shape"
   ]
  },
  {
   "cell_type": "markdown",
   "metadata": {},
   "source": [
    "5110 for 30 sec; approx 170 per second."
   ]
  },
  {
   "cell_type": "code",
   "execution_count": 67,
   "metadata": {},
   "outputs": [
    {
     "data": {
      "text/plain": [
       "(5100,)"
      ]
     },
     "execution_count": 67,
     "metadata": {},
     "output_type": "execute_result"
    }
   ],
   "source": [
    "ep_means = ep_means[:5100] #ignoring last 10 for plotting convenience\n",
    "ep_means.shape"
   ]
  },
  {
   "cell_type": "code",
   "execution_count": 68,
   "metadata": {},
   "outputs": [
    {
     "data": {
      "text/plain": [
       "(30, 170)"
      ]
     },
     "execution_count": 68,
     "metadata": {},
     "output_type": "execute_result"
    }
   ],
   "source": [
    "ep_means_reshap = np.reshape(ep_means, (-1, 170))\n",
    "ep_means_reshap.shape"
   ]
  },
  {
   "cell_type": "code",
   "execution_count": 69,
   "metadata": {},
   "outputs": [
    {
     "data": {
      "text/plain": [
       "[<matplotlib.lines.Line2D at 0x17fd0dff0>]"
      ]
     },
     "execution_count": 69,
     "metadata": {},
     "output_type": "execute_result"
    },
    {
     "data": {
      "image/png": "[encoded data removed]",
      "text/plain": [
       "<Figure size 640x480 with 1 Axes>"
      ]
     },
     "metadata": {},
     "output_type": "display_data"
    }
   ],
   "source": [
    "import matplotlib.pyplot as plt\n",
    "idx = np.arange(0, 30)\n",
    "plt.plot(idx, np.mean(ep_means_reshap, axis=1))"
   ]
  },
  {
   "cell_type": "markdown",
   "metadata": {},
   "source": [
    "Ok so this looks more like a reasonable radar signal.."
   ]
  },
  {
   "cell_type": "markdown",
   "metadata": {},
   "source": [
    "But for now we move on, knowing that the values in EP data are upto 65532; and that the mean is about 15000 in most timeframes. That could explain the division in the `cur_frame = torch.tensor(cur_frame).type(torch.float32)/1.255e5`. My intuition is that the current RF_model is trained on deflections of this maginitude and flavor; so have to look at the mean and std_dev of the `cur_frame` data after the said operation, and make the `cur_frame` in the Chiron data case match that distribution flavor."
   ]
  },
  {
   "cell_type": "code",
   "execution_count": null,
   "metadata": {},
   "outputs": [],
   "source": []
  },
  {
   "cell_type": "code",
   "execution_count": null,
   "metadata": {},
   "outputs": [],
   "source": []
  },
  {
   "cell_type": "markdown",
   "metadata": {},
   "source": [
    "### gen_rf_preds() breakdown"
   ]
  },
  {
   "cell_type": "code",
   "execution_count": 29,
   "metadata": {},
   "outputs": [
    {
     "name": "stderr",
     "output_type": "stream",
     "text": [
      "python(52293) MallocStackLogging: can't turn off malloc stack logging because it was not enabled.\n"
     ]
    },
    {
     "name": "stdout",
     "output_type": "stream",
     "text": [
      "Collecting backports.datetime_fromisoformat\n",
      "  Downloading backports_datetime_fromisoformat-2.0.1-cp310-cp310-macosx_11_0_arm64.whl.metadata (6.3 kB)\n",
      "Downloading backports_datetime_fromisoformat-2.0.1-cp310-cp310-macosx_11_0_arm64.whl (26 kB)\n",
      "Installing collected packages: backports.datetime_fromisoformat\n",
      "Successfully installed backports.datetime_fromisoformat-2.0.1\n"
     ]
    }
   ],
   "source": [
    "!pip install backports.datetime_fromisoformat"
   ]
  },
  {
   "cell_type": "code",
   "execution_count": 30,
   "metadata": {},
   "outputs": [],
   "source": [
    "import os\n",
    "import pickle\n",
    "import numpy as np\n",
    "import torch\n",
    "import argparse\n",
    "# import imageio\n",
    "from tqdm import tqdm\n",
    "\n",
    "# from utils.eval_fusion_je import eval_fusion_model\n",
    "# from utils.utils_je import pulse_rate_from_power_spectral_density, extract_video\n",
    "# from data.datasets_je import FusionEvalDatasetObject, FusionRunDatasetObject\n",
    "from rf import organizer as org\n",
    "from rf.proc import create_fast_slow_matrix, find_range\n",
    "# import matplotlib.pyplot as plt\n",
    "import datetime"
   ]
  },
  {
   "cell_type": "code",
   "execution_count": 32,
   "metadata": {},
   "outputs": [
    {
     "name": "stderr",
     "output_type": "stream",
     "text": [
      "python(52326) MallocStackLogging: can't turn off malloc stack logging because it was not enabled.\n"
     ]
    },
    {
     "name": "stdout",
     "output_type": "stream",
     "text": [
      "Collecting imageio\n",
      "  Downloading imageio-2.35.0-py3-none-any.whl.metadata (5.0 kB)\n",
      "Requirement already satisfied: numpy<2.0.0 in /Users/jamesemilian/miniforge3/envs/fastai/lib/python3.10/site-packages (from imageio) (1.26.3)\n",
      "Requirement already satisfied: pillow>=8.3.2 in /Users/jamesemilian/miniforge3/envs/fastai/lib/python3.10/site-packages (from imageio) (10.2.0)\n",
      "Downloading imageio-2.35.0-py3-none-any.whl (315 kB)\n",
      "\u001b[2K   \u001b[90m━━━━━━━━━━━━━━━━━━━━━━━━━━━━━━━━━━━━━━━━\u001b[0m \u001b[32m315.4/315.4 kB\u001b[0m \u001b[31m6.3 MB/s\u001b[0m eta \u001b[36m0:00:00\u001b[0ma \u001b[36m0:00:01\u001b[0m\n",
      "\u001b[?25hInstalling collected packages: imageio\n",
      "Successfully installed imageio-2.35.0\n"
     ]
    }
   ],
   "source": [
    "!pip install imageio"
   ]
  },
  {
   "cell_type": "code",
   "execution_count": 33,
   "metadata": {},
   "outputs": [],
   "source": [
    "from fusion.model import FusionModel\n",
    "from rgb.model import CNN3D\n",
    "from rf.model import RF_conv_decoder\n",
    "from utils.eval_fusion_je import eval_fusion_model\n",
    "from utils.utils_je import pulse_rate_from_power_spectral_density, extract_video\n",
    "from data.datasets_je import FusionEvalDatasetObject, FusionRunDatasetObject"
   ]
  },
  {
   "cell_type": "markdown",
   "metadata": {},
   "source": [
    "All necessary imports are ready! Break down the full gen_rgb_preds() func and see how the shape change."
   ]
  },
  {
   "cell_type": "markdown",
   "metadata": {},
   "source": [
    "What happens with the EP data sample? (5min)"
   ]
  },
  {
   "cell_type": "code",
   "execution_count": null,
   "metadata": {},
   "outputs": [],
   "source": []
  },
  {
   "cell_type": "code",
   "execution_count": null,
   "metadata": {},
   "outputs": [],
   "source": []
  },
  {
   "cell_type": "code",
   "execution_count": null,
   "metadata": {},
   "outputs": [],
   "source": []
  },
  {
   "cell_type": "markdown",
   "metadata": {},
   "source": [
    "What happens with the Chiron data sample?"
   ]
  },
  {
   "cell_type": "code",
   "execution_count": null,
   "metadata": {},
   "outputs": [],
   "source": []
  }
 ],
 "metadata": {
  "kernelspec": {
   "display_name": "fastai",
   "language": "python",
   "name": "python3"
  },
  "language_info": {
   "codemirror_mode": {
    "name": "ipython",
    "version": 3
   },
   "file_extension": ".py",
   "mimetype": "text/x-python",
   "name": "python",
   "nbconvert_exporter": "python",
   "pygments_lexer": "ipython3",
   "version": "3.10.12"
  }
 },
 "nbformat": 4,
 "nbformat_minor": 2
}
